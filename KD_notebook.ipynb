{
  "cells": [
    {
      "cell_type": "markdown",
      "metadata": {
        "id": "yJiPElLUN_Hs"
      },
      "source": [
        "# **Knowledge Distillation**"
      ]
    },
    {
      "cell_type": "markdown",
      "metadata": {
        "id": "IB2_p7KtOFh6"
      },
      "source": [
        "Francesco Marrocco"
      ]
    },
    {
      "cell_type": "markdown",
      "metadata": {
        "id": "zSCb7TYoQvYH"
      },
      "source": [
        "### ***0. Import dependencies and helper functions***"
      ]
    },
    {
      "cell_type": "code",
      "execution_count": 1,
      "metadata": {
        "id": "p0mPsBOSMlPc"
      },
      "outputs": [],
      "source": [
        "import glob\n",
        "import io\n",
        "import json\n",
        "import matplotlib.pyplot as plt\n",
        "import numpy as np\n",
        "import os\n",
        "import requests\n",
        "import torch\n",
        "import torch.nn as nn\n",
        "import torch.nn.functional as F\n",
        "import torch.optim as optim\n",
        "import torchvision\n",
        "import zipfile\n",
        "from io import BytesIO\n",
        "from IPython.display import Image\n",
        "from sklearn import datasets as sk_datasets\n",
        "from sklearn.model_selection import train_test_split\n",
        "from sklearn.preprocessing import StandardScaler\n",
        "from sklearn.tree import DecisionTreeClassifier\n",
        "from torch.utils.data import DataLoader, TensorDataset\n",
        "from torchvision import datasets, transforms"
      ]
    },
    {
      "cell_type": "code",
      "execution_count": 2,
      "metadata": {
        "id": "_9efo2eCSQRR"
      },
      "outputs": [],
      "source": [
        "def load_model_from_github(model_class, url, device, input_size = 28*28):\n",
        "    response = requests.get(url)\n",
        "    response.raise_for_status()\n",
        "    model = model_class(input_size)\n",
        "    model.load_state_dict(torch.load(BytesIO(response.content), map_location=torch.device(device), weights_only=False))\n",
        "    model.to(device)\n",
        "    return model"
      ]
    },
    {
      "cell_type": "code",
      "execution_count": 3,
      "metadata": {
        "colab": {
          "base_uri": "https://localhost:8080/"
        },
        "id": "JEWdBAmPSQRO",
        "outputId": "d4d97da2-1fcf-4ed2-fdad-e7167dbfa67c"
      },
      "outputs": [
        {
          "output_type": "stream",
          "name": "stdout",
          "text": [
            "cpu\n"
          ]
        }
      ],
      "source": [
        "device = torch.device(\"cuda\" if torch.cuda.is_available() else \"cpu\")\n",
        "print(device)"
      ]
    },
    {
      "cell_type": "markdown",
      "metadata": {
        "id": "hKd8JpGIwt6e"
      },
      "source": [
        "### ***1. Introduction***"
      ]
    },
    {
      "cell_type": "markdown",
      "metadata": {
        "id": "YeUpCL8kwt6f"
      },
      "source": [
        "Starting from 2012 with AlexNet, neural networks have gained increasing relevance in both research and industry. A neural network, as is well known, is composed of an **input layer**, an arbitrary number of **hidden layers**, and an **output layer**. In the specific case of classifier networks, the input layer gathers information directly from the object to be classified, the hidden layers perform matrix operations, leading to a certain vector in the output layer with as many elements as the possible classes in the classification task. The prediction is made by observing the logits, which are the elements of the output vector, looking for the value with the highest softmax. Empirically, it has been understood that increasingly deeper networks can guarantee higher prediction accuracy. However, this comes with a downside: to achieve significant improvement, the network must be much deeper, requiring more time to train and occupying considerable memory space in PCs or servers. For this reason, various techniques have been developed to at least reduce the memory space used, making these networks more portable. Among these techniques, **Parameter pruning and sharing** is notable for focusing on removing non-essential parameters from hidden layers; **Low-rank factorization**, which removes redundant parameters; and **Knowledge distillation**, which seeks to transfer information from larger, already trained models to smaller models during training. Among the most relevant papers on Knowledge distillation is Hinton's 2015 paper, which popularized this term for this type of technique."
      ]
    },
    {
      "cell_type": "code",
      "execution_count": 4,
      "metadata": {
        "cellView": "form",
        "colab": {
          "base_uri": "https://localhost:8080/",
          "height": 541
        },
        "id": "I59agPy1wt6g",
        "outputId": "1ec2666a-0e69-4e1b-fef9-053fcacca4a8"
      },
      "outputs": [
        {
          "output_type": "execute_result",
          "data": {
            "text/html": [
              "<img src=\"https://raw.github.com/FRAMAX444/Knowledge-Distillation/main/images_markdown/image_1.jpg\" width=\"900\" height=\"500\"/>"
            ],
            "text/plain": [
              "<IPython.core.display.Image object>"
            ]
          },
          "metadata": {},
          "execution_count": 4
        }
      ],
      "source": [
        "#@title 1. Example: CNN$^{11.5}$\n",
        "\n",
        "\n",
        "url = 'https://raw.github.com/FRAMAX444/Knowledge-Distillation/main/images_markdown/image_1.jpg'\n",
        "Image(url=url, width = 900, height = 500)\n"
      ]
    },
    {
      "cell_type": "markdown",
      "metadata": {
        "id": "bbtsTYwfwt6h"
      },
      "source": [
        "Referring to how the class is established, consider a special case as shown in Figure 1. The image, with dimensions 28x28x1 (as will frequently be used in this notebook), is acquired from the input layer. In the hidden layers, matrix operations are performed in order to abstract the features. This process allows the neural network to generate more and more abstract representations, which do not depend on specific images, thus making it possible to correctly classify even previously unseen data. The end result of this process is an output vector whose length corresponds to the total number of possible classes in the classification.\n",
        "\n",
        "The class attributed to the object is chosen from the output vector $x$ as follows:\n",
        "\n",
        "- Softmax is applied to the vector $x$\n",
        "\n",
        "$softmax(x)=[\\frac{e^{x_0}}{\\sum_i e^{x_i}}, \\frac{e^{x_1}}{\\sum_i e^{x_i}},..., \\frac{e^{x_n}}{\\sum_i e^{x_i}},]$\n",
        "\n",
        "That is, the output vector is normalised in such a way that the sum of all elements is $1$ obtaining a probability distribution.\n",
        "\n",
        "- The maximum value of $softmax(x)$ corresponding to the predicted class is chosen."
      ]
    },
    {
      "cell_type": "code",
      "execution_count": 5,
      "metadata": {
        "cellView": "form",
        "colab": {
          "base_uri": "https://localhost:8080/",
          "height": 441
        },
        "id": "GIAx58FXwt6i",
        "outputId": "07562bc6-97d5-4365-c022-be3e6bfc38d3"
      },
      "outputs": [
        {
          "output_type": "execute_result",
          "data": {
            "text/html": [
              "<img src=\"https://raw.github.com/FRAMAX444/Knowledge-Distillation/main/images_markdown/softmax_visual.png\" width=\"900\" height=\"400\"/>"
            ],
            "text/plain": [
              "<IPython.core.display.Image object>"
            ]
          },
          "metadata": {},
          "execution_count": 5
        }
      ],
      "source": [
        "#@title 2. Visualization of prediction process $^{11.6}$\n",
        "\n",
        "\n",
        "url = 'https://raw.github.com/FRAMAX444/Knowledge-Distillation/main/images_markdown/softmax_visual.png'\n",
        "Image(url=url, width = 900, height = 400)\n"
      ]
    },
    {
      "cell_type": "markdown",
      "metadata": {
        "id": "n0U5klngwt6i"
      },
      "source": [
        "In the example provided in Figure 2, the classifier is predicting dog with 71% certainity in the first row; horse with 98% in the second row and attributes the same probability to the third row for both dog and cat"
      ]
    },
    {
      "cell_type": "markdown",
      "metadata": {
        "id": "t6cvS9Fywt6i"
      },
      "source": [
        "Together with softmax it is common to use the **Negative Log-Likelihood (NLL)** defined as\n",
        "\n",
        "$L(y) = -log(y_i)$\n",
        "\n",
        "where $y_i$ is the probability that is assigned by $softmax(x)$ to the object at the i-th position knowing it to be the real value of the label. Thus the greater the confidence in predicting the correct class, the lower the loss.\n",
        "\n",
        "In PyTorch the log_softmax and nll_loss are both performed by nn.CrossEntropyLoss which, operating from the logits, calculates the loss. As will be the case in this notebook the networks are trained on batches of the dataset and in that case the CrossEntropyLoss is:\n",
        "\n",
        "$\\mathcal{H}(y, \\sigma(\\mathbf{z})) = - \\frac{1}{N}\\sum_{i=1}^N\\sum_{j=1}^{C} y_j \\log\\left(\\frac{\\exp(z_j)}{\\sum_{i=1}^{C} \\exp(z_i)}\\right)$\n",
        "\n",
        "$N=\\text{batch size}$\n",
        "\n",
        "$C=\\text{number of classes}$\n",
        "\n",
        "$y=\\text{true labels vector}$\n",
        "\n",
        "Therefore, since $y$ is always zero except for the true label the loss is (given $y_j = 1$)\n",
        "\n",
        "$\\mathcal{H}(\\sigma(\\mathbf{z})) = - \\frac{1}{N}\\sum_{j=1}^{N} \\log\\left(\\frac{\\exp(z_j)}{\\sum_{i=1}^{C} \\exp(z_i)}\\right)$"
      ]
    },
    {
      "cell_type": "markdown",
      "metadata": {
        "id": "vcVHqLvtwt6j"
      },
      "source": [
        "The key to **Knowledge Distillation (KD)** lies in modifying this loss by adding a term. As previously mentioned, this technique consists of using a larger and more accurate model (professor/teacher) to transmit knowledge to a smaller and theoretically less accurate one (student).\n",
        "\n",
        "\n",
        "Having the logits of the professor model as prior information, one can rewrite the loss by trying to both minimise the CrossEntropyLoss on the dataset and the distance between the two probability distributions provided as output by the models, using the Kullback-Leibler distance, defined as:\n",
        "\n",
        "$D_{KL} (P||Q)= \\sum_i P(i)log\\frac{P(i)}{Q(i)}$\n",
        "\n",
        "In the implementation, PyTorch greatly simplifies the use of $D_{KL}$, with the function `nn.KLDivLoss()` calculating the distance between the student's probabilities expressed through `log_softmax` and the teacher's probabilities with the classical `softmax`.The reason for this can be clearly seen if I rewrite $D_{KL}$ as follows:\n",
        "\n",
        "$D_{KL} (P||Q)= \\sum_i P(i) (log{P(i)}-log{Q(i)})$\n",
        "\n",
        "Making it evident that P is used in both `softmax` and `log_softmax` while Q is used only in `log_softmax`.The loss of $D_{KL}$ is called the **soft loss** which differs from the **hard loss** which is the name given to the loss with respect to *true labels*."
      ]
    },
    {
      "cell_type": "markdown",
      "metadata": {
        "id": "BW-xV2pDR_PI"
      },
      "source": [
        "Finally, I introduce two scalar terms that are of primary importance in the implementation of KD-based training algorithms, **temperature** and **$\\alpha$**.\n",
        "\n",
        " $1.$ The **temperature** is a\n",
        "term that modifies the distributions as follows and Figure 3 gives an easy interpretation.\n",
        "\n",
        "$p_i = \\frac{\\exp\\left(\\frac{z_{s,i}}{T}\\right)}{\\sum_j \\exp\\left(\\frac{z_{s,j}}{T}\\right)}, \\quad q_i = \\frac{\\exp\\left(\\frac{z_{t,i}}{T}\\right)}{\\sum_j \\exp\\left(\\frac{z_{t,j}}{T}\\right)}$\n",
        "\n",
        "Where $z_s$ is the student's distribution and $z_t$ that of the teacher.\n",
        "\n",
        "**Gradient of $D_{KL}$ with respect to the student's logits**.\n",
        "\n",
        "After introducing the temperature I look at its effect on the calculated gradient with respect to the student's logits $\\mathbf{z}_s$:\n",
        "\n",
        "- I consider $P(i) = \\sigma_i\\left(\\frac{\\mathbf{z}_t}{\\tau}\\right)$ e $Q(i) = \\sigma_i\\left(\\frac{\\mathbf{z}_s}{\\tau}\\right)$.\n",
        "\n",
        "- The softmax function can be differentiated as follows $^{11.8}$:\n",
        "\n",
        "$\\frac{\\partial \\sigma_i\\left(\\frac{z}{\\tau}\\right)}{\\partial z_j} = \\frac{1}{\\tau} \\sigma_i\\left(\\frac{z}{\\tau}\\right)\\left(\\delta_{ij} - \\sigma_j\\left(\\frac{z}{\\tau}\\right)\\right)\\propto \\frac{1}{\\tau}$\n",
        "\n",
        "- I now consider the gradient of the\n",
        " $D_{KL}$\n",
        "\n",
        "$\\frac{\\partial}{\\partial z_{s,i}} D_{KL}\\left(\\sigma\\left(\\frac{\\mathbf{z}_t}{\\tau}\\right) \\,\\|\\, \\sigma\\left(\\frac{\\mathbf{z}_s}{\\tau}\\right)\\right)$\n",
        "\n",
        "- To calculate this gradient we need the derivative of the logarithm\n",
        "\n",
        "$\\frac{\\partial}{\\partial z_{s,i}} \\log \\sigma_i\\left(\\frac{\\mathbf{z}_s}{\\tau}\\right) = \\frac{1}{\\sigma_i\\left(\\frac{\\mathbf{z}_s}{\\tau}\\right)} \\cdot \\frac{\\partial \\sigma_i\\left(\\frac{\\mathbf{z}_s}{\\tau}\\right)}{\\partial z_{s,i}} =  \\frac{1}{\\tau\\cdot \\sigma_i\\left(\\frac{\\mathbf{z}_s}{\\tau}\\right)}  \\cdot \\sigma_i\\left(\\frac{\\mathbf{z}_s}{\\tau}\\right)\\left(1 - \\sigma_i\\left(\\frac{\\mathbf{z}_s}{\\tau}\\right)\\right)\\propto \\frac{1}{\\tau}\n",
        "$\n",
        "\n",
        "- The overall gradient of $D_{KL}$ is proportional to the term of the log_softmax and the softmax therefore:\n",
        "\n",
        "$\\frac{\\partial}{\\partial z_{s,i}} D_{KL}\\left(\\sigma\\left(\\frac{\\mathbf{z}_t}{\\tau}\\right) \\,\\|\\, \\sigma\\left(\\frac{\\mathbf{z}_s}{\\tau}\\right)\\right) \\propto \\frac{1}{\\tau} \\cdot \\frac{1}{\\tau} = \\frac{1}{\\tau^2}$\n",
        "\n",
        "This makes, in theory, the hard loss more influential in the calculation of the next step of the algorithm because the soft is scaled by this term. Therefore, in the final formula combining the two losses (hard and soft), the soft loss is multiplied by $\\tau^2$ to counterbalance this effect\n"
      ]
    },
    {
      "cell_type": "code",
      "execution_count": 6,
      "metadata": {
        "cellView": "form",
        "colab": {
          "base_uri": "https://localhost:8080/",
          "height": 341
        },
        "id": "b5hhMAIiwt6j",
        "outputId": "51d2e431-6a02-40b6-bb1f-d5281136eb72"
      },
      "outputs": [
        {
          "output_type": "execute_result",
          "data": {
            "text/html": [
              "<img src=\"https://raw.github.com/FRAMAX444/Knowledge-Distillation/main/images_markdown/temperature_effect.png\" width=\"900\" height=\"300\"/>"
            ],
            "text/plain": [
              "<IPython.core.display.Image object>"
            ]
          },
          "metadata": {},
          "execution_count": 6
        }
      ],
      "source": [
        "#@title 3. Effects of temperature on a random distribution $^{11.7}$\n",
        "\n",
        "url = 'https://raw.github.com/FRAMAX444/Knowledge-Distillation/main/images_markdown/temperature_effect.png'\n",
        "Image(url=url, width = 900, height = 300)"
      ]
    },
    {
      "cell_type": "markdown",
      "metadata": {
        "id": "C7D7DaCP2GYI"
      },
      "source": [
        "$2.$ **Alpha** is a number between 0 and 1 that determines the importance given to each of the two losses in the calculation of the overall loss\n",
        "\n",
        "The overall distillation loss then is:\n",
        "\n",
        "$\\mathcal{L}_{\\text{distill}} = \\alpha \\cdot \\tau^2 \\cdot D_{KL}\\left(P\\left(\\frac{\\mathbf{z}_t}{\\tau}\\right) \\,\\middle\\|\\, Q\\left(\\frac{\\mathbf{z}_s}{\\tau}\\right)\\right) + (1 - \\alpha) \\cdot \\mathcal{H}(\\mathbf{y}, \\sigma(\\mathbf{z}_s))$"
      ]
    },
    {
      "cell_type": "markdown",
      "metadata": {
        "id": "vh4a3E3wwt6k"
      },
      "source": [
        "Now with many elements at our disposal we can begin the case study of KD but not before defining 4 variables that recur throughout the notebook and with which it is essential to familiarise ourselves for a complete understanding of the document.\n",
        "\n",
        " - **trained_models:** determines whether the models and networks that will be used are to be trained already (by importing them from GitHub) or re-trained. Important: trained_models = False in this document can lead to very long executions: the whole notebook would take about 100 hours. It is strongly recommended not to change this option except for quick tests; after all, the results would be identical, as the whole notebook is always seeded at the start of the codes.\n",
        "\n",
        " - **saved_results:** determines whether to import results from json files saved on GitHub; this is also recommended to keep it True as model tests take minutes and the notebook would take about 30 minutes/1 hour to run in full.\n",
        "\n",
        " - **import_models:** is an option unrelated to saved_results that allows you to still import models but use jsons to access test results if saved_results is set to True\n",
        "\n",
        " - **save_jsons:** allows jsons with results to be saved locally\n",
        "\n",
        " Finally, it is recommended to execute all the code in order as in many cases the same variables are taken after paragraphs."
      ]
    },
    {
      "cell_type": "code",
      "execution_count": 7,
      "metadata": {
        "id": "aRBqq8shmKW5"
      },
      "outputs": [],
      "source": [
        "trained_models = True\n",
        "saved_results = True\n",
        "import_models = False\n",
        "save_jsons = False"
      ]
    },
    {
      "cell_type": "markdown",
      "metadata": {
        "id": "pET_ke7TCgt3"
      },
      "source": [
        "### ***2. Knowledge Distillation***"
      ]
    },
    {
      "cell_type": "markdown",
      "metadata": {
        "id": "BPoohkC4Cgt3"
      },
      "source": [
        "As mentioned in the introduction, with Knowledge Distillation, an attempt is made to transmit acquired knowledge from a larger and more precise model to a smaller and less precise one. In the article *Knowledge Distillation: A Survey* (Gou, Yu, Maybank, Tao; 2021), various methods and potential improvements of this process are extensively discussed concerning:\n",
        "\n",
        "1. Which information from the teacher model is used as a knowledge parameter and thus passed on to the student (sec 2)\n",
        "2. Who is the teacher and who the student (sec 3)\n",
        "\n",
        "3. Various KD algorithms (sec 5)"
      ]
    },
    {
      "cell_type": "code",
      "execution_count": 8,
      "metadata": {
        "cellView": "form",
        "colab": {
          "base_uri": "https://localhost:8080/",
          "height": 0
        },
        "id": "FvyeLe7tCgt3",
        "outputId": "c9f1d194-2b51-4fbf-fbee-42ed5b989a91"
      },
      "outputs": [
        {
          "output_type": "execute_result",
          "data": {
            "text/html": [
              "<img src=\"https://raw.github.com/FRAMAX444/Knowledge-Distillation/main/images_markdown/kd_overview.png\" width=\"900\" height=\"450\"/>"
            ],
            "text/plain": [
              "<IPython.core.display.Image object>"
            ]
          },
          "metadata": {},
          "execution_count": 8
        }
      ],
      "source": [
        "#@title 4. Structure of the article by Gou, Yu, Maybank, Tao$^{11.1}$\n",
        "\n",
        "url = 'https://raw.github.com/FRAMAX444/Knowledge-Distillation/main/images_markdown/kd_overview.png'\n",
        "Image(url=url, width = 900, height = 450)"
      ]
    },
    {
      "cell_type": "markdown",
      "metadata": {
        "id": "Srh6KD0DCgt3"
      },
      "source": [
        "These are specifically the sections I will explore in this notebook.\n",
        "\n",
        "In terms of what teacher information is considered, there are instances of:\n",
        "\n",
        "- Response-Based Knowledge: Which calculates the $\\mathcal{L}_{\\text{distill}}$ based solely on logits\n",
        "\n",
        "- Feature-Based Knowledge: Which calculates $\\mathcal{L}_{\\text{distill}}$ based also on intermediate representations. In particular, in this notebook, this type of knowledge will be sought in the case of network training via Self-Distillation\n",
        "\n",
        "- Relation-Based Knowledge: This will not be seen in the notebook but consists of using, instead of some kind of logits (intermediate representations can also be seen as logits in one sense), the relations between the various layers"
      ]
    },
    {
      "cell_type": "code",
      "execution_count": 9,
      "metadata": {
        "cellView": "form",
        "colab": {
          "base_uri": "https://localhost:8080/",
          "height": 0
        },
        "id": "xfcLZjOeCgt4",
        "outputId": "fd86fde0-e64e-464d-dc86-b0e92ee83ca4"
      },
      "outputs": [
        {
          "output_type": "execute_result",
          "data": {
            "text/html": [
              "<img src=\"https://raw.github.com/FRAMAX444/Knowledge-Distillation/main/images_markdown/knowledges.png\" width=\"800\" height=\"500\"/>"
            ],
            "text/plain": [
              "<IPython.core.display.Image object>"
            ]
          },
          "metadata": {},
          "execution_count": 9
        }
      ],
      "source": [
        " #@title 5. Types of knowledge $^{11.1}$\n",
        "\n",
        "url = 'https://raw.github.com/FRAMAX444/Knowledge-Distillation/main/images_markdown/knowledges.png'\n",
        "Image(url=url, width = 800, height = 500)"
      ]
    },
    {
      "cell_type": "markdown",
      "metadata": {
        "id": "iTFDU527Cgt4"
      },
      "source": [
        "Moving on from the ‘types of knowledge’ I now focus on which model to choose as a teacher and which as a student. In fact, it is not always obvious or guaranteed to have a teacher and a student. The article ‘Knowledge Distillation: A Survey’ identifies 3 situations:\n",
        "\n",
        "- Offline Distillation: The classic one consisting of teacher and student with the teacher already trained\n",
        "\n",
        "- Online Distillation: Also here teacher and student are present but both are to be trained (or at least the teacher continues to train even if he has already received some prior training). It will not, however, be studied with examples in this notebook.\n",
        "\n",
        "- Self Distillation: In this case teacher and student coincide in a model that uses intermediate logits as the origin of the $\\mathcal{L}_{\\text{distill}}$"
      ]
    },
    {
      "cell_type": "code",
      "execution_count": 10,
      "metadata": {
        "cellView": "form",
        "colab": {
          "base_uri": "https://localhost:8080/",
          "height": 0
        },
        "id": "XHpH1HO4Cgt4",
        "outputId": "3305a36a-96e6-4bad-c6d6-60ede47440fc"
      },
      "outputs": [
        {
          "output_type": "execute_result",
          "data": {
            "text/html": [
              "<img src=\"https://raw.github.com/FRAMAX444/Knowledge-Distillation/main/images_markdown/types_of_teachers.png\" width=\"400\" height=\"350\"/>"
            ],
            "text/plain": [
              "<IPython.core.display.Image object>"
            ]
          },
          "metadata": {},
          "execution_count": 10
        }
      ],
      "source": [
        " #@title 6. Teacher-student relation $^{11.1}$\n",
        "\n",
        "url = 'https://raw.github.com/FRAMAX444/Knowledge-Distillation/main/images_markdown/types_of_teachers.png'\n",
        "Image(url=url, width = 400, height = 350)"
      ]
    },
    {
      "cell_type": "markdown",
      "metadata": {
        "id": "W46WG7owCgt4"
      },
      "source": [
        "Finally, one type of possible algorithm is Multi Teacher Knowledge Distillation (MTKD), where instead of using one teacher, one chooses to use many, theoretically increasing the quality of information passed as soft loss.\n"
      ]
    },
    {
      "cell_type": "code",
      "execution_count": 11,
      "metadata": {
        "cellView": "form",
        "colab": {
          "base_uri": "https://localhost:8080/",
          "height": 0
        },
        "id": "l9znGo37Cgt5",
        "outputId": "e8f29ca5-5fd6-46aa-a621-18d3718b9a99"
      },
      "outputs": [
        {
          "output_type": "execute_result",
          "data": {
            "text/html": [
              "<img src=\"https://raw.github.com/FRAMAX444/Knowledge-Distillation/main/images_markdown/MTKD.png\" width=\"900\" height=\"450\"/>"
            ],
            "text/plain": [
              "<IPython.core.display.Image object>"
            ]
          },
          "metadata": {},
          "execution_count": 11
        }
      ],
      "source": [
        " #@title 7. Multi-Teacher Knowledge Distillation$^{11.1}$\n",
        "\n",
        "url = 'https://raw.github.com/FRAMAX444/Knowledge-Distillation/main/images_markdown/MTKD.png'\n",
        "Image(url=url, width = 900, height = 450)"
      ]
    },
    {
      "cell_type": "markdown",
      "metadata": {
        "id": "Ss8LWY_JCgt5"
      },
      "source": [
        "MTKD and Self-Distillation will be given more attention in the dedicated paragraphs. I will now begin with a simple study of KD algorithms with teachers of various types"
      ]
    },
    {
      "cell_type": "markdown",
      "metadata": {
        "id": "arXTt27qcqDJ"
      },
      "source": [
        "### ***3. DecisionTreeClassifier***"
      ]
    },
    {
      "cell_type": "markdown",
      "metadata": {
        "id": "cy9cx1MHonD8"
      },
      "source": [
        "A first simple example of KD. First, I initialise a seed to make everything reproducible. I specify that everything has been trained and implemented in Google Colab, so there may be slight differences on other versions, but by importing the files from the dedicated GitHub everything becomes identical."
      ]
    },
    {
      "cell_type": "code",
      "execution_count": 12,
      "metadata": {
        "colab": {
          "base_uri": "https://localhost:8080/"
        },
        "id": "RgTqFt1lPzME",
        "outputId": "ab49d798-02c5-497e-a351-df058de94ad9"
      },
      "outputs": [
        {
          "output_type": "execute_result",
          "data": {
            "text/plain": [
              "<torch._C.Generator at 0x7cae3d348350>"
            ]
          },
          "metadata": {},
          "execution_count": 12
        }
      ],
      "source": [
        "torch.manual_seed(0)"
      ]
    },
    {
      "cell_type": "markdown",
      "metadata": {
        "id": "s84s5RcVpObl"
      },
      "source": [
        "For this case I use sklearn's Iris dataset, an example of which I give below. Note that it is not a dataset of images but of 4 numerical values identifying a flower, and the task of the algorithms is to associate each list with the corresponding flower."
      ]
    },
    {
      "cell_type": "code",
      "execution_count": 13,
      "metadata": {
        "cellView": "form",
        "colab": {
          "base_uri": "https://localhost:8080/",
          "height": 462
        },
        "id": "6NOMMXUZYgfx",
        "outputId": "3e221a00-8f68-4d6a-88d0-ba31846c0d55"
      },
      "outputs": [
        {
          "output_type": "stream",
          "name": "stdout",
          "text": [
            "[6.3 3.3 6.  2.5]\n"
          ]
        },
        {
          "output_type": "display_data",
          "data": {
            "text/plain": [
              "<Figure size 600x400 with 1 Axes>"
            ],
            "image/png": "[encoded data removed]"
          },
          "metadata": {}
        },
        {
          "output_type": "stream",
          "name": "stdout",
          "text": [
            "Random Sample Features: [6.3 3.3 6.  2.5]\n",
            "Corresponding Label: virginica\n"
          ]
        }
      ],
      "source": [
        "#@title Iris Dataset\n",
        "\n",
        "iris = sk_datasets.load_iris()\n",
        "\n",
        "sample = iris.data[100]\n",
        "label = iris.target[100]\n",
        "print(sample)\n",
        "\n",
        "plt.figure(figsize=(6, 4))\n",
        "plt.scatter(range(len(sample)), sample, c='blue', marker='o')\n",
        "plt.title(f'Iris Sample {100} - Class: {iris.target_names[label]}')\n",
        "plt.xlabel('Feature Index')\n",
        "plt.ylabel('Feature Value')\n",
        "plt.grid(True)\n",
        "plt.show()\n",
        "\n",
        "print(f'Random Sample Features: {sample}')\n",
        "print(f'Corresponding Label: {iris.target_names[label]}')"
      ]
    },
    {
      "cell_type": "code",
      "execution_count": 14,
      "metadata": {
        "cellView": "form",
        "id": "OiSsEKUgYgfx"
      },
      "outputs": [],
      "source": [
        "#@title Data preparation\n",
        "\n",
        "X_train, X_test, y_train, y_test = train_test_split(iris.data, iris.target, test_size=0.2, random_state=0)\n",
        "\n",
        "scaler = StandardScaler()\n",
        "X_train = scaler.fit_transform(X_train)\n",
        "X_test = scaler.transform(X_test)"
      ]
    },
    {
      "cell_type": "markdown",
      "metadata": {
        "id": "NDRDqmTcqYy3"
      },
      "source": [
        "Defining the teacher model. Here I use sklearn's version of `DecisionTreeClassifier()`, and check its accuracy through the `.score()` method. I find this useful as a first test, since it is a completely non-neural structure. Although this may seem absurd since a decision tree has no logits for distillation loss, sklearn with the method `.preict_proba()` provides a practically equivalent solution to extracting logits from a model.\n"
      ]
    },
    {
      "cell_type": "code",
      "execution_count": 15,
      "metadata": {
        "colab": {
          "base_uri": "https://localhost:8080/"
        },
        "id": "akb6r-9KYgfx",
        "outputId": "817da0e3-af54-4195-8ecd-869a0a149d33"
      },
      "outputs": [
        {
          "output_type": "stream",
          "name": "stdout",
          "text": [
            "Teacher Model Accuracy: 100.00%\n"
          ]
        }
      ],
      "source": [
        "teacher_model1 = DecisionTreeClassifier()\n",
        "teacher_model1.fit(X_train, y_train)\n",
        "\n",
        "teacher_accuracy = 100 * teacher_model1.score(X_test, y_test)\n",
        "print(f'Teacher Model Accuracy: {teacher_accuracy:.2f}%')\n",
        "\n",
        "teacher_logits = teacher_model1.predict_proba(X_train)\n",
        "\n",
        "X_train_tensor = torch.tensor(X_train, dtype=torch.float32)\n",
        "y_train_tensor = torch.tensor(y_train, dtype=torch.long)\n",
        "teacher_logits_tensor = torch.tensor(teacher_logits, dtype=torch.float32)"
      ]
    },
    {
      "cell_type": "markdown",
      "metadata": {
        "id": "2ryA6QcBopRF"
      },
      "source": [
        "Let's now take a look at the elements that will be used as training sets thanks to the batch division operated by the DataLoader"
      ]
    },
    {
      "cell_type": "code",
      "execution_count": 16,
      "metadata": {
        "cellView": "form",
        "colab": {
          "base_uri": "https://localhost:8080/"
        },
        "id": "VB62oKB2PdHJ",
        "outputId": "39c192ac-7546-4c5a-de3b-73530e17ebab"
      },
      "outputs": [
        {
          "output_type": "stream",
          "name": "stdout",
          "text": [
            "X_batch (features):\n",
            " tensor([[-1.7486,  0.3410, -1.4154, -1.3362],\n",
            "        [-0.2135, -0.3565,  0.2161,  0.0885],\n",
            "        [ 1.2034,  0.1085,  0.8913,  1.1246],\n",
            "        [-0.0954, -0.8215,  0.7225,  0.8656],\n",
            "        [-0.9220,  1.7360, -1.2466, -1.3362],\n",
            "        [ 0.0226,  0.3410,  0.5537,  0.7361],\n",
            "        [-1.5124,  0.1085, -1.3029, -1.3362],\n",
            "        [ 0.1407, -1.9840,  0.6662,  0.3475],\n",
            "        [-1.0401,  0.3410, -1.4717, -1.3362],\n",
            "        [ 0.3769, -1.9840,  0.3849,  0.3475],\n",
            "        [-0.9220,  0.5735, -1.1904, -0.9476],\n",
            "        [-0.4497, -1.2865,  0.1036,  0.0885],\n",
            "        [-0.5678,  1.5035, -1.3029, -1.3362],\n",
            "        [-1.0401,  1.0385, -1.2466, -0.8181],\n",
            "        [-0.4497, -1.5190, -0.0089, -0.1705],\n",
            "        [-0.3316, -0.8215,  0.2161,  0.0885]])\n",
            "\n",
            "y_batch (labels):\n",
            " tensor([0, 1, 2, 2, 0, 1, 0, 2, 0, 1, 0, 1, 0, 0, 1, 1])\n",
            "\n",
            "teacher_logits_batch (logits from teacher):\n",
            " tensor([[1., 0., 0.],\n",
            "        [0., 1., 0.],\n",
            "        [0., 0., 1.],\n",
            "        [0., 0., 1.],\n",
            "        [1., 0., 0.],\n",
            "        [0., 1., 0.],\n",
            "        [1., 0., 0.],\n",
            "        [0., 0., 1.],\n",
            "        [1., 0., 0.],\n",
            "        [0., 1., 0.],\n",
            "        [1., 0., 0.],\n",
            "        [0., 1., 0.],\n",
            "        [1., 0., 0.],\n",
            "        [1., 0., 0.],\n",
            "        [0., 1., 0.],\n",
            "        [0., 1., 0.]])\n"
          ]
        }
      ],
      "source": [
        "#@title Dataloader\n",
        "\n",
        "train_dataset = TensorDataset(X_train_tensor, y_train_tensor, teacher_logits_tensor)\n",
        "train_loader_iris = DataLoader(train_dataset, batch_size=16, shuffle=True)\n",
        "\n",
        "for batch in train_loader_iris:\n",
        "    X_batch, y_batch, teacher_logits_batch = batch\n",
        "    print(\"X_batch (features):\\n\", X_batch)\n",
        "    print(\"\\ny_batch (labels):\\n\", y_batch)\n",
        "    print(\"\\nteacher_logits_batch (logits from teacher):\\n\", teacher_logits_batch)\n",
        "    break"
      ]
    },
    {
      "cell_type": "markdown",
      "metadata": {
        "id": "v_b30e5RpgsC"
      },
      "source": [
        "I immediately notice an important feature. The probabilities created by `.preict_proba()` are very strong: in no case do I observe probabilities, in what I could define as the logits of the model (to which softmax has already been applied, however), lower than 1. This leads me to suppose a strong help that this model will be able to give to the students in the training phase.\n",
        "\n",
        "I now define the student model, a very small neural network consisting only of an input, a hidden and an output layer. I also define two instances with which I first test the KD"
      ]
    },
    {
      "cell_type": "code",
      "execution_count": 17,
      "metadata": {
        "id": "wKZ7Xcy6PgHw"
      },
      "outputs": [],
      "source": [
        "class StudentNet(nn.Module):\n",
        "    def __init__(self, input_size = 4):\n",
        "        super(StudentNet, self).__init__()\n",
        "        self.fc1 = nn.Linear(input_size, 10)\n",
        "        self.fc2 = nn.Linear(10, 3)\n",
        "\n",
        "    def forward(self, x):\n",
        "        x = torch.relu(self.fc1(x))\n",
        "        x = self.fc2(x)\n",
        "        return x\n",
        "\n",
        "student_model_no_kd_non_neural_0 = StudentNet()\n",
        "student_model_with_kd_non_neural_0 = StudentNet()"
      ]
    },
    {
      "cell_type": "code",
      "execution_count": 18,
      "metadata": {
        "cellView": "form",
        "id": "7tjZ-XDgPoNB"
      },
      "outputs": [],
      "source": [
        "#@title Training and testing functions for Iris Dataset\n",
        "\n",
        "def distillation_loss(student_logits, teacher_logits, targets, alpha=0.5, temperature=2.0):\n",
        "    soft_targets = nn.functional.softmax(teacher_logits / temperature, dim=1)\n",
        "    soft_student_logits = nn.functional.log_softmax(student_logits / temperature, dim=1)\n",
        "    distillation_loss = nn.functional.kl_div(soft_student_logits, soft_targets, reduction='batchmean') * (temperature ** 2)\n",
        "    hard_loss = nn.functional.cross_entropy(student_logits, targets)\n",
        "    return alpha * distillation_loss + (1 - alpha) * hard_loss\n",
        "\n",
        "def train_student_model1(model, use_kd=False, num_epochs=50):\n",
        "    optimizer = optim.Adam(model.parameters(), lr=0.001)\n",
        "    for epoch in range(num_epochs):\n",
        "        model.train()\n",
        "        running_loss = 0.0\n",
        "        for inputs, targets, teacher_logits in train_loader_iris:\n",
        "            optimizer.zero_grad()\n",
        "            student_logits = model(inputs)\n",
        "            if use_kd:\n",
        "                loss = distillation_loss(student_logits, teacher_logits, targets)\n",
        "            else:\n",
        "                loss = nn.functional.cross_entropy(student_logits, targets)\n",
        "            loss.backward()\n",
        "            optimizer.step()\n",
        "            running_loss += loss.item() * inputs.size(0)\n",
        "        epoch_loss = running_loss / len(train_loader_iris.dataset)\n",
        "\n",
        "def test1(student_model_no_kd, X_test, y_test):\n",
        "    with torch.no_grad():\n",
        "        X_test_tensor = torch.tensor(X_test, dtype=torch.float32)\n",
        "        student_logits_test_no_kd = student_model_no_kd(X_test_tensor)\n",
        "        student_predictions_no_kd = torch.argmax(student_logits_test_no_kd, dim=1).numpy()\n",
        "        student_accuracy_no_kd = 100 * (student_predictions_no_kd == y_test).mean()\n",
        "    return student_accuracy_no_kd"
      ]
    },
    {
      "cell_type": "markdown",
      "metadata": {
        "id": "ZMGcQDVItBt8"
      },
      "source": [
        "With the functions defined above, I do a quick test by training the two previously defined instances using the normal training algorithm in the first case and training with KD in the second."
      ]
    },
    {
      "cell_type": "code",
      "execution_count": 19,
      "metadata": {
        "cellView": "form",
        "colab": {
          "base_uri": "https://localhost:8080/"
        },
        "id": "DuLqF-ikPsVe",
        "outputId": "68bddcd6-a7ff-4283-fde5-5df5158e1a6d"
      },
      "outputs": [
        {
          "output_type": "stream",
          "name": "stdout",
          "text": [
            "Student Model Accuracy without KD: 83.33%\n",
            "Student Model Accuracy with KD: 73.33%\n"
          ]
        }
      ],
      "source": [
        "#@title Test of the 2 models\n",
        "\n",
        "if not saved_results:\n",
        "    train_student_model1(student_model_no_kd_non_neural_0, use_kd=False)\n",
        "    train_student_model1(student_model_with_kd_non_neural_0, use_kd=True, num_epochs=50)\n",
        "\n",
        "    student_accuracy_no_kd_0 = test1(student_model_no_kd_non_neural_0, X_test, y_test)\n",
        "    student_accuracy_with_kd_0 = test1(student_model_with_kd_non_neural_0, X_test, y_test)\n",
        "\n",
        "    print(f\"Student Model Accuracy without KD: {student_accuracy_no_kd_0:.2f}%\")\n",
        "    print(f'Student Model Accuracy with KD: {student_accuracy_with_kd_0:.2f}%')\n",
        "else:\n",
        "    json_url = \"https://raw.github.com/FRAMAX444/Knowledge-Distillation/main/saved_results/dt1.json\"\n",
        "    try:\n",
        "        response = requests.get(json_url)\n",
        "        nnkd = response.json()\n",
        "        print(f\"Student Model Accuracy without KD: {nnkd['no_kd']}%\")\n",
        "        print(f\"Student Model Accuracy with KD: {nnkd['kd']}%\")\n",
        "    except requests.exceptions.RequestException as e:\n",
        "        print(f\"Error fetching JSON: {e}\")"
      ]
    },
    {
      "cell_type": "markdown",
      "metadata": {
        "id": "-OG8RD2Hth05"
      },
      "source": [
        "KD did not improve accuracy... But maybe this is a special case? I will test with many more models to see if it is a case"
      ]
    },
    {
      "cell_type": "code",
      "execution_count": 20,
      "metadata": {
        "cellView": "form",
        "colab": {
          "base_uri": "https://localhost:8080/"
        },
        "id": "kWwPwuRDomMK",
        "outputId": "11d68b24-9c42-43d4-a7fc-a86da8f25156"
      },
      "outputs": [
        {
          "output_type": "stream",
          "name": "stdout",
          "text": [
            "Student Model without KD Accuracy: 85.28%\n",
            "Student Model with KD Accuracy: 86.50%\n"
          ]
        }
      ],
      "source": [
        "#@title 100 iterations\n",
        "\n",
        "student_no_kd = 0\n",
        "student_with_kd = 0\n",
        "models_non_neural_no_KD = []\n",
        "models_non_neural_with_KD = []\n",
        "num_iterations = 101\n",
        "if not saved_results:\n",
        "    results_no_KD = {}\n",
        "    results_KD = {}\n",
        "\n",
        "    if not trained_models:\n",
        "        for _ in range(num_iterations):\n",
        "            torch.manual_seed(_)\n",
        "            student_model_no_kd = StudentNet()\n",
        "            student_model_with_kd = StudentNet()\n",
        "            X_train, X_test, y_train, y_test = train_test_split(iris.data, iris.target, test_size=0.2, random_state=_)\n",
        "            X_train = scaler.fit_transform(X_train)\n",
        "            X_test = scaler.transform(X_test)\n",
        "\n",
        "            train_student_model1(student_model_no_kd, use_kd=False)\n",
        "            student_accuracy_no_kd = test1(student_model_no_kd, X_test, y_test)\n",
        "            student_no_kd += student_accuracy_no_kd\n",
        "            torch.save(student_model_no_kd.state_dict(), f'student_model_no_kd_non_neural_{_}.pth')\n",
        "\n",
        "            train_student_model1(student_model_with_kd, use_kd=True)\n",
        "            student_accuracy_with_kd = test1(student_model_with_kd, X_test, y_test)\n",
        "            student_with_kd += student_accuracy_with_kd\n",
        "            torch.save(student_model_with_kd.state_dict(), f'student_model_with_kd_non_neural_{_}.pth')\n",
        "\n",
        "            with zipfile.ZipFile('non_neural_models.zip', 'a') as zipf:\n",
        "                zipf.write(f'student_model_no_kd_non_neural_{_}.pth')\n",
        "                zipf.write(f'student_model_with_kd_non_neural_{_}.pth')\n",
        "\n",
        "            results_no_KD[_] = student_accuracy_no_kd\n",
        "            results_KD[_] = student_accuracy_with_kd\n",
        "\n",
        "            if import_models:\n",
        "                models_non_neural_no_KD.append(student_model_no_kd)\n",
        "                models_non_neural_with_KD.append(student_model_with_kd)\n",
        "\n",
        "    else:\n",
        "        for i in range(num_iterations):\n",
        "            torch.manual_seed(i)\n",
        "            X_train, X_test, y_train, y_test = train_test_split(iris.data, iris.target, test_size=0.2, random_state=i)\n",
        "            X_train = scaler.fit_transform(X_train)\n",
        "            X_test = scaler.transform(X_test)\n",
        "\n",
        "            student_model_no_kd = load_model_from_github(StudentNet, f'https://raw.github.com/FRAMAX444/Knowledge-Distillation/main/neural_networks/non_neural_models/student_model_no_kd_non_neural_{i}.pth', device, 4)\n",
        "            acc1 = test1(student_model_no_kd, X_test, y_test)\n",
        "            student_no_kd += acc1\n",
        "\n",
        "            student_model_with_kd = load_model_from_github(StudentNet, f'https://raw.github.com/FRAMAX444/Knowledge-Distillation/main/neural_networks/non_neural_models/student_model_with_kd_non_neural_{i}.pth', device, 4)\n",
        "            acc2 = test1(student_model_with_kd, X_test, y_test)\n",
        "            student_with_kd += acc2\n",
        "\n",
        "            results_no_KD[i] = acc1\n",
        "            results_KD[i] = acc2\n",
        "\n",
        "            if import_models:\n",
        "                models_non_neural_no_KD.append(student_model_no_kd)\n",
        "                models_non_neural_with_KD.append(student_model_with_kd)\n",
        "\n",
        "    if save_jsons:\n",
        "        with open('Non_Neural_no_KD.json', 'w') as json_file:\n",
        "            json.dump(results_no_KD, json_file, indent=4)\n",
        "        with open('Non_Neural_with_KD.json', 'w') as json_file:\n",
        "            json.dump(results_KD, json_file, indent=4)\n",
        "\n",
        "else:\n",
        "    url_no_kd = 'https://raw.github.com/FRAMAX444/Knowledge-Distillation/main/saved_results/Non_Neural_no_KD.json'\n",
        "    url_kd = 'https://raw.github.com/FRAMAX444/Knowledge-Distillation/main/saved_results/Non_Neural_with_KD.json'\n",
        "\n",
        "    response_no_kd = requests.get(url_no_kd)\n",
        "    results_no_KD = json.loads(response_no_kd.text)\n",
        "\n",
        "    response_kd = requests.get(url_kd)\n",
        "    results_KD = json.loads(response_kd.text)\n",
        "\n",
        "    student_no_kd = 0\n",
        "    student_with_kd = 0\n",
        "\n",
        "    for file, avg in results_no_KD.items():\n",
        "        student_no_kd += avg\n",
        "\n",
        "    for file, avg in results_KD.items():\n",
        "        student_with_kd += avg\n",
        "\n",
        "    if import_models:\n",
        "        for i in range(num_iterations):\n",
        "            nKD = load_model_from_github(StudentNet, f'https://raw.github.com/FRAMAX444/Knowledge-Distillation/main/neural_networks/non_neural_models/student_model_no_kd_non_neural_{i}.pth', device, 4)\n",
        "            wKD = load_model_from_github(StudentNet, f'https://raw.github.com/FRAMAX444/Knowledge-Distillation/main/neural_networks/non_neural_models/student_model_with_kd_non_neural_{i}.pth', device, 4)\n",
        "            models_non_neural_no_KD.append(nKD)\n",
        "            models_non_neural_with_KD.append(wKD)\n",
        "\n",
        "student_no_kd /= num_iterations\n",
        "student_with_kd /= num_iterations\n",
        "\n",
        "print(f'Student Model without KD Accuracy: {student_no_kd:.2f}%')\n",
        "print(f'Student Model with KD Accuracy: {student_with_kd:.2f}%')\n"
      ]
    },
    {
      "cell_type": "markdown",
      "metadata": {
        "id": "1O1GmX3Ytvxx"
      },
      "source": [
        "So yes, KD has indeed improved accuracy and by a lot, gaining more than 1% accuracy on a model that would already have had fairly high accuracy."
      ]
    },
    {
      "cell_type": "markdown",
      "metadata": {
        "id": "8x9OBo8Mwt6k"
      },
      "source": [
        "### ***4. Logistic regression models***"
      ]
    },
    {
      "cell_type": "markdown",
      "metadata": {
        "id": "5vkfWo91WeyF"
      },
      "source": [
        "I now continue the study with logistical regression models. In this case I choose MNIST as a dataset consisting of 10 possible classes (numbers 1 to 10) and the objective of the classifier is to associate 28x28 pixel images of handwritten numbers with the corresponding class."
      ]
    },
    {
      "cell_type": "code",
      "execution_count": 21,
      "metadata": {
        "colab": {
          "base_uri": "https://localhost:8080/",
          "height": 452
        },
        "id": "3Ob0y2aZCguD",
        "outputId": "be3bba3d-ab8e-42b1-8974-d30c6d9eb21c",
        "cellView": "form"
      },
      "outputs": [
        {
          "output_type": "display_data",
          "data": {
            "text/plain": [
              "<Figure size 640x480 with 1 Axes>"
            ],
            "image/png": "[encoded data removed]"
          },
          "metadata": {}
        }
      ],
      "source": [
        "#@title MNIST\n",
        "\n",
        "transform = transforms.Compose([transforms.ToTensor()])\n",
        "mnist = datasets.MNIST(root='./data', train=False, download=True, transform=transform)\n",
        "image, label = mnist[100]\n",
        "image = image.squeeze().numpy()\n",
        "\n",
        "plt.imshow(image, cmap='gray')\n",
        "plt.title(f'Label: {label}')\n",
        "plt.show()"
      ]
    },
    {
      "cell_type": "markdown",
      "metadata": {
        "id": "cG9WUMj1CguD"
      },
      "source": [
        "I start, as always, by importing the dataset for the train and applying normalisation to it."
      ]
    },
    {
      "cell_type": "code",
      "execution_count": 22,
      "metadata": {
        "id": "A0eu4VYT2r4C"
      },
      "outputs": [],
      "source": [
        "transform = transforms.Compose([\n",
        "    transforms.ToTensor(),\n",
        "    transforms.Normalize((0.5,), (0.5,))\n",
        "])\n",
        "\n",
        "mnist_train = datasets.MNIST(root='mnist_data', train=True, download=True, transform=transform)\n",
        "mnist_test = datasets.MNIST(root='mnist_data', train=False, download=True, transform=transform)\n",
        "\n",
        "batch_size = 64\n",
        "train_loaderMNIST = DataLoader(mnist_train, batch_size=batch_size, shuffle=True)\n",
        "test_loaderMNIST = DataLoader(mnist_test, batch_size=batch_size, shuffle=False)"
      ]
    },
    {
      "cell_type": "markdown",
      "metadata": {
        "id": "u5EnajXqXaDA"
      },
      "source": [
        "I define slightly different training and testing functions than before, designed for larger models to provide more flexibility in training: instead of entering `teacher_logits` into the `DataLoader`, I have them calculated dynamically when needed. This will allow me more flexibility in the rest of the document by being able to use many different models as teachers.\n",
        "\n",
        "Also, training by hard loss only and training by a combination of hard and soft loss is now done by 2 separate functions."
      ]
    },
    {
      "cell_type": "code",
      "execution_count": 23,
      "metadata": {
        "cellView": "form",
        "id": "jyFZn9fT-Dn3"
      },
      "outputs": [],
      "source": [
        "#@title New training e testing functions $^{11.4}$\n",
        "\n",
        "def train(model, epochs, train_loader):\n",
        "    criterion = nn.CrossEntropyLoss()\n",
        "    optimizer = optim.Adam(model.parameters(), lr=0.001)\n",
        "\n",
        "    model.train()\n",
        "\n",
        "    for epoch in range(epochs):\n",
        "        running_loss = 0.0\n",
        "        for inputs, labels in train_loader:\n",
        "\n",
        "            inputs, labels = inputs.to(device), labels.to(device)\n",
        "\n",
        "            optimizer.zero_grad()\n",
        "            outputs = model(inputs)\n",
        "\n",
        "            loss = criterion(outputs, labels)\n",
        "            loss.backward()\n",
        "            optimizer.step()\n",
        "\n",
        "            running_loss += loss.item()\n",
        "\n",
        "        print(f\"Epoch {epoch+1}/{epochs}, Loss: {running_loss / len(train_loader)}\")\n",
        "\n",
        "    return model\n",
        "\n",
        "def test_model(model, test_loader):\n",
        "    model.eval()\n",
        "    correct = 0\n",
        "    with torch.no_grad():\n",
        "        for data, target in test_loader:\n",
        "            data, target = data.to(device), target.to(device)\n",
        "            output = model(data)\n",
        "            pred = output.argmax(dim=1, keepdim=True)\n",
        "            correct += pred.eq(target.view_as(pred)).sum().item()\n",
        "\n",
        "    accuracy = 100 * correct / len(test_loader.dataset)\n",
        "    print(f\"Test Accuracy: {accuracy:.2f}%\")\n",
        "    return float(f\"{accuracy:.2f}\")\n",
        "\n",
        "def train_student_model(teacher, student, train_loader, epochs = 10, alpha=0.5, T=2.0):\n",
        "    ce_loss = nn.CrossEntropyLoss()\n",
        "    optimizer = optim.Adam(student.parameters(), lr=0.001)\n",
        "\n",
        "    teacher.eval()\n",
        "    student.train()\n",
        "\n",
        "    for epoch in range(epochs):\n",
        "        running_loss = 0.0\n",
        "        for inputs, labels in train_loader:\n",
        "            inputs, labels = inputs.to(device), labels.to(device)\n",
        "\n",
        "            optimizer.zero_grad()\n",
        "\n",
        "            with torch.no_grad():\n",
        "                teacher_logits = teacher(inputs)\n",
        "\n",
        "            student_logits = student(inputs)\n",
        "            soft_targets = nn.functional.softmax(teacher_logits / T, dim=-1)\n",
        "            soft_prob = nn.functional.log_softmax(student_logits / T, dim=-1)\n",
        "            soft_targets_loss = nn.KLDivLoss()(soft_prob, soft_targets) * (T**2)\n",
        "            label_loss = ce_loss(student_logits, labels)\n",
        "            loss = alpha * soft_targets_loss + (1 - alpha) * label_loss\n",
        "\n",
        "            loss.backward()\n",
        "            optimizer.step()\n",
        "\n",
        "            running_loss += loss.item()\n",
        "\n",
        "        print(f\"Epoch {epoch + 1}/{epochs}, Loss: {running_loss / len(train_loader)}\")\n",
        "\n",
        "    return student\n"
      ]
    },
    {
      "cell_type": "markdown",
      "metadata": {
        "id": "aictRoLxCguF"
      },
      "source": [
        "Now it is time to define the new model. In this case I define from scratch a logistic regression model that will serve me as both teacher and student. Since it is the same model, it is not obvious how to create a more experienced teacher."
      ]
    },
    {
      "cell_type": "code",
      "execution_count": 24,
      "metadata": {
        "id": "MU8Yw7etwt6k"
      },
      "outputs": [],
      "source": [
        "class LogisticRegression(torch.nn.Module):\n",
        "\n",
        "    def __init__(self, n_inputs = 28*28, n_outputs = 10):\n",
        "        super(LogisticRegression, self).__init__()\n",
        "        self.linear = torch.nn.Linear(n_inputs, n_outputs)\n",
        "        self.n_inputs = n_inputs\n",
        "\n",
        "    def forward(self, x):\n",
        "        x = x.view(-1, self.n_inputs)\n",
        "        y_pred = torch.sigmoid(self.linear(x))\n",
        "        return y_pred"
      ]
    },
    {
      "cell_type": "markdown",
      "metadata": {
        "id": "GIp3AQ1WCguF"
      },
      "source": [
        "To overcome the problem described above, I train the teacher model on the dataset for 10 epochs while the student model for only one. In addition, as in the Decision Tree, I also train a model with only the hard loss as a baseline"
      ]
    },
    {
      "cell_type": "code",
      "execution_count": 25,
      "metadata": {
        "cellView": "form",
        "colab": {
          "base_uri": "https://localhost:8080/"
        },
        "id": "LHnPf84hEB4p",
        "outputId": "ceb01c3a-01a6-43a9-e8e8-0024f492be2f"
      },
      "outputs": [
        {
          "output_type": "stream",
          "name": "stdout",
          "text": [
            "Test accuracy teacher: 90.88%\n",
            "Test accuracy student: 89.18%\n",
            "Test accuracy baseline: 88.46%\n"
          ]
        }
      ],
      "source": [
        "#@title Training and testing logistic regression models\n",
        "\n",
        "prefix_url = 'https://raw.github.com/FRAMAX444/Knowledge-Distillation/main/neural_networks/LogisticRegression/LogisticRegression'\n",
        "json_url = 'https://raw.github.com/FRAMAX444/Knowledge-Distillation/main/saved_results/LogisticRegression.json'\n",
        "\n",
        "torch.manual_seed(0)\n",
        "\n",
        "logistic_reg_models = []\n",
        "\n",
        "if not saved_results:\n",
        "    if not trained_models:\n",
        "\n",
        "        teacher_model = LogisticRegression().to(device)\n",
        "        student_model = LogisticRegression().to(device)\n",
        "        baseline_model = LogisticRegression().to(device)\n",
        "\n",
        "        teacher_model = train(teacher_model, 10, train_loaderMNIST)\n",
        "        student_model = train_student_model(teacher_model, student_model, train_loaderMNIST, 1, 0.5, 2.0)\n",
        "        baseline_model = train(baseline_model, 1, train_loaderMNIST)\n",
        "\n",
        "        torch.save(teacher_model.state_dict(), 'LogisticRegressionTeacher.pth')\n",
        "        torch.save(student_model.state_dict(), 'LogisticRegressionStudent.pth')\n",
        "        torch.save(baseline_model.state_dict(), 'LogisticRegressionSmaller.pth')\n",
        "\n",
        "        teacher_accuracy = test_model(teacher_model, test_loaderMNIST)\n",
        "        student_accuracy = test_model(student_model, test_loaderMNIST)\n",
        "        baseline_accuracy = test_model(baseline_model, test_loaderMNIST)\n",
        "\n",
        "        with zipfile.ZipFile('LogisticRegression.zip', 'a') as zipf:\n",
        "            zipf.write('LogisticRegressionTeacher.pth')\n",
        "            zipf.write('LogisticRegressionStudent.pth')\n",
        "            zipf.write('LogisticRegressionSmaller.pth')\n",
        "    else:\n",
        "        teacher_model = load_model_from_github(LogisticRegression, prefix_url+'Teacher.pth', device)\n",
        "        student_model = load_model_from_github(LogisticRegression, prefix_url+'Student.pth', device)\n",
        "        baseline_model = load_model_from_github(LogisticRegression, prefix_url+'Smaller.pth', device)\n",
        "\n",
        "        teacher_accuracy = test_model(teacher_model, test_loaderMNIST)\n",
        "        student_accuracy = test_model(student_model, test_loaderMNIST)\n",
        "        baseline_accuracy = test_model(baseline_model, test_loaderMNIST)\n",
        "\n",
        "    if save_jsons:\n",
        "        try:\n",
        "            with open('LogisticRegression.json', 'r') as json_file:\n",
        "                data = json.load(json_file)\n",
        "        except FileNotFoundError:\n",
        "            data = {}\n",
        "\n",
        "        if 'LogisticRegressionTeacher.pth' not in data:\n",
        "            data['LogisticRegressionTeacher.pth'] = teacher_accuracy\n",
        "\n",
        "        if 'LogisticRegressionStudent.pth' not in data:\n",
        "            data['LogisticRegressionStudent.pth'] = student_accuracy\n",
        "\n",
        "        if 'LogisticRegressionSmaller.pth' not in data:\n",
        "            data['LogisticRegressionSmaller.pth'] = baseline_accuracy\n",
        "\n",
        "            with open('LogisticRegression.json', 'w') as file:\n",
        "                json.dump(data, file, indent=4)\n",
        "\n",
        "    if import_models:\n",
        "        logistic_reg_models.append(teacher_model)\n",
        "        logistic_reg_models.append(student_model)\n",
        "        logistic_reg_models.append(baseline_model)\n",
        "else:\n",
        "    try:\n",
        "        response = requests.get(json_url)\n",
        "        LogisticRegressionDict = response.json()\n",
        "        print(f\"Test accuracy teacher: {LogisticRegressionDict['LogisticRegressionTeacher.pth']}%\")\n",
        "        print(f\"Test accuracy student: {LogisticRegressionDict['LogisticRegressionStudent.pth']}%\")\n",
        "        print(f\"Test accuracy baseline: {LogisticRegressionDict['LogisticRegressionSmaller.pth']}%\")\n",
        "    except requests.exceptions.RequestException as e:\n",
        "        print(f\"Error fetching JSON: {e}\")\n",
        "\n",
        "    if import_models:\n",
        "        teacher_model = load_model_from_github(LogisticRegression, prefix_url+'Teacher.pth', device)\n",
        "        student_model = load_model_from_github(LogisticRegression, prefix_url+'Student.pth', device)\n",
        "        baseline_model = load_model_from_github(LogisticRegression, prefix_url+'Smaller.pth', device)\n",
        "        logistic_reg_models.append(teacher_model)\n",
        "        logistic_reg_models.append(student_model)\n",
        "        logistic_reg_models.append(baseline_model)"
      ]
    },
    {
      "cell_type": "markdown",
      "metadata": {
        "id": "0DfQwmaa0xtp"
      },
      "source": [
        "So again, KD has improved accuracy. I will now proceed with the study with deep neural models, with more hidden layers than we have seen so far."
      ]
    },
    {
      "cell_type": "markdown",
      "metadata": {
        "id": "f90gGp8tQ9ty"
      },
      "source": [
        "### ***5. Teacher: Small MLP***"
      ]
    },
    {
      "cell_type": "code",
      "execution_count": 26,
      "metadata": {
        "colab": {
          "base_uri": "https://localhost:8080/"
        },
        "id": "E_hmOfqUYgfz",
        "outputId": "eb6caeda-bf7f-4b54-b943-9a6754fbcdb8"
      },
      "outputs": [
        {
          "output_type": "execute_result",
          "data": {
            "text/plain": [
              "<torch._C.Generator at 0x7cae3d348350>"
            ]
          },
          "metadata": {},
          "execution_count": 26
        }
      ],
      "source": [
        "torch.manual_seed(0)"
      ]
    },
    {
      "cell_type": "markdown",
      "metadata": {
        "id": "I5fbqrpiCguG"
      },
      "source": [
        "After setting the seed to ensure reproducibility, I import the fashionMNIST dataset, a different dataset to the previous one with slightly more complex images but with the characteristic, as with MNIST, that the channel is unique, i.e. the images are in black and white"
      ]
    },
    {
      "cell_type": "code",
      "execution_count": 27,
      "metadata": {
        "cellView": "form",
        "colab": {
          "base_uri": "https://localhost:8080/",
          "height": 452
        },
        "id": "3436PJmCYgfz",
        "outputId": "9a19367d-b4f0-426a-c57b-f69931ba22f7"
      },
      "outputs": [
        {
          "output_type": "display_data",
          "data": {
            "text/plain": [
              "<Figure size 640x480 with 1 Axes>"
            ],
            "image/png": "[encoded data removed]"
          },
          "metadata": {}
        }
      ],
      "source": [
        "#@title fashionMNIST\n",
        "\n",
        "transform = transforms.Compose([transforms.ToTensor()])\n",
        "fashion_mnist = torchvision.datasets.FashionMNIST(root='./data', train=False, download=True, transform=transform)\n",
        "image, label = fashion_mnist[100]\n",
        "image = image.squeeze().numpy()\n",
        "\n",
        "classes = ['T-shirt/top', 'Trouser', 'Pullover', 'Dress', 'Coat',\n",
        "           'Sandal', 'Shirt', 'Sneaker', 'Bag', 'Ankle boot']\n",
        "\n",
        "plt.imshow(image, cmap='gray')\n",
        "plt.title(f'Label: {classes[label]}')\n",
        "plt.show()"
      ]
    },
    {
      "cell_type": "markdown",
      "metadata": {
        "id": "YCZdGvLDCguH"
      },
      "source": [
        "As usual, I import the dataset for training and normalise the data, then define dataloaders for training and testing"
      ]
    },
    {
      "cell_type": "code",
      "execution_count": 28,
      "metadata": {
        "id": "v8uHyPSrH7k0"
      },
      "outputs": [],
      "source": [
        "transform = transforms.Compose([\n",
        "    transforms.ToTensor(),\n",
        "    transforms.Normalize((0.5,), (0.5,))\n",
        "])\n",
        "\n",
        "train_dataset = datasets.FashionMNIST(root='./data', train=True, download=True, transform=transform)\n",
        "test_dataset = datasets.FashionMNIST(root='./data', train=False, download=True, transform=transform)\n",
        "\n",
        "train_loader = DataLoader(dataset=train_dataset, batch_size=64, shuffle=True)\n",
        "test_loader = DataLoader(dataset=test_dataset, batch_size=1000, shuffle=False)"
      ]
    },
    {
      "cell_type": "markdown",
      "metadata": {
        "id": "-d0rOlrqCguH"
      },
      "source": [
        "I now define the two neural models for the training of the smaller via KD. This time, the division between student and teacher is clear. In fact, although both models are MLPs, the former is much deeper and this guarantees, at least in theory, greater accuracy. But I verify:"
      ]
    },
    {
      "cell_type": "code",
      "execution_count": 29,
      "metadata": {
        "id": "cLSxVgObH4iy"
      },
      "outputs": [],
      "source": [
        "class TeacherModel(nn.Module):\n",
        "    def __init__(self, input_size = 28*28):\n",
        "        super(TeacherModel, self).__init__()\n",
        "        self.fc1 = nn.Linear(input_size, 512)\n",
        "        self.fc2 = nn.Linear(512, 256)\n",
        "        self.fc3 = nn.Linear(256, 128)\n",
        "        self.fc4 = nn.Linear(128, 64)\n",
        "        self.fc5 = nn.Linear(64, 10)\n",
        "\n",
        "    def forward(self, x):\n",
        "        x = x.view(x.size(0), -1)\n",
        "        x = F.relu(self.fc1(x))\n",
        "        x = F.relu(self.fc2(x))\n",
        "        x = F.relu(self.fc3(x))\n",
        "        x = F.relu(self.fc4(x))\n",
        "        x = self.fc5(x)\n",
        "        return x\n",
        "\n",
        "\n",
        "class StudentModel(nn.Module):\n",
        "    def __init__(self, input_size = 28*28):\n",
        "        super(StudentModel, self).__init__()\n",
        "        self.fc1 = nn.Linear(input_size, 32)\n",
        "        self.fc2 = nn.Linear(32, 10)\n",
        "\n",
        "    def forward(self, x):\n",
        "        x = x.view(x.size(0), -1)\n",
        "        x = F.relu(self.fc1(x))\n",
        "        x = self.fc2(x)\n",
        "        return x\n",
        "\n",
        "first_mlp_models = []"
      ]
    },
    {
      "cell_type": "markdown",
      "metadata": {
        "id": "Ia7i7hR2CguI"
      },
      "source": [
        "For this code, it is recommended to set `import_models = True` in order to be able to check the number of parameters later."
      ]
    },
    {
      "cell_type": "code",
      "execution_count": 30,
      "metadata": {
        "id": "W-psA52NCguI"
      },
      "outputs": [],
      "source": [
        "import_models = True"
      ]
    },
    {
      "cell_type": "code",
      "execution_count": 31,
      "metadata": {
        "cellView": "form",
        "colab": {
          "base_uri": "https://localhost:8080/"
        },
        "id": "mjVWy9lZKW0J",
        "outputId": "2b64ec5f-ddfd-485b-cb66-379f1666cf44"
      },
      "outputs": [
        {
          "output_type": "stream",
          "name": "stdout",
          "text": [
            "Test accuracy: 87.28%\n"
          ]
        }
      ],
      "source": [
        "#@title Training and testing TeacherModel\n",
        "\n",
        "model_url = \"https://raw.github.com/FRAMAX444/Knowledge-Distillation/main/neural_networks/first_MLP_models/teacher_model_1_NN_42.pth\"\n",
        "json_url = \"https://raw.github.com/FRAMAX444/Knowledge-Distillation/main/saved_results/First_MLP_Models.json\"\n",
        "\n",
        "if not saved_results:\n",
        "    if not trained_models:\n",
        "        torch.manual_seed(42)\n",
        "        teacher_model = TeacherModel().to(device)\n",
        "        teacher_model = train(teacher_model, 10, train_loader)\n",
        "        teacher_accuracy = test_model(teacher_model, test_loader)\n",
        "        torch.save(teacher_model.state_dict(), f'teacher_model_1_NN_42.pth')\n",
        "\n",
        "        with zipfile.ZipFile('first_MLP_models.zip', 'a') as zipf:\n",
        "            zipf.write(f'teacher_model_1_NN_42.pth')\n",
        "\n",
        "    else:\n",
        "        teacher_model = load_model_from_github(TeacherModel, model_url, device)\n",
        "        teacher_accuracy = test_model(teacher_model, test_loader)\n",
        "\n",
        "    if save_jsons:\n",
        "        try:\n",
        "            with open('First_MLP_Models.json', 'r') as json_file:\n",
        "                data = json.load(json_file)\n",
        "        except FileNotFoundError:\n",
        "            data = {}\n",
        "\n",
        "        if 'teacher' not in data:\n",
        "            data['teacher'] = teacher_accuracy\n",
        "\n",
        "            with open('First_MLP_Models.json', 'w') as file:\n",
        "                json.dump(data, file, indent=4)\n",
        "\n",
        "    if import_models:\n",
        "            first_mlp_models.append(teacher_model)\n",
        "else:\n",
        "    try:\n",
        "        response = requests.get(json_url)\n",
        "        results_first_MLP = response.json()\n",
        "        print(f\"Test accuracy: {results_first_MLP['teacher']}%\")\n",
        "    except requests.exceptions.RequestException as e:\n",
        "        print(f\"Error fetching JSON: {e}\")\n",
        "    if import_models:\n",
        "        teacher_model = load_model_from_github(TeacherModel, model_url, device)\n",
        "        first_mlp_models.append(teacher_model)"
      ]
    },
    {
      "cell_type": "code",
      "execution_count": 32,
      "metadata": {
        "cellView": "form",
        "colab": {
          "base_uri": "https://localhost:8080/"
        },
        "id": "CDfPFnYBSQRW",
        "outputId": "a0b1fc48-cc3d-4c43-a699-8665a2be621f"
      },
      "outputs": [
        {
          "output_type": "stream",
          "name": "stdout",
          "text": [
            "Test accuracy: 86.0%\n"
          ]
        }
      ],
      "source": [
        "#@title Training and testing StudentModel w/o KD\n",
        "\n",
        "model_url = \"https://raw.github.com/FRAMAX444/Knowledge-Distillation/main/neural_networks/first_MLP_models/smaller_model_1_NN_42.pth\"\n",
        "json_url = \"https://raw.github.com/FRAMAX444/Knowledge-Distillation/main/saved_results/First_MLP_Models.json\"\n",
        "\n",
        "if not saved_results:\n",
        "    if not trained_models:\n",
        "        torch.manual_seed(42)\n",
        "        smaller_model = StudentModel().to(device)\n",
        "        smaller_model = train(smaller_model, 10, train_loader)\n",
        "        smaller_accuracy = test_model(smaller_model, test_loader)\n",
        "        torch.save(smaller_model.state_dict(), f'smaller_model_1_NN_42.pth')\n",
        "\n",
        "        with zipfile.ZipFile('first_MLP_models.zip', 'a') as zipf:\n",
        "            zipf.write(f'smaller_model_1_NN_42.pth')\n",
        "\n",
        "    else:\n",
        "        smaller_model = load_model_from_github(StudentModel, model_url, device)\n",
        "        smaller_accuracy = test_model(smaller_model, test_loader)\n",
        "    if save_jsons:\n",
        "        try:\n",
        "            with open('First_MLP_Models.json', 'r') as json_file:\n",
        "                data = json.load(json_file)\n",
        "        except FileNotFoundError:\n",
        "            data = {}\n",
        "        if 'smaller' not in data:\n",
        "            data['smaller'] = smaller_accuracy\n",
        "\n",
        "            with open('First_MLP_Models.json', 'w') as file:\n",
        "                json.dump(data, file, indent=4)\n",
        "\n",
        "    if import_models:\n",
        "            first_mlp_models.append(smaller_model)\n",
        "else:\n",
        "    try:\n",
        "        response = requests.get(json_url)\n",
        "        results_first_MLP = response.json()\n",
        "        print(f\"Test accuracy: {results_first_MLP['smaller']}%\")\n",
        "    except requests.exceptions.RequestException as e:\n",
        "        print(f\"Error fetching JSON: {e}\")\n",
        "    if import_models:\n",
        "        smaller_model = load_model_from_github(StudentModel, model_url, device)\n",
        "        first_mlp_models.append(smaller_model)"
      ]
    },
    {
      "cell_type": "code",
      "execution_count": 33,
      "metadata": {
        "cellView": "form",
        "colab": {
          "base_uri": "https://localhost:8080/"
        },
        "id": "_CgpTheBMdNg",
        "outputId": "c2836e0c-40aa-4c48-813c-6a7d67ce6c8f"
      },
      "outputs": [
        {
          "output_type": "stream",
          "name": "stdout",
          "text": [
            "Test accuracy: 85.95%\n"
          ]
        }
      ],
      "source": [
        "#@title Training and testing StudentModel with KD\n",
        "\n",
        "model_url = \"https://raw.github.com/FRAMAX444/Knowledge-Distillation/main/neural_networks/first_MLP_models/student_model_1_NN_42.pth\"\n",
        "json_url = \"https://raw.github.com/FRAMAX444/Knowledge-Distillation/main/saved_results/First_MLP_Models.json\"\n",
        "\n",
        "if not saved_results:\n",
        "    if not trained_models:\n",
        "        torch.manual_seed(42)\n",
        "        student_model = StudentModel().to(device)\n",
        "        student_model = train_student_model(student_model, 10, train_loader)\n",
        "        student_accuracy = test_model(student_model, test_loader)\n",
        "        torch.save(student_model.state_dict(), 'student_model_1_NN_42.pth')\n",
        "\n",
        "        with zipfile.ZipFile('student_MLP_models.zip', 'a') as zipf:\n",
        "            zipf.write('student_model_1_NN_42.pth')\n",
        "    else:\n",
        "        student_model = load_model_from_github(StudentModel, model_url, device)\n",
        "        student_accuracy = test_model(student_model, test_loader)\n",
        "\n",
        "    if save_jsons:\n",
        "        try:\n",
        "            with open('First_MLP_Models.json', 'r') as json_file:\n",
        "                data = json.load(json_file)\n",
        "        except FileNotFoundError:\n",
        "            data = {}\n",
        "\n",
        "        if 'student' not in data:\n",
        "            data['student'] = student_accuracy\n",
        "\n",
        "            with open('First_MLP_Models.json', 'w') as file:\n",
        "                json.dump(data, file, indent=4)\n",
        "\n",
        "    if import_models:\n",
        "            first_mlp_models.append(student_model)\n",
        "else:\n",
        "    try:\n",
        "        response = requests.get(json_url)\n",
        "        results_first_MLP = response.json()\n",
        "        print(f\"Test accuracy: {results_first_MLP['student']}%\")\n",
        "    except requests.exceptions.RequestException as e:\n",
        "        print(f\"Error fetching JSON: {e}\")\n",
        "\n",
        "    if import_models:\n",
        "        student_model = load_model_from_github(StudentModel, model_url, device)\n",
        "        first_mlp_models.append(student_model)"
      ]
    },
    {
      "cell_type": "code",
      "execution_count": 34,
      "metadata": {
        "id": "bxdoKICYCguJ"
      },
      "outputs": [],
      "source": [
        "import_models = False"
      ]
    },
    {
      "cell_type": "markdown",
      "metadata": {
        "id": "3vVFoPtYCguJ"
      },
      "source": [
        "With the training of the 3 models finished, I first check that the number of parameters of the two small models is the same and that it is, at the same time, lower than that of the teacher. I am fairly certain of this as I have defined them, but it is interesting to check again and have a comparison with reality"
      ]
    },
    {
      "cell_type": "code",
      "execution_count": 35,
      "metadata": {
        "colab": {
          "base_uri": "https://localhost:8080/"
        },
        "id": "KG-Zj8qDTkwp",
        "outputId": "160eae80-71db-4dc3-b0b2-fae16f1e2916"
      },
      "outputs": [
        {
          "output_type": "stream",
          "name": "stdout",
          "text": [
            "TeacherModel: 575,050\n",
            "StudentModel without KD: 25,450\n",
            "StudentModel with KD: 25,450\n"
          ]
        }
      ],
      "source": [
        "teacher = first_mlp_models[0]\n",
        "smaller = first_mlp_models[1]\n",
        "student = first_mlp_models[2]\n",
        "\n",
        "total_params_deep = \"{:,}\".format(sum(p.numel() for p in teacher.parameters()))\n",
        "print(f\"TeacherModel: {total_params_deep}\")\n",
        "total_params_light = \"{:,}\".format(sum(p.numel() for p in smaller.parameters()))\n",
        "print(f\"StudentModel without KD: {total_params_light}\")\n",
        "total_params_dist = \"{:,}\".format(sum(p.numel() for p in student.parameters()))\n",
        "print(f\"StudentModel with KD: {total_params_dist}\")"
      ]
    },
    {
      "cell_type": "markdown",
      "metadata": {
        "id": "0gbb_MlBCguK"
      },
      "source": [
        "I will now summarise the 3 training results."
      ]
    },
    {
      "cell_type": "code",
      "execution_count": 36,
      "metadata": {
        "colab": {
          "base_uri": "https://localhost:8080/"
        },
        "id": "x8rlMkGWUIIz",
        "outputId": "d627f21a-bf7d-4b1f-da1b-2808cbaee9fd"
      },
      "outputs": [
        {
          "output_type": "stream",
          "name": "stdout",
          "text": [
            "TeacherModel accuracy: 87.28%\n",
            "StudentModel w/o KD accuracy: 86.00%\n",
            "StudentModel with KD accuracy: 85.95%\n"
          ]
        }
      ],
      "source": [
        "if not saved_results:\n",
        "    results_first_MLP = {'teacher': teacher_accuracy, 'smaller': smaller_accuracy, 'student': student_accuracy}\n",
        "print(f\"TeacherModel accuracy: {results_first_MLP['teacher']:.2f}%\")\n",
        "print(f\"StudentModel w/o KD accuracy: {results_first_MLP['smaller']:.2f}%\")\n",
        "print(f\"StudentModel with KD accuracy: {results_first_MLP['student']:.2f}%\")"
      ]
    },
    {
      "cell_type": "markdown",
      "metadata": {
        "id": "GETJ-I-ECguK"
      },
      "source": [
        "In this case, the $\\mathcal{L}_{\\text{distill}}$ made the accuracy worse. But is this a case? Is there something that can be modified or changed? I try varying the values of $\\alpha$ and $T$ and have 5 different networks trained, initialising the seeds from 0 to 4, and taking an average of the accuracies, to have a measure that is less dependent on the randomness of the network initialisation."
      ]
    },
    {
      "cell_type": "code",
      "execution_count": 37,
      "metadata": {
        "cellView": "form",
        "colab": {
          "base_uri": "https://localhost:8080/"
        },
        "id": "pyXmGyRqT8eu",
        "outputId": "46b36aee-010d-44a5-8261-075e63dd43ab"
      },
      "outputs": [
        {
          "output_type": "stream",
          "name": "stdout",
          "text": [
            "Test accuracy: 87.18%\n",
            "Test accuracy: 86.66%\n",
            "Test accuracy: 87.03%\n",
            "Test accuracy: 86.54%\n",
            "Test accuracy: 85.67%\n",
            "Test accuracy: 86.88%\n",
            "Test accuracy: 86.74%\n",
            "Test accuracy: 86.8%\n",
            "Test accuracy: 86.47%\n",
            "Test accuracy: 85.13%\n",
            "Test accuracy: 87.05%\n",
            "Test accuracy: 86.64%\n",
            "Test accuracy: 87.05%\n",
            "Test accuracy: 86.23%\n",
            "Test accuracy: 85.92%\n",
            "Test accuracy: 86.88%\n",
            "Test accuracy: 86.94%\n",
            "Test accuracy: 87.15%\n",
            "Test accuracy: 86.49%\n",
            "Test accuracy: 85.44%\n",
            "Test accuracy: 87.06%\n",
            "Test accuracy: 86.55%\n",
            "Test accuracy: 86.8%\n",
            "Test accuracy: 86.15%\n",
            "Test accuracy: 86.09%\n",
            "Test accuracy: 86.77%\n",
            "Test accuracy: 86.41%\n",
            "Test accuracy: 86.49%\n",
            "Test accuracy: 86.26%\n",
            "Test accuracy: 85.79%\n",
            "Test accuracy: 87.28%\n",
            "Test accuracy: 87.05%\n",
            "Test accuracy: 87.13%\n",
            "Test accuracy: 85.69%\n",
            "Test accuracy: 85.79%\n",
            "Test accuracy: 87.33%\n",
            "Test accuracy: 86.84%\n",
            "Test accuracy: 86.64%\n",
            "Test accuracy: 86.13%\n",
            "Test accuracy: 86.5%\n",
            "Test accuracy: 86.98%\n",
            "Test accuracy: 86.48%\n",
            "Test accuracy: 86.73%\n",
            "Test accuracy: 86.37%\n",
            "Test accuracy: 86.63%\n"
          ]
        }
      ],
      "source": [
        "#@title Training with varying $\\alpha$ and T\n",
        "\n",
        "\n",
        "student_precision = []\n",
        "models_a_T = []\n",
        "prefix_url = 'https://raw.github.com/FRAMAX444/Knowledge-Distillation/main/neural_networks/finding_a_T'\n",
        "json_url = 'https://raw.github.com/FRAMAX444/Knowledge-Distillation/main/saved_results/Finding_a_T.json'\n",
        "num_iterations = 5\n",
        "\n",
        "alpha_values = [0.25, 0.5, 0.75]\n",
        "temperature_values = [1.0, 2.0, 3.0]\n",
        "\n",
        "for alpha in alpha_values:\n",
        "    for temperature in temperature_values:\n",
        "        for i in range(num_iterations):\n",
        "\n",
        "            if not saved_results:\n",
        "                if not trained_models:\n",
        "                    torch.manual_seed(i)\n",
        "                    student_model_distillated = StudentModel().to(device)\n",
        "                    student_model_distillated = train_student_model(teacher_model, student_model_distillated, train_loader, epochs=10, alpha=alpha, T=temperature)\n",
        "                    torch.save(student_model_distillated.state_dict(), f'model_{alpha}_{temperature}_{i}.pth')\n",
        "                    student_distillated_accuracy = test_model(student_model_distillated, test_loader)\n",
        "                    with zipfile.ZipFile('finding_a_T.zip', 'a') as zipf:\n",
        "                        zipf.write(f'model_{alpha}_{temperature}_{i}.pth')\n",
        "                else:\n",
        "                    torch.manual_seed(i)\n",
        "                    student_model_distillated = load_model_from_github(StudentModel, prefix_url+f'/model_{alpha}_{temperature}_{i}.pth', device)\n",
        "                    student_distillated_accuracy = test_model(student_model_distillated, test_loader)\n",
        "\n",
        "                if save_jsons:\n",
        "                    try:\n",
        "                        with open('Finding_a_T.json', 'r') as json_file:\n",
        "                            data = json.load(json_file)\n",
        "                    except FileNotFoundError:\n",
        "                        data = {}\n",
        "                    if f'{alpha}_{temperature}_{i}' not in data:\n",
        "                        data[f'{alpha}_{temperature}_{i}'] = [student_distillated_accuracy, 1, alpha, temperature]\n",
        "\n",
        "                        with open('Finding_a_T.json', 'w') as file:\n",
        "                            json.dump(data, file, indent=4)\n",
        "\n",
        "                student_precision.append([student_distillated_accuracy, 1, alpha, temperature])\n",
        "                if import_models:\n",
        "                    models_a_T.append(student_model)\n",
        "            else:\n",
        "                try:\n",
        "                    response = requests.get(json_url)\n",
        "                    results_a_T = response.json()\n",
        "                    print(f\"Test accuracy: {results_a_T[f'{alpha}_{temperature}_{i}'][0]}%\")\n",
        "                except requests.exceptions.RequestException as e:\n",
        "                    print(f\"Error fetching JSON: {e}\")\n",
        "                student_precision.append(results_a_T[f'{alpha}_{temperature}_{i}'])\n",
        "                if import_models:\n",
        "                    student_model = load_model_from_github(StudentModel, model_url, device)\n",
        "                    models_a_T.append(student_model)\n"
      ]
    },
    {
      "cell_type": "markdown",
      "metadata": {
        "id": "5-HphIDjCguL"
      },
      "source": [
        "But I also train 5 baseline models with $\\alpha=0$ and $T=1$"
      ]
    },
    {
      "cell_type": "code",
      "execution_count": 38,
      "metadata": {
        "cellView": "form",
        "colab": {
          "base_uri": "https://localhost:8080/"
        },
        "id": "GXM8iBdX7J6i",
        "outputId": "2e2c8bb8-6af8-40d9-fcf1-528c0a71c468"
      },
      "outputs": [
        {
          "output_type": "stream",
          "name": "stdout",
          "text": [
            "Test accuracy: 87.06%\n",
            "Test accuracy: 86.79%\n",
            "Test accuracy: 86.78%\n",
            "Test accuracy: 86.43%\n",
            "Test accuracy: 85.34%\n"
          ]
        }
      ],
      "source": [
        "#@title Baseline models\n",
        "\n",
        "num_iterations = 5\n",
        "prefix_url = 'https://raw.github.com/FRAMAX444/Knowledge-Distillation/main/neural_networks/finding_a_T'\n",
        "json_url = 'https://raw.github.com/FRAMAX444/Knowledge-Distillation/main/saved_results/Finding_a_T.json'\n",
        "\n",
        "for i in range(num_iterations):\n",
        "    if not saved_results:\n",
        "        if not trained_models:\n",
        "            torch.manual_seed(i)\n",
        "            student_model = StudentModel().to(device)\n",
        "            student_model = train(student_model, 10, train_loader)\n",
        "            torch.save(student_model.state_dict(), f'model_{0.0}_{1.0}_{i}.pth')\n",
        "            student_accuracy = test_model(student_model, test_loader)\n",
        "            with zipfile.ZipFile('finding_a_T.zip', 'a') as zipf:\n",
        "                zipf.write(f'model_0.0_1.0_{i}.pth')\n",
        "        else:\n",
        "            torch.manual_seed(i)\n",
        "            student_model = load_model_from_github(StudentModel, prefix_url+f'/model_0.0_1.0_{i}.pth', device)\n",
        "            student_accuracy = test_model(student_model, test_loader)\n",
        "\n",
        "        if save_jsons:\n",
        "            try:\n",
        "                with open('Finding_a_T.json', 'r') as json_file:\n",
        "                    data = json.load(json_file)\n",
        "            except FileNotFoundError:\n",
        "                data = {}\n",
        "\n",
        "            if f'{0.0}_{1.0}_{i}' not in data:\n",
        "                data[f'{0.0}_{1.0}_{i}'] = [student_accuracy, 1, 0.0, 1.0]\n",
        "\n",
        "                with open('Finding_a_T.json', 'w') as file:\n",
        "                    json.dump(data, file, indent=4)\n",
        "        student_precision.append([student_accuracy, 1, 0.0, 1.0])\n",
        "        if import_models:\n",
        "            models_a_T.append(student_model)\n",
        "    else:\n",
        "        try:\n",
        "            response = requests.get(json_url)\n",
        "            results_a_T = response.json()\n",
        "            print(f\"Test accuracy: {results_a_T[f'0.0_1.0_{i}'][0]}%\")\n",
        "        except requests.exceptions.RequestException as e:\n",
        "            print(f\"Error fetching JSON: {e}\")\n",
        "        student_precision.append(results_a_T[f'0.0_1.0_{i}'])\n",
        "        if import_models:\n",
        "            student_model = load_model_from_github(StudentModel, model_url, device)\n",
        "            models_a_T.append(student_model)"
      ]
    },
    {
      "cell_type": "markdown",
      "metadata": {
        "id": "3Qeq2hFSCguL"
      },
      "source": [
        "The accuracies obtained are many and difficult to understand without graphing them. To better understand what has been achieved, I illustrate them with a graph."
      ]
    },
    {
      "cell_type": "code",
      "execution_count": 39,
      "metadata": {
        "cellView": "form",
        "colab": {
          "base_uri": "https://localhost:8080/",
          "height": 515
        },
        "id": "3ZMKlM2d8Wn4",
        "outputId": "348de6a8-d9a4-4479-c98f-f9875f152b80"
      },
      "outputs": [
        {
          "output_type": "display_data",
          "data": {
            "text/plain": [
              "<Figure size 1000x600 with 1 Axes>"
            ],
            "image/png": "[encoded data removed]"
          },
          "metadata": {}
        }
      ],
      "source": [
        "#@title Accuracies of models with varying $\\alpha$ and T\n",
        "\n",
        "counter = {}\n",
        "counter_T_2 = {}\n",
        "\n",
        "for el in student_precision:\n",
        "    add = el[0] / num_iterations\n",
        "    key = (el[1], el[2], el[3])\n",
        "    if key not in counter:\n",
        "        counter[key] = add\n",
        "    else:\n",
        "        counter[key] += add\n",
        "\n",
        "    if el[3] == 2.0 or key == (1, 0.0, 1.0):\n",
        "        if key not in counter_T_2:\n",
        "            counter_T_2[key] = add\n",
        "        else:\n",
        "            counter_T_2[key] += add\n",
        "\n",
        "counter = dict(sorted(counter.items(), key=lambda item: item[1]))\n",
        "keys = list(counter.keys())\n",
        "values = list(counter.values())\n",
        "\n",
        "colors = ['red' if key == (1, 0.0, 1.0) else 'blue' for key in keys]\n",
        "\n",
        "plt.figure(figsize=(10, 6))\n",
        "plt.bar(range(len(values)), values, color=colors)\n",
        "\n",
        "red_value = next((value for key, value in zip(keys, values) if key == (1, 0.0, 1.0)), None)\n",
        "if red_value is not None:\n",
        "    plt.axhline(y=red_value, color='red', linestyle='--', label=f'Red value: {red_value}')\n",
        "\n",
        "plt.xticks(range(len(values)), [f'{key}' for key in keys], rotation=45)\n",
        "plt.ylabel('Average Accuracy')\n",
        "plt.title('Accuracy for (Num_teachers, Alpha, Temperature)')\n",
        "plt.ylim(86, 87)\n",
        "plt.tight_layout()\n",
        "plt.show()"
      ]
    },
    {
      "cell_type": "markdown",
      "metadata": {
        "id": "3ZUrAeEJAsTA"
      },
      "source": [
        "Thus, the general trend is to improve with the KD to the extent that each $\\alpha$ and $T$ appears several times above the red baseline model.Even the $(1, 0.5, 2.0)$ tuple, which in the initial experiment seemed to have lower precision, is above the baseline.\n",
        "\n",
        "I do not consider the order of the improvements extremely relevant, since they are minimal, but it is interesting to me how the models with $\\alpha=0.75$ ranked massively above the baseline. Evidently the teacher's information is extremely useful for the models, so much so that they improve a lot by using 75% soft loss and 25% hard loss."
      ]
    },
    {
      "cell_type": "markdown",
      "metadata": {
        "id": "snNgLQ_KJvL5"
      },
      "source": [
        "### ***6. Multi teacher KD***"
      ]
    },
    {
      "cell_type": "markdown",
      "metadata": {
        "id": "cg3zmsYACguM"
      },
      "source": [
        "I now begin the more in-depth case study of MTKD.\n",
        "\n",
        "First of all, as previously mentioned, the application of KD via MTKD involves more than one teacher from which to extract logits. But even for this algorithm, there is more than one version. As explained in the article *Multi-teacher knowledge distillation as an effective method for compressing ensembles of neural networks* (Zuchniak; 2022), one can use the information of many teachers in at least 3 different ways.\n",
        "\n",
        "- Prediction averaging: takes the average of the logits of all teachers as logits\n",
        "\n",
        "- Mimic of prediction geometric centre: learns simultaneously from all teachers but loss also penalises getting too close to one teacher (moving away from others). This is why the model is said to reach the geometric centre of teacher prediction\n",
        "\n",
        "- Independent mimicking of all the teachers: the model still learns from all the teachers simultaneously but does not look at the pure logits of the teachers, but those after softmax has been applied. By doing so, it is not penalised by logits with outliers that would move it towards the geometric centre but away from the optimal solution.\n",
        "\n",
        "In this notebook I will experiment with the first and third techniques"
      ]
    },
    {
      "cell_type": "code",
      "execution_count": 40,
      "metadata": {
        "cellView": "form",
        "colab": {
          "base_uri": "https://localhost:8080/",
          "height": 471
        },
        "id": "FQnFE8FhCguM",
        "outputId": "0e6b8609-3df4-4b41-d62e-0d7fe1c0b2a7"
      },
      "outputs": [
        {
          "output_type": "execute_result",
          "data": {
            "text/html": [
              "<img src=\"https://raw.github.com/FRAMAX444/Knowledge-Distillation/main/images_markdown/types_of_MTKD.png\" width=\"600\" height=\"450\"/>"
            ],
            "text/plain": [
              "<IPython.core.display.Image object>"
            ]
          },
          "metadata": {},
          "execution_count": 40
        }
      ],
      "source": [
        "#@title 8. MTKD algorithms $^{11.2}$\n",
        "url = 'https://raw.github.com/FRAMAX444/Knowledge-Distillation/main/images_markdown/types_of_MTKD.png'\n",
        "Image(url=url, width = 600, height = 450)"
      ]
    },
    {
      "cell_type": "markdown",
      "metadata": {
        "id": "HWy_FLQACguM"
      },
      "source": [
        "I start the study by training 20 MLP TeacherModels (as defined in the previous section). These will be the teachers in at least this part of the work"
      ]
    },
    {
      "cell_type": "code",
      "execution_count": 41,
      "metadata": {
        "colab": {
          "base_uri": "https://localhost:8080/"
        },
        "id": "afW-kmnhK9CH",
        "outputId": "9abd4a00-aa0d-4b8b-b1be-cc1fe224e3d1"
      },
      "outputs": [
        {
          "output_type": "stream",
          "name": "stdout",
          "text": [
            "Test accuracy: 88.27%\n",
            "Test accuracy: 88.23%\n",
            "Test accuracy: 87.95%\n",
            "Test accuracy: 88.32%\n",
            "Test accuracy: 88.13%\n",
            "Test accuracy: 88.42%\n",
            "Test accuracy: 88.61%\n",
            "Test accuracy: 87.62%\n",
            "Test accuracy: 88.47%\n",
            "Test accuracy: 88.47%\n",
            "Test accuracy: 88.5%\n",
            "Test accuracy: 88.7%\n",
            "Test accuracy: 88.3%\n",
            "Test accuracy: 88.48%\n",
            "Test accuracy: 88.28%\n",
            "Test accuracy: 87.5%\n",
            "Test accuracy: 88.45%\n",
            "Test accuracy: 88.58%\n",
            "Test accuracy: 88.09%\n",
            "Test accuracy: 87.77%\n"
          ]
        }
      ],
      "source": [
        "#@title Training 20 TeacherModel\n",
        "teachersMTKD = []\n",
        "f_t = []\n",
        "num_teachers = 20\n",
        "json_url = 'https://raw.github.com/FRAMAX444/Knowledge-Distillation/main/saved_results/MTKD_first_teachers.json'\n",
        "for i in range(num_teachers):\n",
        "    model_url = f'https://raw.github.com/FRAMAX444/Knowledge-Distillation/main/neural_networks/MTKD/teacher_{i}.pth'\n",
        "    if not saved_results:\n",
        "        if not trained_models:\n",
        "            torch.manual_seed(i)\n",
        "            teacher = TeacherModel().to(device)\n",
        "            teacher = train(teacher, 10, train_loader)\n",
        "            torch.save(teacher.state_dict(), f'teacher_{i}.pth')\n",
        "            with zipfile.ZipFile('MTKD.zip', 'a') as zipf:\n",
        "                zipf.write(f'teacher_{i}.pth')\n",
        "\n",
        "            teacher_accuracy = test_model(teacher, test_loader)\n",
        "        else:\n",
        "            torch.manual_seed(i)\n",
        "            teacher = load_model_from_github(TeacherModel, model_url, device)\n",
        "            teacher_accuracy = test_model(teacher, test_loader)\n",
        "        f_t.append(teacher_accuracy)\n",
        "        if save_jsons:\n",
        "            try:\n",
        "                with open('MTKD_first_teachers.json', 'r') as json_file:\n",
        "                    data = json.load(json_file)\n",
        "            except FileNotFoundError:\n",
        "                data = {}\n",
        "            if str(i) not in data:\n",
        "                data[str(i)] = teacher_accuracy\n",
        "\n",
        "                with open('MTKD_first_teachers.json', 'w') as file:\n",
        "                    json.dump(data, file, indent=4)\n",
        "        if import_models:\n",
        "            teachersMTKD.append(teacher)\n",
        "    else:\n",
        "        try:\n",
        "            response = requests.get(json_url)\n",
        "            MTKD_first_teachers = response.json()\n",
        "            print(f\"Test accuracy: {MTKD_first_teachers[str(i)]}%\")\n",
        "        except requests.exceptions.RequestException as e:\n",
        "            print(f\"Error fetching JSON: {e}\")\n",
        "\n",
        "        if import_models:\n",
        "                teacher = load_model_from_github(TeacherModel, model_url, device)\n",
        "                teachersMTKD.append(teacher)\n"
      ]
    },
    {
      "cell_type": "code",
      "execution_count": 42,
      "metadata": {
        "cellView": "form",
        "id": "BGEuXNJPKAYs"
      },
      "outputs": [],
      "source": [
        "#@title Prediction averaging training function\n",
        "\n",
        "def train_student_model_multi_teacher(teachers, student, loader = train_loader, epochs = 10, alpha=0.5, T=2.0, device='cpu'):\n",
        "    ce_loss = nn.CrossEntropyLoss()\n",
        "    optimizer = optim.Adam(student.parameters(), lr=0.001)\n",
        "\n",
        "    for teacher in teachers:\n",
        "        teacher.eval()\n",
        "    student.train()\n",
        "\n",
        "    for epoch in range(epochs):\n",
        "        running_loss = 0.0\n",
        "        for inputs, labels in loader:\n",
        "            inputs, labels = inputs.to(device), labels.to(device)\n",
        "            optimizer.zero_grad()\n",
        "            teacher_logits = []\n",
        "            with torch.no_grad():\n",
        "                for teacher in teachers:\n",
        "                    teacher_logits.append(teacher(inputs))\n",
        "\n",
        "            avg_teacher_logits = sum(teacher_logits) / len(teacher_logits)\n",
        "\n",
        "            student_logits = student(inputs)\n",
        "            soft_targets = nn.functional.softmax(avg_teacher_logits / T, dim=-1)\n",
        "            soft_prob = nn.functional.log_softmax(student_logits / T, dim=-1)\n",
        "            soft_targets_loss = nn.KLDivLoss()(soft_prob, soft_targets) * (T**2)\n",
        "\n",
        "            label_loss = ce_loss(student_logits, labels)\n",
        "\n",
        "            loss = alpha * soft_targets_loss + (1 - alpha) * label_loss\n",
        "\n",
        "            loss.backward()\n",
        "            optimizer.step()\n",
        "\n",
        "            running_loss += loss.item()\n",
        "\n",
        "        print(f\"Epoch {epoch+1}/{epochs}, Loss: {running_loss / len(loader):.4f}\")\n",
        "\n",
        "    return student\n"
      ]
    },
    {
      "cell_type": "markdown",
      "metadata": {
        "id": "f3Xgrjf8CguN"
      },
      "source": [
        "I now train the models by varying only $\\alpha$, unlike in the case of the single MLP teacher, but I retain the habit of training 5 of them and taking the average accuracy as a figure."
      ]
    },
    {
      "cell_type": "code",
      "execution_count": 43,
      "metadata": {
        "cellView": "form",
        "colab": {
          "base_uri": "https://localhost:8080/"
        },
        "id": "hrWcdVO8Mfpu",
        "outputId": "f2472bd5-2ea5-4f6c-b692-542b09827e03"
      },
      "outputs": [
        {
          "output_type": "stream",
          "name": "stdout",
          "text": [
            "Test accuracy: 86.98%\n",
            "Test accuracy: 86.72%\n",
            "Test accuracy: 86.96%\n",
            "Test accuracy: 86.49%\n",
            "Test accuracy: 85.33%\n",
            "Test accuracy: 87.02%\n",
            "Test accuracy: 86.72%\n",
            "Test accuracy: 87.02%\n",
            "Test accuracy: 86.39%\n",
            "Test accuracy: 85.52%\n",
            "Test accuracy: 87.14%\n",
            "Test accuracy: 86.33%\n",
            "Test accuracy: 86.77%\n",
            "Test accuracy: 86.49%\n",
            "Test accuracy: 85.77%\n",
            "Test accuracy: 86.89%\n",
            "Test accuracy: 86.67%\n",
            "Test accuracy: 87.08%\n",
            "Test accuracy: 85.77%\n",
            "Test accuracy: 85.57%\n",
            "Test accuracy: 87.12%\n",
            "Test accuracy: 86.85%\n",
            "Test accuracy: 87.22%\n",
            "Test accuracy: 86.05%\n",
            "Test accuracy: 85.72%\n",
            "Test accuracy: 86.96%\n",
            "Test accuracy: 87.02%\n",
            "Test accuracy: 87.05%\n",
            "Test accuracy: 86.16%\n",
            "Test accuracy: 85.55%\n",
            "Test accuracy: 87.21%\n",
            "Test accuracy: 86.46%\n",
            "Test accuracy: 87.27%\n",
            "Test accuracy: 86.79%\n",
            "Test accuracy: 85.73%\n",
            "Test accuracy: 86.98%\n",
            "Test accuracy: 86.76%\n",
            "Test accuracy: 87.08%\n",
            "Test accuracy: 86.07%\n",
            "Test accuracy: 85.98%\n",
            "Test accuracy: 86.79%\n",
            "Test accuracy: 86.78%\n",
            "Test accuracy: 86.51%\n",
            "Test accuracy: 86.79%\n",
            "Test accuracy: 86.0%\n",
            "Test accuracy: 86.93%\n",
            "Test accuracy: 86.71%\n",
            "Test accuracy: 86.72%\n",
            "Test accuracy: 86.48%\n",
            "Test accuracy: 86.22%\n",
            "Test accuracy: 86.98%\n",
            "Test accuracy: 86.7%\n",
            "Test accuracy: 87.0%\n",
            "Test accuracy: 86.47%\n",
            "Test accuracy: 86.56%\n",
            "Test accuracy: 87.09%\n",
            "Test accuracy: 86.86%\n",
            "Test accuracy: 87.05%\n",
            "Test accuracy: 86.86%\n",
            "Test accuracy: 86.27%\n"
          ]
        }
      ],
      "source": [
        "#@title Training students with varying $\\alpha$\n",
        "\n",
        "stored_students_MTKD_1 = []\n",
        "num_teachers = [2, 5, 10, 20]\n",
        "alphas = [0.25, 0.5, 0.75]\n",
        "a_s = ['025', '05', '075']\n",
        "num_iterations = 5\n",
        "for_graph = []\n",
        "json_url = 'https://raw.github.com/FRAMAX444/Knowledge-Distillation/main/saved_results/MTKD_AVG.json'\n",
        "for a in range(len(alphas)):\n",
        "    for num in num_teachers:\n",
        "        for i in range(num_iterations):\n",
        "            prefix_url = f'https://raw.github.com/FRAMAX444/Knowledge-Distillation/main/neural_networks/MTKD_students_{a_s[a]}'\n",
        "            if not saved_results:\n",
        "                if not trained_models:\n",
        "                    torch.manual_seed(i)\n",
        "                    student_model_distillated = StudentModel().to(device)\n",
        "                    student_model_distillated = train_student_model_multi_teacher(teachersMTKD[:num], student_model_distillated, epochs=10, alpha=alphas[a], T=2.0)\n",
        "                    student_distillated_accuracy = test_model(student_model_distillated, test_loader)\n",
        "                    torch.save(student_model_distillated.state_dict(), f'MTKD_student{a_s[a]}_{num}_{i}.pth')\n",
        "                    with zipfile.ZipFile(f'MTKD_students_{a_s[a]}.zip', 'a') as zipf:\n",
        "                        zipf.write(f'MTKD_student{a_s[a]}_{num}_{i}.pth')\n",
        "                else:\n",
        "                    torch.manual_seed(i)\n",
        "                    student_model_distillated = load_model_from_github(StudentModel, prefix_url+f'/MTKD_student{a_s[a]}_{num}_{i}.pth', device)\n",
        "                    student_distillated_accuracy = test_model(student_model_distillated, test_loader)\n",
        "\n",
        "                for_graph.append([student_distillated_accuracy, num, alphas[a], 2.0])\n",
        "\n",
        "                if save_jsons:\n",
        "                    try:\n",
        "                        with open('MTKD_AVG.json', 'r') as json_file:\n",
        "                            data = json.load(json_file)\n",
        "                    except FileNotFoundError:\n",
        "                        data = {}\n",
        "\n",
        "                    key = f'{alphas[a]}_{num}_{i}'\n",
        "                    if key not in data:\n",
        "                        data[key] = [student_distillated_accuracy, num, alphas[a], 2.0]\n",
        "\n",
        "                        with open('MTKD_AVG.json', 'w') as file:\n",
        "                            json.dump(data, file, indent=4)\n",
        "                if import_models:\n",
        "                    stored_students_MTKD_1.append(student_model_distillated)\n",
        "\n",
        "            else:\n",
        "                try:\n",
        "                    response = requests.get(json_url)\n",
        "                    MTKD_AVG = response.json()\n",
        "                    print(f\"Test accuracy: {MTKD_AVG[f'{alphas[a]}_{num}_{i}'][0]}%\")\n",
        "                except requests.exceptions.RequestException as e:\n",
        "                    print(f\"Error fetching JSON: {e}\")\n",
        "                for_graph.append(MTKD_AVG[f'{alphas[a]}_{num}_{i}'])\n",
        "                if import_models:\n",
        "                    student_model = load_model_from_github(StudentModel, prefix_url+f'/MTKD_student{a_s[a]}_{num}_{i}.pth', device)\n",
        "                    stored_students_MTKD_1.append(student_model)"
      ]
    },
    {
      "cell_type": "markdown",
      "metadata": {
        "id": "f2W9RqXmCguO"
      },
      "source": [
        "As in the previous case, graph the results obtained to better understand them."
      ]
    },
    {
      "cell_type": "code",
      "execution_count": 44,
      "metadata": {
        "cellView": "form",
        "colab": {
          "base_uri": "https://localhost:8080/",
          "height": 487
        },
        "id": "NDmQ98o1Ygf6",
        "outputId": "f95c3fc5-aa59-4f29-fee7-11f5d9808245"
      },
      "outputs": [
        {
          "output_type": "display_data",
          "data": {
            "text/plain": [
              "<Figure size 640x480 with 1 Axes>"
            ],
            "image/png": "[encoded data removed]"
          },
          "metadata": {}
        }
      ],
      "source": [
        "#@title Students' accuracies\n",
        "\n",
        "counter = {}\n",
        "\n",
        "for el in for_graph:\n",
        "    add = el[0]/num_iterations\n",
        "    if (el[1], el[2], el[3]) not in counter:\n",
        "        counter[(el[1], el[2], el[3])] = add\n",
        "    else:\n",
        "        counter[(el[1], el[2], el[3])] += add\n",
        "\n",
        "keys1 = list(counter.keys())\n",
        "values1 = list(counter.values())\n",
        "keys2 = list(counter_T_2.keys())\n",
        "values2 = list(counter_T_2.values())\n",
        "\n",
        "combined = list(zip(keys1, values1, ['blue'] * len(keys1))) + list(zip(keys2, values2, ['red' if key == (1, 0.0, 1.0) else 'green' for key in keys2]))\n",
        "combined_sorted = sorted(combined, key=lambda x: (x[0][1], x[0][0]))\n",
        "keys_sorted, values_sorted, colors_sorted = zip(*combined_sorted)\n",
        "labels_sorted = [str(key) for key in keys_sorted]\n",
        "x_positions = np.arange(len(keys_sorted))\n",
        "\n",
        "plt.bar(x_positions, values_sorted, color=colors_sorted)\n",
        "red_value = next((value for key, value, color in combined_sorted if color == 'red'), None)\n",
        "if red_value is not None:\n",
        "    plt.axhline(y=red_value, color='red', linestyle='--', label=f'Red value: {red_value}')\n",
        "plt.xticks(x_positions, labels_sorted, rotation=90)\n",
        "plt.ylabel('Average Accuracies')\n",
        "plt.title('Average Accuracy for Different (Num_Teachers, Alpha, Temperature)')\n",
        "plt.ylim(86, 87)\n",
        "plt.tight_layout()\n",
        "plt.show()"
      ]
    },
    {
      "cell_type": "markdown",
      "metadata": {
        "id": "CI_tGmgkCguO"
      },
      "source": [
        "In the graph, the model in red is the baseline, the one with one teacher and $\\alpha=0$ and $T=1$ while the greens are the models with only one teacher that compare with the models trained by several teachers with $\\alpha$ fixed.\n",
        "\n",
        "As can be seen, there is a general improvement in accuracy particularly in the models with $5$ and $10$ teachers; in fact, only in the case of $\\alpha=0.75$ is there a constant improvement as the number of teachers increases.\n",
        "\n",
        "Although this is not the behaviour I would generally expect, since as the number of teachers increases I should provide more and more truthful and useful data, I also feel that over-information and potential floating point errors when starting to deal with data quantities of this magnitude may have damaged the quality of the information.\n",
        "\n",
        "Therefore, the logits that are passed to the algorithm may lose quality as the teachers increase, particularly after $10$.\n",
        "\n",
        "I now introduce the second algorithm, the Independent mimicking of all the teachers, and perform the same operations as the Prediction Averaging algorithm, and then compare the results."
      ]
    },
    {
      "cell_type": "code",
      "execution_count": 45,
      "metadata": {
        "cellView": "form",
        "id": "p5OXtjdtS2Sx"
      },
      "outputs": [],
      "source": [
        "#@title Independent mimicking of all the teacher training function\n",
        "\n",
        "def train_student(teachers, student, temperature, alpha, epochs):\n",
        "    optimizer = torch.optim.Adam(student.parameters(), lr=0.001)\n",
        "    criterion_ce = nn.CrossEntropyLoss()\n",
        "    criterion_kld = nn.KLDivLoss(reduction='batchmean')\n",
        "    student.train()\n",
        "    for epoch in range(epochs):\n",
        "        total_loss = 0.0\n",
        "        for images, labels in train_loader:\n",
        "            images, labels = images.to(device), labels.to(device)\n",
        "            kld_loss = 0\n",
        "            for teacher in teachers:\n",
        "                teacher.eval()\n",
        "                with torch.no_grad():\n",
        "                    teacher_logits = teacher(images) / temperature\n",
        "                    teacher_softmax = F.softmax(teacher_logits, dim=1)\n",
        "                    student_logits = student(images) / temperature\n",
        "                    student_log_softmax = F.log_softmax(student_logits, dim=1)\n",
        "                    kld_loss += criterion_kld(student_log_softmax, teacher_softmax)\n",
        "            kld_loss /= len(teachers)\n",
        "\n",
        "            student_logits = student(images)\n",
        "            ce_loss = criterion_ce(student_logits, labels)\n",
        "\n",
        "            loss = alpha * kld_loss * (temperature ** 2) + (1 - alpha) * ce_loss\n",
        "\n",
        "            optimizer.zero_grad()\n",
        "            loss.backward()\n",
        "            optimizer.step()\n",
        "\n",
        "            total_loss += loss.item()\n",
        "\n",
        "        avg_loss = total_loss / len(train_loader)\n",
        "        print(f'Epoch {epoch+1}/{epochs}, Loss: {avg_loss:.4f}')\n",
        "\n",
        "    return student"
      ]
    },
    {
      "cell_type": "code",
      "execution_count": 46,
      "metadata": {
        "cellView": "form",
        "colab": {
          "base_uri": "https://localhost:8080/"
        },
        "id": "WiVcYi8fYgf6",
        "outputId": "9b1b1f86-575a-4fc0-b3fc-026734eea130"
      },
      "outputs": [
        {
          "output_type": "stream",
          "name": "stdout",
          "text": [
            "Test accuracy: 87.16%\n",
            "Test accuracy: 87.35%\n",
            "Test accuracy: 87.0%\n",
            "Test accuracy: 86.69%\n",
            "Test accuracy: 86.84%\n",
            "Test accuracy: 87.01%\n",
            "Test accuracy: 86.61%\n",
            "Test accuracy: 86.31%\n",
            "Test accuracy: 86.52%\n",
            "Test accuracy: 86.3%\n",
            "Test accuracy: 86.45%\n",
            "Test accuracy: 86.05%\n",
            "Test accuracy: 85.93%\n",
            "Test accuracy: 86.32%\n",
            "Test accuracy: 85.91%\n",
            "Test accuracy: 86.05%\n",
            "Test accuracy: 85.98%\n",
            "Test accuracy: 85.59%\n",
            "Test accuracy: 86.11%\n",
            "Test accuracy: 85.84%\n",
            "Test accuracy: 86.9%\n",
            "Test accuracy: 87.48%\n",
            "Test accuracy: 87.13%\n",
            "Test accuracy: 87.52%\n",
            "Test accuracy: 87.15%\n",
            "Test accuracy: 87.31%\n",
            "Test accuracy: 87.43%\n",
            "Test accuracy: 86.71%\n",
            "Test accuracy: 86.44%\n",
            "Test accuracy: 86.89%\n",
            "Test accuracy: 86.75%\n",
            "Test accuracy: 86.48%\n",
            "Test accuracy: 86.49%\n",
            "Test accuracy: 86.28%\n",
            "Test accuracy: 86.44%\n",
            "Test accuracy: 86.43%\n",
            "Test accuracy: 86.05%\n",
            "Test accuracy: 86.17%\n",
            "Test accuracy: 85.78%\n",
            "Test accuracy: 86.04%\n",
            "Test accuracy: 86.12%\n",
            "Test accuracy: 85.69%\n",
            "Test accuracy: 85.81%\n",
            "Test accuracy: 85.5%\n",
            "Test accuracy: 85.74%\n",
            "Test accuracy: 86.06%\n",
            "Test accuracy: 85.67%\n",
            "Test accuracy: 85.49%\n",
            "Test accuracy: 85.49%\n",
            "Test accuracy: 85.64%\n",
            "Test accuracy: 85.75%\n",
            "Test accuracy: 85.72%\n",
            "Test accuracy: 85.5%\n",
            "Test accuracy: 85.4%\n",
            "Test accuracy: 85.6%\n",
            "Test accuracy: 85.6%\n",
            "Test accuracy: 85.61%\n",
            "Test accuracy: 85.25%\n",
            "Test accuracy: 85.36%\n",
            "Test accuracy: 85.42%\n"
          ]
        }
      ],
      "source": [
        "#@title Training students with this function\n",
        "\n",
        "stored_students_MTKD_2 = []\n",
        "num_teachers = [2, 5, 10, 20]\n",
        "alphas = [0.25, 0.5, 0.75]\n",
        "a_s = ['025', '05', '075']\n",
        "num_iterations = 5\n",
        "for_graph_2 = []\n",
        "json_url = 'https://raw.github.com/FRAMAX444/Knowledge-Distillation/main/saved_results/MTKD_2.json'\n",
        "for a in range(len(alphas)):\n",
        "    for num in num_teachers:\n",
        "        for i in range(num_iterations):\n",
        "            prefix_url = f'https://raw.github.com/FRAMAX444/Knowledge-Distillation/main/neural_networks/MTKD_2_students_{a_s[a]}'\n",
        "            if not saved_results:\n",
        "                if not trained_models:\n",
        "                    torch.manual_seed(i)\n",
        "                    student_model_distillated = StudentModel().to(device)\n",
        "                    student_model_distillated = train_student(teachersMTKD[:num], student_model_distillated, epochs=10, alpha=alphas[a], T=2.0)\n",
        "                    student_distillated_accuracy = test_model(student_model_distillated, test_loader)\n",
        "                    torch.save(student_model_distillated.state_dict(), f'MTKD_2_student{a_s[a]}_{num}_{i}.pth')\n",
        "                    with zipfile.ZipFile(f'MTKD_2_students_{a_s[a]}.zip', 'a') as zipf:\n",
        "                        zipf.write(f'MTKD_2_student{a_s[a]}_{num}_{i}.pth')\n",
        "                else:\n",
        "                    torch.manual_seed(i)\n",
        "                    student_model_distillated = load_model_from_github(StudentModel, prefix_url+f'/MTKD_2_student{a_s[a]}_{num}_{i}.pth', device)\n",
        "                    student_distillated_accuracy = test_model(student_model_distillated, test_loader)\n",
        "\n",
        "                for_graph_2.append([student_distillated_accuracy, num, alphas[a], 2.0])\n",
        "                if save_jsons:\n",
        "                    try:\n",
        "                        with open('MTKD_2.json', 'r') as json_file:\n",
        "                            data = json.load(json_file)\n",
        "                    except FileNotFoundError:\n",
        "                        data = {}\n",
        "\n",
        "                    key = f'{alphas[a]}_{num}_{i}'\n",
        "                    if key not in data:\n",
        "                        data[key] = [student_distillated_accuracy, num, alphas[a], 2.0]\n",
        "\n",
        "                        with open('MTKD_2.json', 'w') as file:\n",
        "                            json.dump(data, file, indent=4)\n",
        "                if import_models:\n",
        "                    stored_students_MTKD_2.append(student_model_distillated)\n",
        "\n",
        "            else:\n",
        "                try:\n",
        "                    response = requests.get(json_url)\n",
        "                    MTKD_2 = response.json()\n",
        "                    print(f\"Test accuracy: {MTKD_2[f'2_{a_s[a]}_{num}_{i}'][0]}%\")\n",
        "                except requests.exceptions.RequestException as e:\n",
        "                    print(f\"Error fetching JSON: {e}\")\n",
        "                for_graph_2.append(MTKD_2[f'2_{a_s[a]}_{num}_{i}'])\n",
        "                if import_models:\n",
        "                    student_model = load_model_from_github(StudentModel, prefix_url+f'/MTKD_2_student{a_s[a]}_{num}_{i}.pth', device)\n",
        "                    stored_students_MTKD_2.append(student_model)"
      ]
    },
    {
      "cell_type": "code",
      "execution_count": 47,
      "metadata": {
        "cellView": "form",
        "colab": {
          "base_uri": "https://localhost:8080/",
          "height": 487
        },
        "id": "APOeKvpCYgf7",
        "outputId": "8e8ef621-9f19-47fe-abd3-a109af4064f9"
      },
      "outputs": [
        {
          "output_type": "display_data",
          "data": {
            "text/plain": [
              "<Figure size 640x480 with 1 Axes>"
            ],
            "image/png": "[encoded data removed]"
          },
          "metadata": {}
        }
      ],
      "source": [
        "#@title Students' accuracies\n",
        "\n",
        "\n",
        "counter_2 = {}\n",
        "\n",
        "for el in for_graph_2:\n",
        "    add = el[0]/num_iterations\n",
        "    if (el[1], el[2], el[3]) not in counter_2:\n",
        "        counter_2[(el[1], el[2], el[3])] = add\n",
        "    else:\n",
        "        counter_2[(el[1], el[2], el[3])] += add\n",
        "\n",
        "keys1 = list(counter_2.keys())\n",
        "values1 = list(counter_2.values())\n",
        "keys2 = list(counter_T_2.keys())\n",
        "values2 = list(counter_T_2.values())\n",
        "\n",
        "combined = list(zip(keys1, values1, ['blue'] * len(keys1))) + list(zip(keys2, values2, ['red' if key == (1, 0.0, 1.0) else 'green' for key in keys2]))\n",
        "combined_sorted = sorted(combined, key=lambda x: (x[0][1], x[0][0]))\n",
        "keys_sorted, values_sorted, colors_sorted = zip(*combined_sorted)\n",
        "labels_sorted = [str(key) for key in keys_sorted]\n",
        "\n",
        "x_positions = np.arange(len(keys_sorted))\n",
        "\n",
        "plt.bar(x_positions, values_sorted, color=colors_sorted)\n",
        "red_value = next((value for key, value, color in combined_sorted if color == 'red'), None)\n",
        "\n",
        "if red_value is not None:\n",
        "    plt.axhline(y=red_value, color='red', linestyle='--', label=f'Red value: {red_value}')\n",
        "\n",
        "\n",
        "plt.xticks(x_positions, labels_sorted, rotation=90)\n",
        "plt.ylabel('Average Accuracies')\n",
        "plt.title('Average Accuracy for Different (Num_Teachers, Alpha, Temperature)')\n",
        "plt.ylim(85, 88)\n",
        "plt.tight_layout()\n",
        "plt.show()"
      ]
    },
    {
      "cell_type": "markdown",
      "metadata": {
        "id": "G8RDD3B_CguP"
      },
      "source": [
        "What is assumed in the case of the Prediction Averaging algorithm becomes blatant in my opinion. Here with fewer teachers, there is a massive improvement in accuracy (more than $0.5$% compared to models with only one teacher) but this decreases as the number of teachers increases. This confirms to me again and again that too many teachers damage information, especially if they are equal teachers. In fact, in the latter case, calculating $D_{KL}$ for $20$ times (in the case of the $20$ teachers) is not only computationally heavy, but also incurs larger and larger floating point errors. In the case of prediction averaging the $D_{KL}$ is evaluated once with the average logits whereas in this case it is calculated once per teacher. I therefore believe that too many operations make one lose precision rather than provide useful information.\n",
        "\n",
        "A separate case is that for models with $\\alpha=0.75$. For the first time so far, over-reliance on teachers has damaged the performance of the models. This, however, supports the thesis that too many teachers may have caused the models to lose information rather than provide it.\n",
        "\n",
        "I now graph the results obtained from both versions of training algorithms with MTKD, keeping only the best accuracy for each (num_teachers, alpha, T)."
      ]
    },
    {
      "cell_type": "code",
      "execution_count": 48,
      "metadata": {
        "cellView": "form",
        "colab": {
          "base_uri": "https://localhost:8080/",
          "height": 487
        },
        "id": "HeIGjKTWYgf7",
        "outputId": "81412657-398b-4b75-b021-e9fd8d2646a2"
      },
      "outputs": [
        {
          "output_type": "display_data",
          "data": {
            "text/plain": [
              "<Figure size 640x480 with 1 Axes>"
            ],
            "image/png": "[encoded data removed]"
          },
          "metadata": {}
        }
      ],
      "source": [
        "#@title Best students performances\n",
        "\n",
        "max_counter = {}\n",
        "for key in counter:\n",
        "    if key in counter_2:\n",
        "        max_counter[key] = max(counter[key], counter_2[key])\n",
        "    else:\n",
        "        max_counter[key] = counter[key]\n",
        "\n",
        "for key in counter_2:\n",
        "    if key not in max_counter:\n",
        "        max_counter[key] = counter_2[key]\n",
        "\n",
        "colors_max = ['darkblue' if max_counter[key] == counter.get(key, -float('inf')) else 'lightblue' for key in max_counter]\n",
        "combined = list(max_counter.items()) + list(counter_T_2.items())\n",
        "colors_combined = colors_max + ['red' if key == (1, 0.0, 1.0) else 'green' for key in counter_T_2]\n",
        "sorted_combined = sorted(combined, key=lambda x: (x[0][1], x[0][0]))\n",
        "keys_sorted, values_sorted = zip(*sorted_combined)\n",
        "sorted_colors = [colors_combined[combined.index(item)] for item in sorted_combined]\n",
        "labels_sorted = [str(key) for key in keys_sorted]\n",
        "\n",
        "x_positions = np.arange(len(keys_sorted))\n",
        "\n",
        "plt.bar(x_positions, values_sorted, color=sorted_colors)\n",
        "\n",
        "red_value = next((value for key, value, color in combined_sorted if color == 'red'), None)\n",
        "\n",
        "if red_value is not None:\n",
        "    plt.axhline(y=red_value, color='red', linestyle='--', label=f'Red value: {red_value}')\n",
        "plt.xticks(x_positions, labels_sorted, rotation=90)\n",
        "plt.xlabel('(Teachers, Alpha, T)')\n",
        "plt.ylabel('Accuracy')\n",
        "plt.title('Maximum Accuracy from the 2 MTKD algorithms')\n",
        "plt.ylim(86, 87.5)\n",
        "plt.tight_layout()\n",
        "plt.show()"
      ]
    },
    {
      "cell_type": "markdown",
      "metadata": {
        "id": "QF_-nm9tCguQ"
      },
      "source": [
        "The $\\alpha$ that gave the best results in general is $\\alpha=0.5$. The models that used this parameter held steadily above the baseline and, albeit briefly, also above the model trained with the same conditions but only one teacher.\n",
        "\n",
        "By contrast, the number of teachers that I consider optimal is $5$. In fact with both algorithms the model trained with $5$ teachers performed competitively and above the baseline"
      ]
    },
    {
      "cell_type": "markdown",
      "metadata": {
        "id": "5ci--m9XgOEY"
      },
      "source": [
        "### ***7. Self distillation***"
      ]
    },
    {
      "cell_type": "markdown",
      "metadata": {
        "id": "aaKVOViLCguQ"
      },
      "source": [
        "As mentioned in section 2, there is a case where student and teacher coincide: Self Distillation.This type of distillation was introduced in the article *Be Your Own Teacher: Improve the Performance of Convolutional Neural Networks via Self Distillation* (Zhang, Song, Gao, Chen, Bao, Ma; 2019). This time, the teacher and student models coincide in a single model.In the implementation provided in this notebook, I have slightly modified the TeacherModel class, adding ‘outs’ after each layer so as to have intermediate ‘logits’ that contribute to the loss calculation in an equivalent manner. A possible further improvement could be to give a weight to the soft losses calculated from these intermediate features in the calculation of the total loss, making those at the end states contribute more, but the weight given would have to be calculated iteratively. In this notebook I will use the most trivial version, with all soft losses calculated at intermediate states having the same weight.\n",
        "\n",
        "Furthermore, in the article cited above, the authors use a loss $L2$ from the hints, i.e. the most advanced features. In my implementation, I experimented with a ‘Self-Distillation in the middle’, i.e. applying only $D_{KL}$ to the intermediate logits without using the hints of the later features."
      ]
    },
    {
      "cell_type": "code",
      "execution_count": 49,
      "metadata": {
        "cellView": "form",
        "colab": {
          "base_uri": "https://localhost:8080/",
          "height": 391
        },
        "id": "s7No8Wf_CguR",
        "outputId": "b616c702-6a96-4090-c3e8-048c4bd82139"
      },
      "outputs": [
        {
          "output_type": "execute_result",
          "data": {
            "text/html": [
              "<img src=\"https://raw.github.com/FRAMAX444/Knowledge-Distillation/main/images_markdown/self_distillation.png\" width=\"900\" height=\"350\"/>"
            ],
            "text/plain": [
              "<IPython.core.display.Image object>"
            ]
          },
          "metadata": {},
          "execution_count": 49
        }
      ],
      "source": [
        "#@title 9. Self Distillation$^{11.3}$\n",
        "\n",
        "url = 'https://raw.github.com/FRAMAX444/Knowledge-Distillation/main/images_markdown/self_distillation.png'\n",
        "Image(url=url, width = 900, height = 350)"
      ]
    },
    {
      "cell_type": "markdown",
      "metadata": {
        "id": "hF-OyvhvHzEx"
      },
      "source": [
        "I introduce the model described, with the same number of parameters as TeacherModel but with the intermediate representations made explicit."
      ]
    },
    {
      "cell_type": "code",
      "execution_count": 50,
      "metadata": {
        "id": "mWOZRrhMY3b2"
      },
      "outputs": [],
      "source": [
        "class MLPWithSelfDistillation(nn.Module):\n",
        "    def __init__(self, input_size = 28*28):\n",
        "        super(MLPWithSelfDistillation, self).__init__()\n",
        "        self.fc1 = nn.Linear(input_size, 512)\n",
        "        self.fc2 = nn.Linear(512, 256)\n",
        "        self.fc3 = nn.Linear(256, 128)\n",
        "        self.fc4 = nn.Linear(128, 64)\n",
        "        self.fc5 = nn.Linear(64, 10)\n",
        "\n",
        "        self.classifier1 = nn.Linear(512, 10)\n",
        "        self.classifier2 = nn.Linear(256, 10)\n",
        "        self.classifier3 = nn.Linear(128, 10)\n",
        "        self.classifier4 = nn.Linear(64, 10)\n",
        "\n",
        "    def forward(self, x):\n",
        "        x = x.view(-1, 28 * 28)\n",
        "        x1 = F.relu(self.fc1(x))\n",
        "        x2 = F.relu(self.fc2(x1))\n",
        "        x3 = F.relu(self.fc3(x2))\n",
        "        x4 = F.relu(self.fc4(x3))\n",
        "        out = self.fc5(x4)\n",
        "\n",
        "        c1 = self.classifier1(x1)\n",
        "        c2 = self.classifier2(x2)\n",
        "        c3 = self.classifier3(x3)\n",
        "        c4 = self.classifier4(x4)\n",
        "\n",
        "        return out, c1, c2, c3, c4"
      ]
    },
    {
      "cell_type": "code",
      "execution_count": 51,
      "metadata": {
        "colab": {
          "base_uri": "https://localhost:8080/"
        },
        "id": "AJMBTDddCguR",
        "outputId": "afdba8a0-ab98-466a-a69f-c91c0eb5b508"
      },
      "outputs": [
        {
          "output_type": "stream",
          "name": "stdout",
          "text": [
            "MLPWithSelfDistillation parameters: 575,050\n",
            "TeacherModel parameters: 575,050\n"
          ]
        }
      ],
      "source": [
        "sd_mlp = MLPWithSelfDistillation().to(device)\n",
        "total_params = \"{:,}\".format(sum(p.numel() for p in sd_mlp.parameters()))\n",
        "print(f\"MLPWithSelfDistillation parameters: {total_params_deep}\")\n",
        "total_params_deep = \"{:,}\".format(sum(p.numel() for p in teacher.parameters()))\n",
        "print(f\"TeacherModel parameters: {total_params_deep}\")"
      ]
    },
    {
      "cell_type": "code",
      "execution_count": 52,
      "metadata": {
        "cellView": "form",
        "id": "umyIl-Q5CguR"
      },
      "outputs": [],
      "source": [
        "#@title Training and testing for Self-Distillation\n",
        "\n",
        "def loss_fn_kd(outputs, labels, teacher_outputs, alpha=0.5, T=2):\n",
        "    KD_loss = nn.KLDivLoss()(F.log_softmax(outputs / T, dim=1),\n",
        "                             F.softmax(teacher_outputs / T, dim=1)) * (alpha * T * T) + \\\n",
        "              F.cross_entropy(outputs, labels) * (1. - alpha)\n",
        "    return KD_loss\n",
        "\n",
        "def train_self(model, alpha=0.5, epochs=10):\n",
        "    model.train()\n",
        "    optimizer = optim.Adam(model.parameters(), lr=0.001)\n",
        "    for epoch in range(1, epochs + 1):\n",
        "        model.train()\n",
        "        for batch_idx, (data, target) in enumerate(train_loader):\n",
        "            data, target = data.to(device), target.to(device)\n",
        "            optimizer.zero_grad()\n",
        "\n",
        "            output, c1, c2, c3, c4 = model(data)\n",
        "\n",
        "            loss1 = F.cross_entropy(c1, target)\n",
        "            loss2 = F.cross_entropy(c2, target)\n",
        "            loss3 = F.cross_entropy(c3, target)\n",
        "            loss4 = F.cross_entropy(c4, target)\n",
        "            loss_final = F.cross_entropy(output, target)\n",
        "\n",
        "            kl_loss1 = loss_fn_kd(c1, target, output, alpha)\n",
        "            kl_loss2 = loss_fn_kd(c2, target, output, alpha)\n",
        "            kl_loss3 = loss_fn_kd(c3, target, output, alpha)\n",
        "            kl_loss4 = loss_fn_kd(c4, target, output, alpha)\n",
        "\n",
        "            loss = loss1 + loss2 + loss3 + loss4 + loss_final + kl_loss1 + kl_loss2 + kl_loss3 + kl_loss4\n",
        "\n",
        "            loss.backward()\n",
        "            optimizer.step()\n",
        "\n",
        "        print(f\"Epoch {epoch}/{epochs}, Loss: {loss / len(train_loader):.4f}\")\n",
        "\n",
        "\n",
        "    return model\n",
        "\n",
        "def testSTKD(model, test_loader):\n",
        "    model.eval()\n",
        "    test_loss = 0\n",
        "    correct = 0\n",
        "    with torch.no_grad():\n",
        "        for data, target in test_loader:\n",
        "            data, target = data.to(device), target.to(device)\n",
        "            output, _, _, _, _ = model(data)\n",
        "            test_loss += F.cross_entropy(output, target, reduction='sum').item()\n",
        "            pred = output.argmax(dim=1, keepdim=True)\n",
        "            correct += pred.eq(target.view_as(pred)).sum().item()\n",
        "\n",
        "    accuracy = 100. * correct / len(test_loader.dataset)\n",
        "    print(f'Accuracy: {accuracy:.2f}%')\n",
        "    return accuracy"
      ]
    },
    {
      "cell_type": "markdown",
      "metadata": {
        "id": "bzItiZERJbEW"
      },
      "source": [
        "Now, as done previously, I try varying the value of $\\alpha$ to see effects on the accuracy of the models and plot the results."
      ]
    },
    {
      "cell_type": "code",
      "execution_count": 53,
      "metadata": {
        "cellView": "form",
        "colab": {
          "base_uri": "https://localhost:8080/"
        },
        "id": "9YwcTKdAM8dp",
        "outputId": "2cca171c-be00-4566-b44c-15673fbd99f4"
      },
      "outputs": [
        {
          "output_type": "stream",
          "name": "stdout",
          "text": [
            "Test accuracy: 88.61%\n",
            "Test accuracy: 88.59%\n",
            "Test accuracy: 88.66%\n",
            "Test accuracy: 88.64%\n",
            "Test accuracy: 88.48%\n",
            "Test accuracy: 88.08%\n",
            "Test accuracy: 88.63%\n",
            "Test accuracy: 88.34%\n",
            "Test accuracy: 88.53%\n",
            "Test accuracy: 88.18%\n",
            "Test accuracy: 89.03%\n",
            "Test accuracy: 87.75%\n",
            "Test accuracy: 88.55%\n",
            "Test accuracy: 89.16%\n",
            "Test accuracy: 87.38%\n",
            "Test accuracy: 88.08%\n",
            "Test accuracy: 88.55%\n",
            "Test accuracy: 88.13%\n",
            "Test accuracy: 88.22%\n",
            "Test accuracy: 88.36%\n",
            "Test accuracy: 88.68%\n",
            "Test accuracy: 88.45%\n",
            "Test accuracy: 88.64%\n",
            "Test accuracy: 88.44%\n",
            "Test accuracy: 88.61%\n",
            "Test accuracy: 87.99%\n",
            "Test accuracy: 88.22%\n",
            "Test accuracy: 88.23%\n",
            "Test accuracy: 88.38%\n",
            "Test accuracy: 88.12%\n",
            "Test accuracy: 88.96%\n",
            "Test accuracy: 88.53%\n",
            "Test accuracy: 88.77%\n",
            "Test accuracy: 87.76%\n",
            "Test accuracy: 88.29%\n",
            "Test accuracy: 88.51%\n",
            "Test accuracy: 88.21%\n",
            "Test accuracy: 88.41%\n",
            "Test accuracy: 88.13%\n",
            "Test accuracy: 88.3%\n",
            "Test accuracy: 88.17%\n",
            "Test accuracy: 89.12%\n",
            "Test accuracy: 88.4%\n",
            "Test accuracy: 88.84%\n",
            "Test accuracy: 88.42%\n",
            "Test accuracy: 88.04%\n",
            "Test accuracy: 88.64%\n",
            "Test accuracy: 88.3%\n",
            "Test accuracy: 88.43%\n",
            "Test accuracy: 88.75%\n",
            "Test accuracy: 88.87%\n",
            "Test accuracy: 88.54%\n",
            "Test accuracy: 88.66%\n",
            "Test accuracy: 88.97%\n",
            "Test accuracy: 87.88%\n",
            "Test accuracy: 88.34%\n",
            "Test accuracy: 88.35%\n",
            "Test accuracy: 88.6%\n",
            "Test accuracy: 88.45%\n",
            "Test accuracy: 88.89%\n"
          ]
        }
      ],
      "source": [
        "#@title Training MLPWithSelfDistillation with varying $\\alpha$\n",
        "\n",
        "\n",
        "teachersSTKD = []\n",
        "teachers_STKD_05 = []\n",
        "teachers_STKD_025 = []\n",
        "teachers_STKD_075 = []\n",
        "acc_teachers_STKD_05 = []\n",
        "acc_teachers_STKD_025 = []\n",
        "acc_teachers_STKD_075 = []\n",
        "alphas = [0.25, 0.5, 0.75]\n",
        "a_s = ['025', '05', '075']\n",
        "\n",
        "prefix_url = 'https://raw.github.com/FRAMAX444/Knowledge-Distillation/main/neural_networks/STKD_'\n",
        "json_url = 'https://raw.github.com/FRAMAX444/Knowledge-Distillation/main/saved_results/STKD.json'\n",
        "\n",
        "num_teachers = 20\n",
        "for a in range(len(alphas)):\n",
        "    for i in range(num_teachers):\n",
        "        if not saved_results:\n",
        "            if not trained_models:\n",
        "                torch.manual_seed(i)\n",
        "                teacher = MLPWithSelfDistillation().to(device)\n",
        "                teacher = train(teacher, epochs=10)\n",
        "                torch.save(teacher.state_dict(), f'teacher_{i}.pth')\n",
        "\n",
        "                with zipfile.ZipFile(f'STKD_{a_s[a]}.zip', 'a') as zipf:\n",
        "                    zipf.write(f'teacher_STKD_{a_s[a]}_{i}.pth')\n",
        "\n",
        "                teacher_accuracy = testSTKD(teacher, test_loader)\n",
        "            else:\n",
        "                torch.manual_seed(i)\n",
        "                teacher = load_model_from_github(MLPWithSelfDistillation, prefix_url+f'{a_s[a]}/teacher_STKD_{a_s[a]}_{i}.pth', device)\n",
        "                teacher_accuracy = testSTKD(teacher, test_loader)\n",
        "\n",
        "            if a_s[a] == '025':\n",
        "                if import_models:\n",
        "                    teachers_STKD_025.append(teacher)\n",
        "                acc_teachers_STKD_025.append(teacher_accuracy)\n",
        "            if a_s[a] == '05':\n",
        "                if import_models:\n",
        "                    teachers_STKD_05.append(teacher)\n",
        "                acc_teachers_STKD_05.append(teacher_accuracy)\n",
        "            else:\n",
        "                if import_models:\n",
        "                    teachers_STKD_075.append(teacher)\n",
        "                acc_teachers_STKD_075.append(teacher_accuracy)\n",
        "\n",
        "            if save_jsons:\n",
        "                try:\n",
        "                    with open(f'STKD.json', 'r') as json_file:\n",
        "                        data = json.load(json_file)\n",
        "                except FileNotFoundError:\n",
        "                    data = {}\n",
        "\n",
        "                if f'teacher_STKD_{a_s[a]}_{i}.pth' not in data:\n",
        "                    data[f'teacher_STKD_{a_s[a]}_{i}.pth'] = teacher_accuracy\n",
        "\n",
        "                    with open('STKD.json', 'w') as file:\n",
        "                        json.dump(data, file, indent=4)\n",
        "\n",
        "            if import_models:\n",
        "                teachersSTKD.append(teacher)\n",
        "        else:\n",
        "            try:\n",
        "                response = requests.get(json_url)\n",
        "                STKD = response.json()\n",
        "                print(f\"Test accuracy: {STKD[f'teacher_STKD_{a_s[a]}_{i}.pth']}%\")\n",
        "            except requests.exceptions.RequestException as e:\n",
        "                print(f\"Error fetching JSON: {e}\")\n",
        "            if a_s[a] == '025':\n",
        "                acc_teachers_STKD_025.append(STKD[f'teacher_STKD_{a_s[a]}_{i}.pth'])\n",
        "            if a_s[a] == '05':\n",
        "                acc_teachers_STKD_05.append(STKD[f'teacher_STKD_{a_s[a]}_{i}.pth'])\n",
        "            else:\n",
        "                acc_teachers_STKD_075.append(STKD[f'teacher_STKD_{a_s[a]}_{i}.pth'])\n",
        "\n",
        "            if import_models:\n",
        "                teacher = load_model_from_github(MLPWithSelfDistillation, prefix_url+f'{a_s[a]}/teacher_STKD_{a_s[a]}_{i}.pth', device)\n",
        "                teachersSTKD.append(teacher)\n"
      ]
    },
    {
      "cell_type": "code",
      "execution_count": 54,
      "metadata": {
        "cellView": "form",
        "colab": {
          "base_uri": "https://localhost:8080/",
          "height": 487
        },
        "id": "7Hq77S49Ng0S",
        "outputId": "8738b9d1-2300-406d-d6e5-14778a27a641"
      },
      "outputs": [
        {
          "output_type": "display_data",
          "data": {
            "text/plain": [
              "<Figure size 640x480 with 1 Axes>"
            ],
            "image/png": "[encoded data removed]"
          },
          "metadata": {}
        }
      ],
      "source": [
        "#@title Plotting results\n",
        "\n",
        "if not saved_results:\n",
        "    MTKD_first_teachers = {str(i):f_t[i] for i in range(num_teachers)}\n",
        "teachers_precision = sum([MTKD_first_teachers[str(i)] for i in range(num_teachers)])/num_teachers\n",
        "STKD025_precision = sum([acc_teachers_STKD_025[i] for i in range(num_teachers)])/num_teachers\n",
        "STKD05_precision = sum([acc_teachers_STKD_05[i] for i in range(num_teachers)])/num_teachers\n",
        "STKD075_precision = sum([acc_teachers_STKD_075[i] for i in range(num_teachers)])/num_teachers\n",
        "precisions = [teachers_precision, STKD025_precision, STKD05_precision, STKD075_precision]\n",
        "labels = ['Teachers', 'STKD 0.25', 'STKD 0.5', 'STKD 0.75']\n",
        "\n",
        "colors = ['red'] + ['blue'] * 3\n",
        "\n",
        "plt.bar(labels, precisions, color=colors)\n",
        "\n",
        "plt.xlabel('Precision Types')\n",
        "plt.ylabel('Precision Values')\n",
        "plt.title('Comparison of Teacher with and without STKD')\n",
        "plt.ylim(88, 89)\n",
        "plt.tight_layout()\n",
        "plt.show()"
      ]
    },
    {
      "cell_type": "markdown",
      "metadata": {
        "id": "mrNGsZgfJ_I6"
      },
      "source": [
        "So the improvements were present for all $\\alpha$ values despite the fact that the implementation was not the one from the article *Be your own Teacher* but a simplified version. This in my opinion shows the strength of the technique proposed by Zhang, Song, Gao, Chen, Bao, Ma, which, even if used in a simpler and less powerful version, still manages to improve already high accuracies.\n",
        "\n",
        "However, I note that the improvements are minimal and I believe that by applying the ‘complete Self-Distillation’ and not the one 'in the middle' I would have had more important results.\n"
      ]
    },
    {
      "cell_type": "markdown",
      "metadata": {
        "id": "JirIWJU0-CIX"
      },
      "source": [
        "### ***8. MTKD and model ensembles***."
      ]
    },
    {
      "cell_type": "markdown",
      "metadata": {
        "id": "Er8-86EGMJHv"
      },
      "source": [
        "I now begin a study in search of a hypothetical correlation between teacher ensemble accuracies and observed improvements in students, and if I notice correlations in practical examples.\n",
        "\n",
        "First I define a function to get the accuracy of the model ensemble where the prediction is obtained of the average of all logits (MTKD with Prediction averaging)"
      ]
    },
    {
      "cell_type": "code",
      "execution_count": 55,
      "metadata": {
        "cellView": "form",
        "id": "BZztzPUwYgf8"
      },
      "outputs": [],
      "source": [
        "#@title Accuracy model ensemble\n",
        "\n",
        "def combine_teacher_predictions(teacher_models, STKD = False, test_loader = test_loader, temperature=2.0):\n",
        "\n",
        "    correct_predictions = 0\n",
        "    total_samples = 0\n",
        "\n",
        "    for inputs, labels in test_loader:\n",
        "        inputs, labels = inputs.to(device), labels.to(device)\n",
        "\n",
        "        logits_list = []\n",
        "        for teacher in teacher_models:\n",
        "            teacher.eval()\n",
        "            with torch.no_grad():\n",
        "                if STKD: logits, _, _, _, _ = teacher(inputs)\n",
        "                else: logits = teacher(inputs)\n",
        "\n",
        "                logits = logits / temperature\n",
        "                logits_list.append(logits)\n",
        "\n",
        "        stacked_logits = torch.stack(logits_list)\n",
        "\n",
        "        combined_logits = torch.mean(stacked_logits, dim=0)\n",
        "\n",
        "        predictions = torch.argmax(combined_logits, dim=1)\n",
        "\n",
        "        correct_predictions += (predictions == labels).sum().item()\n",
        "        total_samples += labels.size(0)\n",
        "\n",
        "    accuracy = correct_predictions / total_samples\n",
        "    return accuracy*100"
      ]
    },
    {
      "cell_type": "markdown",
      "source": [
        "From this point on, if import_models was set False then it's mandatory to set saved_results=True for the cells marked with * to execute"
      ],
      "metadata": {
        "id": "k_QDaGtvFh5U"
      }
    },
    {
      "cell_type": "code",
      "execution_count": 56,
      "metadata": {
        "cellView": "form",
        "colab": {
          "base_uri": "https://localhost:8080/"
        },
        "id": "_SkIDOtWYgf8",
        "outputId": "d58c196e-377c-4652-b585-5e01a1945282"
      },
      "outputs": [
        {
          "output_type": "stream",
          "name": "stdout",
          "text": [
            "TeacherModels: 89.75%\n",
            "STKD025 teachers: 89.87%\n",
            "STKD05 teachers: 90.0%\n",
            "STKD075 teachers: 89.94%\n"
          ]
        }
      ],
      "source": [
        "#@title MLP ensemble accuracy *\n",
        "\n",
        "json_url = 'https://raw.github.com/FRAMAX444/Knowledge-Distillation/main/saved_results/combined_teacher_predictions.json'\n",
        "if not saved_results:\n",
        "    try:\n",
        "        with open('combined_teacher_predictions.json', 'r') as json_file:\n",
        "            CT = json.load(json_file)\n",
        "    except FileNotFoundError:\n",
        "        CT = {}\n",
        "\n",
        "    combined_teachers = combine_teacher_predictions(teachersMTKD)\n",
        "    combined_teachers025 = combine_teacher_predictions(teachers_STKD_025, STKD=True)\n",
        "    combined_teachers05 = combine_teacher_predictions(teachers_STKD_05, STKD=True)\n",
        "    combined_teachers075 = combine_teacher_predictions(teachers_STKD_075, STKD=True)\n",
        "\n",
        "    if 'combined_teachers' not in CT:\n",
        "        CT['combined_teachers'] = combined_teachers\n",
        "    if 'combined_teachers025' not in CT:\n",
        "        CT['combined_teachers025'] = combined_teachers025\n",
        "    if 'combined_teachers05' not in CT:\n",
        "        CT['combined_teachers05'] = combined_teachers05\n",
        "    if 'combined_teachers075' not in CT:\n",
        "        CT['combined_teachers075'] = combined_teachers075\n",
        "\n",
        "    with open('combined_teacher_predictions.json', 'w') as file:\n",
        "        json.dump(CT, file, indent=4)\n",
        "\n",
        "else:\n",
        "        try:\n",
        "            response = requests.get(json_url)\n",
        "            CT = response.json()\n",
        "            print(f\"TeacherModels: {CT['combined_teachers']}%\")\n",
        "            print(f\"STKD025 teachers: {CT['combined_teachers025']}%\")\n",
        "            print(f\"STKD05 teachers: {CT['combined_teachers05']}%\")\n",
        "            print(f\"STKD075 teachers: {CT['combined_teachers075']}%\")\n",
        "        except requests.exceptions.RequestException as e:\n",
        "            print(f\"Error fetching JSON: {e}\")\n"
      ]
    },
    {
      "cell_type": "code",
      "execution_count": 57,
      "metadata": {
        "cellView": "form",
        "colab": {
          "base_uri": "https://localhost:8080/",
          "height": 524
        },
        "id": "X5rs6OC9Ygf8",
        "outputId": "79b8d153-1326-4b21-a21e-a52c90425064"
      },
      "outputs": [
        {
          "output_type": "stream",
          "name": "stderr",
          "text": [
            "WARNING:matplotlib.legend:No artists with labels found to put in legend.  Note that artists whose label start with an underscore are ignored when legend() is called with no argument.\n"
          ]
        },
        {
          "output_type": "display_data",
          "data": {
            "text/plain": [
              "<Figure size 640x480 with 1 Axes>"
            ],
            "image/png": "[encoded data removed]"
          },
          "metadata": {}
        }
      ],
      "source": [
        "#@title Comparison with models' average accuracy *\n",
        "\n",
        "precisions = [teachers_precision, STKD025_precision, STKD05_precision, STKD075_precision]\n",
        "combined_precisions = [CT['combined_teachers'], CT['combined_teachers025'], CT['combined_teachers05'], CT['combined_teachers075']]\n",
        "labels = ['Teachers', 'STKD 0.25', 'STKD 0.5', 'STKD 0.75']\n",
        "\n",
        "colors = ['red'] + ['blue'] * 3\n",
        "combined_colors = ['lightcoral'] + ['lightblue'] * 3\n",
        "\n",
        "x = np.arange(len(labels))\n",
        "width = 0.35\n",
        "\n",
        "fig, ax = plt.subplots()\n",
        "bars1 = ax.bar(x - width/2, precisions, width, color=colors)\n",
        "bars2 = ax.bar(x + width/2, combined_precisions, width, color=combined_colors)\n",
        "\n",
        "ax.set_xlabel('Precision Types')\n",
        "ax.set_ylabel('Precision Values')\n",
        "ax.set_title('Comparison of Teacher and STKD Precisions with Combined Models')\n",
        "ax.set_xticks(x)\n",
        "ax.set_xticklabels(labels)\n",
        "\n",
        "ax.set_ylim(88, 90.5)\n",
        "\n",
        "ax.legend()\n",
        "\n",
        "plt.tight_layout()\n",
        "plt.show()\n"
      ]
    },
    {
      "cell_type": "markdown",
      "metadata": {
        "id": "hUR4E_gsMTWj"
      },
      "source": [
        "It is noticeable that the accuracy of the model ensemble is stably above the average accuracy of the same model, because the few different predictions of the individual models are corrected by the majority of models that perform them correctly. At the same time, I notice that the difference between models trained with Self-Distillation and those without remains minimal even in this case. I intuit that students trained using these models as teachers may have imperceptible improvements.\n",
        "\n",
        "I try the training anyway"
      ]
    },
    {
      "cell_type": "code",
      "execution_count": 58,
      "metadata": {
        "cellView": "form",
        "colab": {
          "base_uri": "https://localhost:8080/"
        },
        "id": "sGTGNkAj-3B0",
        "outputId": "e8083289-085c-4f31-b202-b905ab0cc290"
      },
      "outputs": [
        {
          "output_type": "stream",
          "name": "stdout",
          "text": [
            "Test accuracy: 87.07%\n",
            "Test accuracy: 86.82%\n",
            "Test accuracy: 87.17%\n",
            "Test accuracy: 86.01%\n",
            "Test accuracy: 85.74%\n",
            "Test accuracy: 87.09%\n",
            "Test accuracy: 86.86%\n",
            "Test accuracy: 86.91%\n",
            "Test accuracy: 86.09%\n",
            "Test accuracy: 85.51%\n",
            "Test accuracy: 87.25%\n",
            "Test accuracy: 86.76%\n",
            "Test accuracy: 86.94%\n",
            "Test accuracy: 86.33%\n",
            "Test accuracy: 85.75%\n",
            "Test accuracy: 87.05%\n",
            "Test accuracy: 86.9%\n",
            "Test accuracy: 86.8%\n",
            "Test accuracy: 86.21%\n",
            "Test accuracy: 85.42%\n"
          ]
        }
      ],
      "source": [
        "#@title Training models via MTKD with 2, 5, 10, 20 teachers trained with Self-Distillation and different $\\alpha$ values\n",
        "joint_students = []\n",
        "num_teachers = [2, 5, 10, 20]\n",
        "alphas = [0.25, 0.5, 0.75]\n",
        "a_s = ['025', '05', '075']\n",
        "num_iterations = 5\n",
        "for_graph3 = []\n",
        "json_url = 'https://raw.github.com/FRAMAX444/Knowledge-Distillation/main/saved_results/MTKD_STKD_AVG.json'\n",
        "for num in num_teachers:\n",
        "    for i in range(num_iterations):\n",
        "        model_url = f'https://raw.github.com/FRAMAX444/Knowledge-Distillation/main/neural_networks/Final_2_students_05/Final_2_student05_{num}_{i}.pth'\n",
        "        if not saved_results:\n",
        "            if not trained_models:\n",
        "                torch.manual_seed(i)\n",
        "\n",
        "                student_model_distillated = StudentModel().to(device)\n",
        "                student_model_distillated = train_student_model_multi_teacher(teachers_STKD_05[:num], student_model_distillated, epochs=10, alpha=alphas[a], T=2.0)\n",
        "                student_distillated_accuracy = test_model(student_model_distillated, test_loader)\n",
        "                torch.save(student_model_distillated.state_dict(), f'Final_2_student05_{num}_{i}.pth')\n",
        "                with zipfile.ZipFile('Final_2_students_05.zip', 'a') as zipf:\n",
        "                    zipf.write(f'Final_2_student05_{num}_{i}.pth')\n",
        "            else:\n",
        "                torch.manual_seed(i)\n",
        "                student_model_distillated = load_model_from_github(StudentModel, model_url, device)\n",
        "                student_distillated_accuracy = test_model(student_model_distillated, test_loader)\n",
        "            for_graph3.append([student_distillated_accuracy, num, 0.5, 2.0])\n",
        "\n",
        "            if save_jsons:\n",
        "                try:\n",
        "                    with open('MTKD_STKD_AVG.json', 'r') as json_file:\n",
        "                        data = json.load(json_file)\n",
        "                except FileNotFoundError:\n",
        "                    data = {}\n",
        "\n",
        "                key = f'Final_2_student05_{num}_{i}.pth'\n",
        "                if key not in data:\n",
        "                    data[key] = [student_distillated_accuracy, num, 0.5, 2.0]\n",
        "\n",
        "                    with open('MTKD_STKD_AVG.json', 'w') as file:\n",
        "                        json.dump(data, file, indent=4)\n",
        "\n",
        "            if import_models:\n",
        "                joint_students.append(student_model_distillated)\n",
        "        else:\n",
        "            try:\n",
        "                response = requests.get(json_url)\n",
        "                MTKD_STKD_AVG = response.json()\n",
        "                print(f\"Test accuracy: {MTKD_STKD_AVG[f'Final_2_student05_{num}_{i}.pth'][0]}%\")\n",
        "            except requests.exceptions.RequestException as e:\n",
        "                print(f\"Error fetching JSON: {e}\")\n",
        "            for_graph3.append(MTKD_STKD_AVG[f'Final_2_student05_{num}_{i}.pth'])\n",
        "            if import_models:\n",
        "                    student = load_model_from_github(StudentModel, model_url, device)\n",
        "                    teachersMTKD.append(teacher)"
      ]
    },
    {
      "cell_type": "code",
      "execution_count": 59,
      "metadata": {
        "cellView": "form",
        "colab": {
          "base_uri": "https://localhost:8080/",
          "height": 487
        },
        "id": "KHwPJFw-QGCz",
        "outputId": "22bd4c63-2009-4378-d73a-2e55f9611ec9"
      },
      "outputs": [
        {
          "output_type": "display_data",
          "data": {
            "text/plain": [
              "<Figure size 640x480 with 1 Axes>"
            ],
            "image/png": "[encoded data removed]"
          },
          "metadata": {}
        }
      ],
      "source": [
        "#@title Average accuracy graph for student models with Self-Distillation trained teachers compared to previous data\n",
        "counter_3 = {}\n",
        "\n",
        "for el in for_graph3:\n",
        "    add = el[0]/num_iterations\n",
        "    if (el[1], el[2], el[3]) not in counter_3:\n",
        "        counter_3[(el[1], el[2], el[3])] = add\n",
        "    else:\n",
        "        counter_3[(el[1], el[2], el[3])] += add\n",
        "\n",
        "keys1 = list(counter.keys())\n",
        "values1 = list(counter.values())\n",
        "keys2 = list(counter_T_2.keys())\n",
        "values2 = list(counter_T_2.values())\n",
        "keys3 = list(counter_3.keys())\n",
        "values3 = list(counter_3.values())\n",
        "combined = (\n",
        "    list(zip(keys1, values1, ['blue'] * len(keys1))) +\n",
        "    list(zip(keys2, values2, ['red' if key == (1, 0.0, 1.0) else 'green' for key in keys2])) +\n",
        "    list(zip(keys3, values3, ['orange'] * len(keys3)))\n",
        ")\n",
        "combined_sorted = sorted(combined, key=lambda x: (x[0][1], x[0][0]))\n",
        "\n",
        "keys_sorted, values_sorted, colors_sorted = zip(*combined_sorted)\n",
        "\n",
        "labels_sorted = [str(key) for key in keys_sorted]\n",
        "\n",
        "x_positions = np.arange(len(keys_sorted))\n",
        "\n",
        "plt.bar(x_positions, values_sorted, color=colors_sorted)\n",
        "\n",
        "red_value = next((value for key, value, color in combined_sorted if color == 'red'), None)\n",
        "\n",
        "if red_value is not None:\n",
        "    plt.axhline(y=red_value, color='red', linestyle='--', label=f'Red value: {red_value}')\n",
        "\n",
        "plt.xticks(x_positions, labels_sorted, rotation=90)\n",
        "plt.ylabel('Average Accuracies')\n",
        "plt.title('Average Accuracy for Different (Num_Teachers, Alpha, Temperature)')\n",
        "\n",
        "plt.ylim(86, 87)\n",
        "\n",
        "plt.tight_layout()\n",
        "plt.show()"
      ]
    },
    {
      "cell_type": "markdown",
      "metadata": {
        "id": "VJWE57R0NwY8"
      },
      "source": [
        "Using the MTKD graph with Prediction averaging, I add in orange students with self-distillated teachers. Overall accuracy is deteriorating. Probably the final logits of these models are not as informative. In fact I think that the applied loss may have benefited the individual models but have created some final logits of worse quality with many similar values among them that do not help the student. This is because the \"Self-Distillation in the middle\", which gave equal weight to intermediate logits, despite creating more precise final logits, perhaps made these last go out of scale and did not guarantee an extreme conviction in the prediction of the class.\n",
        "\n",
        "If the graph does not show correctly I recommend to restart the runtime and run everything with the settings given in the introduction (to ensure a fast execution) Since it refers to old data that may have been lost running the same cell multiple times.\n"
      ]
    },
    {
      "cell_type": "markdown",
      "metadata": {
        "id": "VVzVd7wmHxj4"
      },
      "source": [
        "### ***9. Different teachers***"
      ]
    },
    {
      "cell_type": "markdown",
      "metadata": {
        "id": "vK9LCmSMTCg6"
      },
      "source": [
        "I try to improve students' performance by providing them with a wide range of information from models of different types than their own. In addition to the MLP I add CNN and ShallowDenseNet"
      ]
    },
    {
      "cell_type": "code",
      "execution_count": 60,
      "metadata": {
        "id": "3EP7gwHwB3B3"
      },
      "outputs": [],
      "source": [
        "class CNNTeacherModel(nn.Module):\n",
        "    def __init__(self, input_size=28*28):\n",
        "        super(CNNTeacherModel, self).__init__()\n",
        "        self.conv1 = nn.Conv2d(1, 32, kernel_size=3, stride=1, padding=1)\n",
        "        self.conv2 = nn.Conv2d(32, 64, kernel_size=3, stride=1, padding=1)\n",
        "        self.pool = nn.MaxPool2d(2, 2)\n",
        "        self.fc1 = nn.Linear(64 * 7 * 7, 128)\n",
        "        self.fc2 = nn.Linear(128, 10)\n",
        "\n",
        "    def forward(self, x):\n",
        "        x = self.pool(F.relu(self.conv1(x)))\n",
        "        x = self.pool(F.relu(self.conv2(x)))\n",
        "        x = x.view(-1, 64 * 7 * 7)\n",
        "        x = F.relu(self.fc1(x))\n",
        "        x = self.fc2(x)\n",
        "        return x\n",
        "\n",
        "class ShallowDenseNet(nn.Module):\n",
        "    def __init__(self, input_size = 28*28, num_channels = 1):\n",
        "        super(ShallowDenseNet, self).__init__()\n",
        "        self.input_size = input_size\n",
        "        self.conv1 = nn.Conv2d(num_channels, 8, kernel_size=3, padding=1)\n",
        "        self.denseblock = nn.Sequential(\n",
        "            nn.BatchNorm2d(8),\n",
        "            nn.ReLU(inplace=True),\n",
        "            nn.Conv2d(8, 16, kernel_size=3, padding=1),\n",
        "            nn.BatchNorm2d(16),\n",
        "            nn.ReLU(inplace=True),\n",
        "            nn.Conv2d(16, 8, kernel_size=3, padding=1)\n",
        "        )\n",
        "        self.fc = nn.Linear(8 * input_size, 10)\n",
        "\n",
        "    def forward(self, x):\n",
        "        x = self.conv1(x)\n",
        "        x = self.denseblock(x) + x\n",
        "        x = x.view(-1, 8 * self.input_size)\n",
        "        x = self.fc(x)\n",
        "        return x"
      ]
    },
    {
      "cell_type": "markdown",
      "metadata": {
        "id": "O5Nk70GGTosz"
      },
      "source": [
        "I now train teachers of different types (still on fashionMNIST)"
      ]
    },
    {
      "cell_type": "code",
      "execution_count": 61,
      "metadata": {
        "cellView": "form",
        "colab": {
          "base_uri": "https://localhost:8080/"
        },
        "id": "k26iHRwe5IDP",
        "outputId": "999adf53-1166-49bf-eff2-71bae086b816"
      },
      "outputs": [
        {
          "output_type": "stream",
          "name": "stdout",
          "text": [
            "CNN test accuracy: 91.63%\n",
            "ShallowDenseNet test accuracy: 89.44%\n",
            "MLP test accuracy: 88.27%\n",
            "CNN test accuracy: 92.02%\n",
            "ShallowDenseNet test accuracy: 89.14%\n",
            "MLP test accuracy: 88.23%\n",
            "CNN test accuracy: 92.02%\n",
            "ShallowDenseNet test accuracy: 88.89%\n",
            "MLP test accuracy: 87.95%\n",
            "CNN test accuracy: 91.93%\n",
            "ShallowDenseNet test accuracy: 89.51%\n",
            "MLP test accuracy: 88.32%\n",
            "CNN test accuracy: 91.87%\n",
            "ShallowDenseNet test accuracy: 89.32%\n",
            "MLP test accuracy: 88.13%\n"
          ]
        }
      ],
      "source": [
        "#@title Training the new teachers\n",
        "\n",
        "num_teachers = [2,5,10,20]\n",
        "final_teachers = []\n",
        "\n",
        "num_iterations = 5\n",
        "prefix_url = 'https://raw.github.com/FRAMAX444/Knowledge-Distillation/main/neural_networks/Last_Teachers'\n",
        "json_url = 'https://raw.github.com/FRAMAX444/Knowledge-Distillation/main/saved_results/Last_Teachers.json'\n",
        "\n",
        "for i in range(num_iterations):\n",
        "    if not saved_results:\n",
        "        if not trained_models:\n",
        "            torch.manual_seed(i)\n",
        "            cnn = CNNTeacherModel()\n",
        "            train(cnn, 10)\n",
        "            torch.save(cnn.state_dict(), f'CNN_teacher_{i}.pth')\n",
        "            with zipfile.ZipFile('Last_Teachers.zip', 'a') as zipf: zipf.write(f'CNN_teacher_{i}.pth')\n",
        "            torch.manual_seed(i)\n",
        "            shallowdensenet = ShallowDenseNet()\n",
        "            train(shallowdensenet, 10)\n",
        "            torch.save(shallowdensenet.state_dict(), f'shallowdensenet_teacher_{i}.pth')\n",
        "            with zipfile.ZipFile('Last_Teachers.zip', 'a') as zipf: zipf.write(f'shallowdensenet_teacher_{i}.pth')\n",
        "\n",
        "        else:\n",
        "            torch.manual_seed(i)\n",
        "            cnn = load_model_from_github(CNNTeacherModel, prefix_url+f'/CNN_teacher_{i}.pth', device)\n",
        "            cnn_acc = test_model(cnn, test_loader)\n",
        "\n",
        "            sdnt = load_model_from_github(ShallowDenseNet, prefix_url+f'/shallowdensenet_teacher_{i}.pth', device)\n",
        "            sdnt_acc = test_model(sdnt, test_loader)\n",
        "\n",
        "            mlp = load_model_from_github(TeacherModel, f'https://raw.github.com/FRAMAX444/Knowledge-Distillation/main/neural_networks/MTKD/teacher_{i}.pth', device)\n",
        "            mlp_acc = test_model(mlp, test_loader)\n",
        "\n",
        "            if import_models:\n",
        "                final_teachers.append(cnn)\n",
        "                final_teachers.append(sdnt)\n",
        "                final_teachers.append(mlp)\n",
        "\n",
        "            if save_jsons:\n",
        "                try:\n",
        "                    with open(f'Last_Teachers.json', 'r') as json_file:\n",
        "                        Last_Teachers = json.load(json_file)\n",
        "                except FileNotFoundError:\n",
        "                    Last_Teachers = {}\n",
        "\n",
        "                if f'CNN_teacher_{i}.pth' not in Last_Teachers:\n",
        "                    Last_Teachers[f'CNN_teacher_{i}.pth'] = cnn_acc\n",
        "\n",
        "                    with open('Last_Teachers.json', 'w') as file:\n",
        "                        json.dump(Last_Teachers, file, indent=4)\n",
        "\n",
        "                if f'shallowdensenet_teacher_{i}.pth' not in Last_Teachers:\n",
        "                    Last_Teachers[f'shallowdensenet_teacher_{i}.pth'] = sdnt_acc\n",
        "\n",
        "                    with open('Last_Teachers.json', 'w') as file:\n",
        "                        json.dump(Last_Teachers, file, indent=4)\n",
        "\n",
        "                if f'teacher_{i}.pth' not in Last_Teachers:\n",
        "                    Last_Teachers[f'teacher_{i}.pth'] = mlp_acc\n",
        "\n",
        "                    with open('Last_Teachers.json', 'w') as file:\n",
        "                        json.dump(Last_Teachers, file, indent=4)\n",
        "    else:\n",
        "        try:\n",
        "            response = requests.get(json_url)\n",
        "            Last_Teachers = response.json()\n",
        "        except requests.exceptions.RequestException as e:\n",
        "            print(f\"Error fetching JSON: {e}\")\n",
        "        print(f\"CNN test accuracy: {Last_Teachers[f'CNN_teacher_{i}.pth']}%\")\n",
        "        print(f\"ShallowDenseNet test accuracy: {Last_Teachers[f'shallowdensenet_teacher_{i}.pth']}%\")\n",
        "        print(f\"MLP test accuracy: {Last_Teachers[f'teacher_{i}.pth']}%\")\n",
        "\n",
        "        if import_models:\n",
        "            cnn = load_model_from_github(CNNTeacherModel, prefix_url+f'/CNN_teacher_{i}.pth', device)\n",
        "            sdnt = load_model_from_github(ShallowDenseNet, prefix_url+f'/shallowdensenet_teacher_{i}.pth', device)\n",
        "            mlp = load_model_from_github(TeacherModel, f'https://raw.github.com/FRAMAX444/Knowledge-Distillation/main/neural_networks/MTKD/teacher_{i}.pth', device)\n",
        "\n",
        "            final_teachers += [cnn, sdnt, mlp]\n"
      ]
    },
    {
      "cell_type": "markdown",
      "metadata": {
        "id": "cUo2VKlQTvgf"
      },
      "source": [
        "As previously done, I check the accuracy of the \"ensemble model\" where logits are the average of the teachers' logits"
      ]
    },
    {
      "cell_type": "code",
      "execution_count": 62,
      "metadata": {
        "cellView": "form",
        "colab": {
          "base_uri": "https://localhost:8080/"
        },
        "id": "DDAXpKF2FgZ3",
        "outputId": "11ec0672-bd84-438d-c456-20988d960c44"
      },
      "outputs": [
        {
          "output_type": "stream",
          "name": "stdout",
          "text": [
            "Test accuracy: 93.03%\n"
          ]
        }
      ],
      "source": [
        "#@title Combined accuracies *\n",
        "json_url = 'https://raw.github.com/FRAMAX444/Knowledge-Distillation/main/saved_results/combined_teacher_predictions.json'\n",
        "if not saved_results:\n",
        "    try:\n",
        "        with open('combined_teacher_predictions.json', 'r') as json_file:\n",
        "            Last_Teachers = json.load(json_file)\n",
        "    except FileNotFoundError:\n",
        "        Last_Teachers = {}\n",
        "\n",
        "    combined_final_teachers = combine_teacher_predictions(final_teachers)\n",
        "    print(f'Test accuracy: {combined_final_teachers}')\n",
        "    if save_jsons:\n",
        "        if 'combined_final_teachers' not in Last_Teachers:\n",
        "            Last_Teachers['combined_final_teachers'] = combined_final_teachers\n",
        "            with open('combined_teacher_predictions.json', 'w') as file:\n",
        "                json.dump(Last_Teachers, file, indent=4)\n",
        "else:\n",
        "    try:\n",
        "        response = requests.get(json_url)\n",
        "        CT = response.json()\n",
        "        print(f\"Test accuracy: {CT['combined_final_teachers']}%\")\n",
        "    except requests.exceptions.RequestException as e:\n",
        "        print(f\"Error fetching JSON: {e}\")\n"
      ]
    },
    {
      "cell_type": "markdown",
      "metadata": {
        "id": "gccPDkNyUHeD"
      },
      "source": [
        "Now I check the differences of the ensemble model with all MLP and mixed one. I do this by taking the image formed by the average of the images classified incorrectly on the test set."
      ]
    },
    {
      "cell_type": "code",
      "execution_count": 63,
      "metadata": {
        "cellView": "form",
        "colab": {
          "base_uri": "https://localhost:8080/",
          "height": 887
        },
        "id": "7jhOFUpwqMn8",
        "outputId": "869648fe-2a7e-474c-fed1-7f9daf982150"
      },
      "outputs": [
        {
          "output_type": "display_data",
          "data": {
            "text/plain": [
              "<Figure size 640x480 with 1 Axes>"
            ],
            "image/png": "[encoded data removed]"
          },
          "metadata": {}
        },
        {
          "output_type": "display_data",
          "data": {
            "text/plain": [
              "<Figure size 640x480 with 1 Axes>"
            ],
            "image/png": "[encoded data removed]"
          },
          "metadata": {}
        }
      ],
      "source": [
        "#@title MLPs *\n",
        "\n",
        "def test_and_collect_incorrect(model, loader):\n",
        "    model.eval()\n",
        "    incorrect_images = []\n",
        "    with torch.no_grad():\n",
        "        for data, target in loader:\n",
        "            data, target = data.to(device), target.to(device)\n",
        "            output = model(data)\n",
        "            pred = output.argmax(dim=1, keepdim=True)\n",
        "            incorrect_mask = ~pred.eq(target.view_as(pred)).squeeze()\n",
        "            incorrect_images.extend(data[incorrect_mask].cpu().numpy())\n",
        "    return incorrect_images\n",
        "\n",
        "all_incorrect_images = []\n",
        "\n",
        "if not saved_results:\n",
        "    for model in teachersMTKD:\n",
        "        incorrect_images = test_and_collect_incorrect(model, train_loader)\n",
        "        all_incorrect_images.extend(incorrect_images)\n",
        "\n",
        "    first_incorrect_images = test_and_collect_incorrect(teachersMTKD[0], train_loader)\n",
        "    avg_image = np.mean(np.stack(all_incorrect_images), axis=0)\n",
        "    first_avg_image = np.mean(np.stack(first_incorrect_images), axis=0)\n",
        "    np.save('average_incorrect_image_same_models.npy', avg_image)\n",
        "    np.save('average_incorrect_image_1_MLP.npy', first_avg_image)\n",
        "\n",
        "\n",
        "else:\n",
        "    url1 = \"https://raw.github.com/FRAMAX444/Knowledge-Distillation/main/files_npy_images/average_incorrect_image_same_models.npy\"\n",
        "    url2 = \"https://raw.github.com/FRAMAX444/Knowledge-Distillation/main/files_npy_images/average_incorrect_image_1_MLP.npy\"\n",
        "    response1 = requests.get(url1)\n",
        "    response2 = requests.get(url2)\n",
        "    file_stream1 = io.BytesIO(response1.content)\n",
        "    file_stream2 = io.BytesIO(response2.content)\n",
        "\n",
        "    avg_image = np.load(file_stream1)\n",
        "    first_avg_image = np.load(file_stream2)\n",
        "\n",
        "plt.imshow(np.transpose(avg_image, (1, 2, 0)))\n",
        "plt.title(\"Average Image of Incorrect Predictions of multiple models\")\n",
        "plt.show()\n",
        "\n",
        "plt.imshow(np.transpose(first_avg_image, (1, 2, 0)))\n",
        "plt.title(\"Average Image of Incorrect Predictions of one model\")\n",
        "plt.show()\n"
      ]
    },
    {
      "cell_type": "code",
      "execution_count": 64,
      "metadata": {
        "cellView": "form",
        "colab": {
          "base_uri": "https://localhost:8080/",
          "height": 1000
        },
        "id": "IpAoU9wRvbOl",
        "outputId": "1c00e73c-98ff-4af3-88a3-46b25232647e"
      },
      "outputs": [
        {
          "output_type": "display_data",
          "data": {
            "text/plain": [
              "<Figure size 640x480 with 1 Axes>"
            ],
            "image/png": "[encoded data removed]"
          },
          "metadata": {}
        },
        {
          "output_type": "display_data",
          "data": {
            "text/plain": [
              "<Figure size 640x480 with 1 Axes>"
            ],
            "image/png": "[encoded data removed]"
          },
          "metadata": {}
        },
        {
          "output_type": "display_data",
          "data": {
            "text/plain": [
              "<Figure size 640x480 with 1 Axes>"
            ],
            "image/png": "[encoded data removed]"
          },
          "metadata": {}
        },
        {
          "output_type": "display_data",
          "data": {
            "text/plain": [
              "<Figure size 640x480 with 1 Axes>"
            ],
            "image/png": "[encoded data removed]"
          },
          "metadata": {}
        }
      ],
      "source": [
        "#@title Different models ensemble *\n",
        "\n",
        "\n",
        "def test_and_collect_incorrect(model, loader):\n",
        "    model.eval()\n",
        "    incorrect_images = []\n",
        "    with torch.no_grad():\n",
        "        for data, target in loader:\n",
        "            data, target = data.to(device), target.to(device)\n",
        "            output = model(data)\n",
        "            pred = output.argmax(dim=1, keepdim=True)\n",
        "            incorrect_mask = ~pred.eq(target.view_as(pred)).squeeze()\n",
        "            incorrect_images.extend(data[incorrect_mask].cpu().numpy())\n",
        "    return incorrect_images\n",
        "\n",
        "all_incorrect_images = []\n",
        "\n",
        "if not saved_results:\n",
        "    for model in final_teachers:\n",
        "        incorrect_images = test_and_collect_incorrect(model, train_loader)\n",
        "        all_incorrect_images.extend(incorrect_images)\n",
        "\n",
        "    first_incorrect_images = test_and_collect_incorrect(final_teachers[0], train_loader)\n",
        "    second_incorrect_images = test_and_collect_incorrect(final_teachers[1], train_loader)\n",
        "    third_incorrect_images = test_and_collect_incorrect(final_teachers[2], train_loader)\n",
        "\n",
        "    avg_image = np.mean(np.stack(all_incorrect_images), axis=0)\n",
        "\n",
        "    first_avg_image = np.mean(np.stack(first_incorrect_images), axis=0)\n",
        "    second_avg_image = np.mean(np.stack(second_incorrect_images), axis=0)\n",
        "    third_avg_image = np.mean(np.stack(third_incorrect_images), axis=0)\n",
        "\n",
        "    np.save('average_incorrect_image_different_models.npy', avg_image)\n",
        "    np.save('average_incorrect_image_2_CNN.npy', first_avg_image)\n",
        "    np.save('average_incorrect_image_2_SDNT.npy', avg_image)\n",
        "    np.save('average_incorrect_image_2_MLP.npy', first_avg_image)\n",
        "\n",
        "else:\n",
        "    url1 = \"https://raw.github.com/FRAMAX444/Knowledge-Distillation/main/files_npy_images/average_incorrect_image_different_models.npy\"\n",
        "    url2 = \"https://raw.github.com/FRAMAX444/Knowledge-Distillation/main/files_npy_images/average_incorrect_image_2_CNN.npy\"\n",
        "    url3 = \"https://raw.github.com/FRAMAX444/Knowledge-Distillation/main/files_npy_images/average_incorrect_image_2_SDNT.npy\"\n",
        "    url4 = \"https://raw.github.com/FRAMAX444/Knowledge-Distillation/main/files_npy_images/average_incorrect_image_2_MLP.npy\"\n",
        "\n",
        "    response1 = requests.get(url1)\n",
        "    response2 = requests.get(url2)\n",
        "    response3 = requests.get(url3)\n",
        "    response4 = requests.get(url4)\n",
        "\n",
        "    file_stream1 = io.BytesIO(response1.content)\n",
        "    file_stream2 = io.BytesIO(response2.content)\n",
        "    file_stream3 = io.BytesIO(response3.content)\n",
        "    file_stream4 = io.BytesIO(response4.content)\n",
        "\n",
        "    avg_image = np.load(file_stream1)\n",
        "    first_avg_image = np.load(file_stream2)\n",
        "    second_avg_image = np.load(file_stream3)\n",
        "    third_avg_image = np.load(file_stream4)\n",
        "\n",
        "plt.imshow(np.transpose(avg_image, (1, 2, 0)))\n",
        "plt.title(\"Average Image of Incorrect Predictions of multiple models\")\n",
        "plt.show()\n",
        "\n",
        "plt.imshow(np.transpose(first_avg_image, (1, 2, 0)))\n",
        "plt.title(\"Average Image of Incorrect Predictions of one CNN\")\n",
        "plt.show()\n",
        "\n",
        "plt.imshow(np.transpose(second_avg_image, (1, 2, 0)))\n",
        "plt.title(\"Average Image of Incorrect Predictions of one SDNT\")\n",
        "plt.show()\n",
        "\n",
        "plt.imshow(np.transpose(third_avg_image, (1, 2, 0)))\n",
        "plt.title(\"Average Image of Incorrect Predictions of one MLP\")\n",
        "plt.show()"
      ]
    },
    {
      "cell_type": "markdown",
      "metadata": {
        "id": "RzFQ1vuiUfTE"
      },
      "source": [
        "As it can be seen, in both cases the ensemble has some areas improved, like the upper area. The image of mixed ensemble errors does not seem (at least to the eye) an improvement compared to that of MLPs. But this is definitely a human limit: that \"ensemble model\" has accuracy above $93$% versus the MLPs around $90$%.\n",
        "\n",
        "I am looking for an effect of this theoretical improvement of teachers on students, training students this time with $3$, $9$ and $15$ teachers taken from this model. These are numbers chosen to ensure that the CNN, Shallowdensenet and MLP numbers are always the same among teachers of different models."
      ]
    },
    {
      "cell_type": "code",
      "execution_count": 65,
      "metadata": {
        "cellView": "form",
        "colab": {
          "base_uri": "https://localhost:8080/"
        },
        "id": "6SMvlAEr_kST",
        "outputId": "cb17dedb-1bcb-4fba-adca-0771583236ca"
      },
      "outputs": [
        {
          "output_type": "stream",
          "name": "stdout",
          "text": [
            "Test accuracy: 86.7%\n",
            "Test accuracy: 86.66%\n",
            "Test accuracy: 87.13%\n",
            "Test accuracy: 86.04%\n",
            "Test accuracy: 85.83%\n",
            "Test accuracy: 86.7%\n",
            "Test accuracy: 86.66%\n",
            "Test accuracy: 87.13%\n",
            "Test accuracy: 86.04%\n",
            "Test accuracy: 85.83%\n",
            "Test accuracy: 86.7%\n",
            "Test accuracy: 86.66%\n",
            "Test accuracy: 87.13%\n",
            "Test accuracy: 86.04%\n",
            "Test accuracy: 85.83%\n"
          ]
        }
      ],
      "source": [
        "#@title Training StudentModels with different teachers\n",
        "\n",
        "num_teachers = [3, 9, 15]\n",
        "store_finale_MTKD_students = []\n",
        "num_iterations = 5\n",
        "for_graph4 = []\n",
        "json_url = 'https://raw.github.com/FRAMAX444/Knowledge-Distillation/main/saved_results/MTKD_finale.json'\n",
        "for num in num_teachers:\n",
        "    for i in range(num_iterations):\n",
        "        model_url = f'https://raw.github.com/FRAMAX444/Knowledge-Distillation/main/neural_networks/MTKD_finale/MTKD_finale_student05_{num}_{i}.pth'\n",
        "        if not saved_results:\n",
        "            if not trained_models:\n",
        "                torch.manual_seed(i)\n",
        "                student_model_distillated = StudentModel().to(device)\n",
        "                student_model_distillated = train_student_model_multi_teacher(final_teachers[:num], student_model_distillated, epochs=10, alpha=0.5, T=2.0)\n",
        "                student_distillated_accuracy = test_model(student, test_loader)\n",
        "                torch.save(student.state_dict(), f'MTKD_finale_student05_{num}_{i}.pth')\n",
        "                with zipfile.ZipFile('MTKD_finale.zip', 'a') as zipf:\n",
        "                    zipf.write(f'MTKD_finale_student05_{num}_{i}.pth')\n",
        "            else:\n",
        "                torch.manual_seed(i)\n",
        "                student_model_distillated = load_model_from_github(StudentModel, model_url, device)\n",
        "                student_distillated_accuracy = test_model(student_model_distillated, test_loader)\n",
        "            for_graph4.append([student_distillated_accuracy, num, 0.5, 2.0])\n",
        "\n",
        "            if import_models:\n",
        "                store_finale_MTKD_students.append(student_model_distillated)\n",
        "\n",
        "            if save_jsons:\n",
        "                try:\n",
        "                    with open('MTKD_finale.json', 'r') as json_file:\n",
        "                        data = json.load(json_file)\n",
        "                except FileNotFoundError:\n",
        "                    data = {}\n",
        "\n",
        "                key = f'{num}_{i}'\n",
        "                if key not in data:\n",
        "                    data[key] = [student_distillated_accuracy, num, 0.5, 2.0]\n",
        "\n",
        "                    with open('MTKD_finale.json', 'w') as file:\n",
        "                        json.dump(data, file, indent=4)\n",
        "        else:\n",
        "            try:\n",
        "                response = requests.get(json_url)\n",
        "                MTKD_finale = response.json()\n",
        "                print(f\"Test accuracy: {MTKD_finale[f'{num}_{i}'][0]}%\")\n",
        "            except requests.exceptions.RequestException as e:\n",
        "                print(f\"Error fetching JSON: {e}\")\n",
        "\n",
        "            for_graph4.append(MTKD_finale[f'{num}_{i}'])\n",
        "\n",
        "            if import_models:\n",
        "                    teacher = load_model_from_github(StudentModel, model_url, device)\n",
        "                    teachersMTKD.append(teacher)"
      ]
    },
    {
      "cell_type": "code",
      "execution_count": 66,
      "metadata": {
        "cellView": "form",
        "id": "jC2Er-E1A4KK",
        "colab": {
          "base_uri": "https://localhost:8080/",
          "height": 487
        },
        "outputId": "b3ef36b4-e94b-4f3c-d067-0897030ca317"
      },
      "outputs": [
        {
          "output_type": "display_data",
          "data": {
            "text/plain": [
              "<Figure size 640x480 with 1 Axes>"
            ],
            "image/png": "[encoded data removed]"
          },
          "metadata": {}
        }
      ],
      "source": [
        "#@title Plotting results\n",
        "\n",
        "counter_4 = {}\n",
        "\n",
        "for el in for_graph4:\n",
        "    add = el[0] / num_iterations\n",
        "    if (el[1], el[2], el[3]) not in counter_4:\n",
        "        counter_4[(el[1], el[2], el[3])] = add\n",
        "    else:\n",
        "        counter_4[(el[1], el[2], el[3])] += add\n",
        "\n",
        "keys1 = list(counter_2.keys())\n",
        "values1 = list(counter_2.values())\n",
        "keys2 = list(counter_T_2.keys())\n",
        "values2 = list(counter_T_2.values())\n",
        "keys3 = list(counter_3.keys())\n",
        "values3 = list(counter_3.values())\n",
        "keys4 = list(counter_4.keys())\n",
        "values4 = list(counter_4.values())\n",
        "\n",
        "combined = (\n",
        "    list(zip(keys1, values1, ['blue'] * len(keys1))) +\n",
        "    list(zip(keys2, values2, ['red' if key == (1, 0.0, 1.0) else 'green' for key in keys2])) +\n",
        "    list(zip(keys3, values3, ['orange'] * len(keys3))) +\n",
        "    list(zip(keys4, values4, ['purple'] * len(keys4)))\n",
        ")\n",
        "\n",
        "combined_sorted = sorted(combined, key=lambda x: (x[0][1], x[0][0]))\n",
        "keys_sorted, values_sorted, colors_sorted = zip(*combined_sorted)\n",
        "labels_sorted = [str(key) for key in keys_sorted]\n",
        "x_positions = np.arange(len(keys_sorted))\n",
        "plt.bar(x_positions, values_sorted, color=colors_sorted)\n",
        "\n",
        "red_value = next((value for key, value, color in combined_sorted if color == 'red'), None)\n",
        "\n",
        "if red_value is not None:\n",
        "    plt.axhline(y=red_value, color='red', linestyle='--', label=f'Red value: {red_value}')\n",
        "\n",
        "plt.xticks(x_positions, labels_sorted, rotation=90)\n",
        "plt.ylabel('Average Accuracies')\n",
        "plt.title('Average Accuracy for Different (Num_Teachers, Alpha, Temperature)')\n",
        "plt.ylim(85, 88)\n",
        "plt.tight_layout()\n",
        "plt.show()"
      ]
    },
    {
      "cell_type": "markdown",
      "metadata": {
        "id": "fR_-5IrkWhwO"
      },
      "source": [
        "This also didn’t improve the results... Maybe it’s the dataset? Maybe it’s too simple and the StudentModels are already too precise? I try it all over again with CIFAR-10."
      ]
    },
    {
      "cell_type": "markdown",
      "metadata": {
        "id": "8scWeZEYArzG"
      },
      "source": [
        "### ***10. CFIAR-10***"
      ]
    },
    {
      "cell_type": "markdown",
      "metadata": {
        "id": "jyUVEZ3NW4JU"
      },
      "source": [
        "All the processes I will carry out have been explained in previous sections, in this section I will limit to perform them to observe the results. MLP networks will remain unchanged by changing only the size of the input in 32x32x3 given the 3 channels of these images (they are color images). Given the time taken for images with this amount of information, I will run 3 iterations instead of 5 to get the accuracy"
      ]
    },
    {
      "cell_type": "code",
      "execution_count": 67,
      "metadata": {
        "cellView": "form",
        "colab": {
          "base_uri": "https://localhost:8080/",
          "height": 524
        },
        "id": "4qw1wycUAvv0",
        "outputId": "871a8398-5b84-4258-a4c3-71551f53258c"
      },
      "outputs": [
        {
          "output_type": "stream",
          "name": "stdout",
          "text": [
            "Files already downloaded and verified\n",
            "Files already downloaded and verified\n"
          ]
        },
        {
          "output_type": "stream",
          "name": "stderr",
          "text": [
            "WARNING:matplotlib.image:Clipping input data to the valid range for imshow with RGB data ([0..1] for floats or [0..255] for integers).\n"
          ]
        },
        {
          "output_type": "display_data",
          "data": {
            "text/plain": [
              "<Figure size 640x480 with 1 Axes>"
            ],
            "image/png": "[encoded data removed]"
          },
          "metadata": {}
        }
      ],
      "source": [
        "#@title import dataset\n",
        "\n",
        "torch.manual_seed(0)\n",
        "\n",
        "transform_train = transforms.Compose([\n",
        "    transforms.RandomHorizontalFlip(),\n",
        "    transforms.RandomCrop(32, padding=4),\n",
        "    transforms.ToTensor(),\n",
        "    transforms.Normalize((0.4914, 0.4822, 0.4465), (0.2470, 0.2435, 0.2616)),\n",
        "])\n",
        "\n",
        "\n",
        "transform_test = transforms.Compose([\n",
        "    transforms.ToTensor(),\n",
        "    transforms.Normalize((0.4914, 0.4822, 0.4465), (0.2470, 0.2435, 0.2616)),\n",
        "])\n",
        "\n",
        "\n",
        "train_setCIFAR = torchvision.datasets.CIFAR10(\n",
        "    root='./data',\n",
        "    train=True,\n",
        "    download=True,\n",
        "    transform=transform_train\n",
        ")\n",
        "\n",
        "\n",
        "test_setCIFAR = torchvision.datasets.CIFAR10(\n",
        "    root='./data',\n",
        "    train=False,\n",
        "    download=True,\n",
        "    transform=transform_test\n",
        ")\n",
        "\n",
        "\n",
        "train_loaderCIFAR = DataLoader(\n",
        "    train_setCIFAR,\n",
        "    batch_size=64,\n",
        "    shuffle=True,\n",
        "    num_workers=2\n",
        ")\n",
        "\n",
        "\n",
        "test_loaderCIFAR = DataLoader(\n",
        "    test_setCIFAR,\n",
        "    batch_size=64,\n",
        "    shuffle=False,\n",
        "    num_workers=2\n",
        ")\n",
        "\n",
        "classes = train_setCIFAR.classes\n",
        "image, label = train_setCIFAR[100]\n",
        "image = image / 2 + 0.5\n",
        "np_image = image.numpy()\n",
        "np_image = np.transpose(np_image, (1, 2, 0))\n",
        "\n",
        "plt.imshow(np_image)\n",
        "plt.title(f'Label: {classes[label]}')\n",
        "plt.show()\n"
      ]
    },
    {
      "cell_type": "code",
      "execution_count": 68,
      "metadata": {
        "cellView": "form",
        "id": "3lLtPj7Dh_yK",
        "colab": {
          "base_uri": "https://localhost:8080/"
        },
        "outputId": "f7a5b103-e248-4ead-b12c-ab56ae8b4aeb"
      },
      "outputs": [
        {
          "output_type": "stream",
          "name": "stdout",
          "text": [
            "Test accuracy: 46.17%\n",
            "Test accuracy: 48.7%\n",
            "Test accuracy: 47.7%\n",
            "Test accuracy: 48.58%\n",
            "Test accuracy: 47.65%\n",
            "Test accuracy: 48.25%\n",
            "Test accuracy: 47.88%\n",
            "Test accuracy: 46.1%\n",
            "Test accuracy: 47.58%\n",
            "Test accuracy: 48.52%\n",
            "Test accuracy: 47.71%\n",
            "Test accuracy: 48.81%\n",
            "Test accuracy: 47.33%\n",
            "Test accuracy: 46.92%\n",
            "Test accuracy: 47.35%\n",
            "Test accuracy: 46.93%\n",
            "Test accuracy: 48.11%\n",
            "Test accuracy: 46.56%\n",
            "Test accuracy: 46.71%\n",
            "Test accuracy: 46.8%\n"
          ]
        }
      ],
      "source": [
        "#@title Training 20 TeacherModels\n",
        "teacher_modelsCIFAR = []\n",
        "\n",
        "num_teachers = 20\n",
        "json_url = 'https://raw.github.com/FRAMAX444/Knowledge-Distillation/main/saved_results/CIFAR_teachers.json'\n",
        "for i in range(num_teachers):\n",
        "    model_url = f'https://raw.github.com/FRAMAX444/Knowledge-Distillation/main/neural_networks/CIFAR_teachers/MLP_CIFAR_teacher_{i}.pth'#corretto\n",
        "    if not saved_results:\n",
        "        if not trained_models:\n",
        "            torch.manual_seed(i)\n",
        "            teacher = TeacherModel(32*32*3).to(device)\n",
        "            teacher = train(teacher, epochs=10, train_loader = train_loaderCIFAR)\n",
        "\n",
        "            torch.save(teacher.state_dict(), f'MLP_CIFAR_teacher_{i}.pth')\n",
        "\n",
        "            with zipfile.ZipFile('CIFAR_teachers.zip', 'a') as zipf:\n",
        "                zipf.write(f'MLP_CIFAR_teacher_{i}.pth')\n",
        "\n",
        "            teacher_accuracy = test_model(teacher, test_loaderCIFAR)\n",
        "        else:\n",
        "            torch.manual_seed(i)\n",
        "            teacher = load_model_from_github(TeacherModel, model_url, device, 32*32*3)\n",
        "            teacher_accuracy = test_model(teacher, test_loaderCIFAR)\n",
        "\n",
        "        if save_jsons:\n",
        "            try:\n",
        "                with open('CIFAR_teachers.json', 'r') as json_file:\n",
        "                    data = json.load(json_file)\n",
        "            except FileNotFoundError:\n",
        "                data = {}\n",
        "\n",
        "            if f'MLP_CIFAR_teacher_{i}.pth' not in data:\n",
        "                data[f'MLP_CIFAR_teacher_{i}.pth'] = teacher_accuracy\n",
        "\n",
        "                with open('CIFAR_teachers.json', 'w') as file:\n",
        "                    json.dump(data, file, indent=4)\n",
        "        if import_models:\n",
        "            teacher_modelsCIFAR.append(teacher)\n",
        "    else:\n",
        "        try:\n",
        "            response = requests.get(json_url)\n",
        "            cifar_teachers = response.json()\n",
        "            print(f\"Test accuracy: {cifar_teachers[f'MLP_CIFAR_teacher_{i}.pth']}%\")\n",
        "        except requests.exceptions.RequestException as e:\n",
        "            print(f\"Error fetching JSON: {e}\")\n",
        "\n",
        "        if import_models:\n",
        "                teacher = load_model_from_github(TeacherModel, model_url, device, 32*32*3)\n",
        "                teacher_modelsCIFAR.append(teacher)"
      ]
    },
    {
      "cell_type": "code",
      "execution_count": 69,
      "metadata": {
        "cellView": "form",
        "id": "LDMbrUf0qqrD"
      },
      "outputs": [],
      "source": [
        "#@title Defining the other NNs$^{11.4}$\n",
        "\n",
        "class DeepCNN(nn.Module):\n",
        "    def __init__(self, input_size = 32*32):\n",
        "        super(DeepCNN, self).__init__()\n",
        "        self.features = nn.Sequential(\n",
        "            nn.Conv2d(3, 128, kernel_size=3, padding=1),\n",
        "            nn.ReLU(),\n",
        "            nn.Conv2d(128, 64, kernel_size=3, padding=1),\n",
        "            nn.ReLU(),\n",
        "            nn.MaxPool2d(kernel_size=2, stride=2),\n",
        "            nn.Conv2d(64, 64, kernel_size=3, padding=1),\n",
        "            nn.ReLU(),\n",
        "            nn.Conv2d(64, 32, kernel_size=3, padding=1),\n",
        "            nn.ReLU(),\n",
        "            nn.MaxPool2d(kernel_size=2, stride=2),\n",
        "        )\n",
        "        self.classifier = nn.Sequential(\n",
        "            nn.Linear(2048, 512),\n",
        "            nn.ReLU(),\n",
        "            nn.Dropout(0.1),\n",
        "            nn.Linear(512, 10)\n",
        "        )\n",
        "\n",
        "    def forward(self, x):\n",
        "        x = self.features(x)\n",
        "        x = torch.flatten(x, 1)\n",
        "        x = self.classifier(x)\n",
        "        return x\n",
        "\n",
        "\n",
        "class ShallowDenseNet2(nn.Module):\n",
        "    def __init__(self, input_size = 32*32, num_channels = 3):\n",
        "        super(ShallowDenseNet2, self).__init__()\n",
        "        self.input_size = input_size\n",
        "        self.conv1 = nn.Conv2d(num_channels, 8, kernel_size=3, padding=1)\n",
        "        self.denseblock = nn.Sequential(\n",
        "            nn.BatchNorm2d(8),\n",
        "            nn.ReLU(inplace=True),\n",
        "            nn.Conv2d(8, 16, kernel_size=3, padding=1),\n",
        "            nn.BatchNorm2d(16),\n",
        "            nn.ReLU(inplace=True),\n",
        "            nn.Conv2d(16, 8, kernel_size=3, padding=1)\n",
        "        )\n",
        "        self.fc = nn.Linear(8 * input_size, 10)\n",
        "\n",
        "    def forward(self, x):\n",
        "        x = self.conv1(x)\n",
        "        x = self.denseblock(x) + x\n",
        "        x = x.view(-1, 8 * self.input_size)\n",
        "        x = self.fc(x)\n",
        "        return x"
      ]
    },
    {
      "cell_type": "code",
      "execution_count": 70,
      "metadata": {
        "id": "TZJ4P-j8k_Nv",
        "colab": {
          "base_uri": "https://localhost:8080/"
        },
        "outputId": "aafa98c6-e500-4a7a-8c7a-989f9fe63ea7"
      },
      "outputs": [
        {
          "output_type": "stream",
          "name": "stdout",
          "text": [
            "CNN test accuracy: 76.3%\n",
            "ShallowDenseNet test accuracy: 62.52%\n",
            "MLP test accuracy: 46.17%\n",
            "CNN test accuracy: 79.9%\n",
            "ShallowDenseNet test accuracy: 63.08%\n",
            "MLP test accuracy: 48.7%\n",
            "CNN test accuracy: 79.27%\n",
            "ShallowDenseNet test accuracy: 63.07%\n",
            "MLP test accuracy: 47.7%\n",
            "CNN test accuracy: 77.79%\n",
            "ShallowDenseNet test accuracy: 61.78%\n",
            "MLP test accuracy: 48.58%\n",
            "CNN test accuracy: 78.28%\n",
            "ShallowDenseNet test accuracy: 62.33%\n",
            "MLP test accuracy: 47.65%\n"
          ]
        }
      ],
      "source": [
        "#@title Training the other NNs\n",
        "\n",
        "teacher_modelsCIFAR_different = []\n",
        "json_url = 'https://raw.github.com/FRAMAX444/Knowledge-Distillation/main/saved_results/CIFAR_teachers.json'\n",
        "prefix_url = 'https://raw.github.com/FRAMAX444/Knowledge-Distillation/main/neural_networks/CIFAR_teachers'\n",
        "for i in range(5):\n",
        "    if not saved_results:\n",
        "        if not trained_models:\n",
        "            torch.manual_seed(i)\n",
        "            cnn = DeepCNN().to(device)\n",
        "            train(cnn, 10, train_loaderCIFAR)\n",
        "            torch.save(cnn.state_dict(), f'CNN_CIFAR_teacher_{i}.pth')\n",
        "            with zipfile.ZipFile('CIFAR_teachers.zip', 'a') as zipf: zipf.write(f'CNN_CIFAR_teacher_{i}.pth')\n",
        "            torch.manual_seed(i)\n",
        "            shallowdensenet = ShallowDenseNet2().to(device)\n",
        "            train(shallowdensenet, 10, train_loaderCIFAR)\n",
        "            torch.save(shallowdensenet.state_dict(), f'SDNT_CIFAR_teacher_{i}.pth')\n",
        "            with zipfile.ZipFile('CIFAR_teachers.zip', 'a') as zipf: zipf.write(f'SDNT_CIFAR_teacher_{i}.pth')\n",
        "\n",
        "        else:\n",
        "            torch.manual_seed(i)\n",
        "\n",
        "            cnn = load_model_from_github(DeepCNN, prefix_url+f'/CNN_CIFAR_teacher_{i}.pth', device)\n",
        "            cnn_acc = test_model(cnn, test_loaderCIFAR)\n",
        "\n",
        "            sdnt = load_model_from_github(ShallowDenseNet2, prefix_url+f'/SDNT_CIFAR_teacher_{i}.pth', device, 32*32)\n",
        "            sdnt_acc = test_model(sdnt, test_loaderCIFAR)\n",
        "\n",
        "            mlp = load_model_from_github(TeacherModel, prefix_url+f'/MLP_CIFAR_teacher_{i}.pth', device, 32*32*3)\n",
        "            mlp_acc = test_model(mlp, test_loaderCIFAR)\n",
        "\n",
        "            teacher_modelsCIFAR_different.append(cnn)\n",
        "            teacher_modelsCIFAR_different.append(sdnt)\n",
        "            teacher_modelsCIFAR_different.append(mlp)\n",
        "\n",
        "            if save_jsons:\n",
        "                try:\n",
        "                    with open(f'CIFAR_teachers.json', 'r') as json_file:\n",
        "                        CIFAR_teachers = json.load(json_file)\n",
        "                except FileNotFoundError:\n",
        "                    CIFAR_teachers = {}\n",
        "\n",
        "                if f'CNN_teacher_{i}.pth' not in CIFAR_teachers:\n",
        "                    CIFAR_teachers[f'CNN_CIFAR_teacher_{i}.pth'] = cnn_acc\n",
        "\n",
        "                if f'SDNT_teacher_{i}.pth' not in CIFAR_teachers:\n",
        "                    CIFAR_teachers[f'SDNT_CIFAR_teacher_{i}.pth'] = sdnt_acc\n",
        "\n",
        "                if f'MLP_teacher_{i}.pth' not in CIFAR_teachers:\n",
        "                    CIFAR_teachers[f'MLP_CIFAR_teacher_{i}.pth'] = mlp_acc\n",
        "\n",
        "                with open('CIFAR_teachers.json', 'w') as file:\n",
        "                    json.dump(CIFAR_teachers, file, indent=4)\n",
        "    else:\n",
        "        try:\n",
        "            response = requests.get(json_url)\n",
        "            CIFAR_teachers = response.json()\n",
        "        except requests.exceptions.RequestException as e:\n",
        "            print(f\"Error fetching JSON: {e}\")\n",
        "        print(f\"CNN test accuracy: {CIFAR_teachers[f'CNN_CIFAR_teacher_{i}.pth']}%\")\n",
        "        print(f\"ShallowDenseNet test accuracy: {CIFAR_teachers[f'SDNT_CIFAR_teacher_{i}.pth']}%\")\n",
        "        print(f\"MLP test accuracy: {CIFAR_teachers[f'MLP_CIFAR_teacher_{i}.pth']}%\")\n",
        "\n",
        "        if import_models:\n",
        "            cnn = load_model_from_github(DeepCNN, prefix_url+f'/CNN_CIFAR_teacher_{i}.pth', device)\n",
        "            sdnt = load_model_from_github(ShallowDenseNet2, prefix_url+f'/SDNT_CIFAR_teacher_{i}.pth', device, 32*32)\n",
        "            mlp = load_model_from_github(TeacherModel, prefix_url+f'/MLP_CIFAR_teacher_{i}.pth', device, 32*32*3)\n",
        "\n",
        "            teacher_modelsCIFAR_different += [cnn, sdnt, mlp]"
      ]
    },
    {
      "cell_type": "markdown",
      "metadata": {
        "id": "zrzrCoCIYj_b"
      },
      "source": [
        "I define a dictionary to store the results of the various tests in this section"
      ]
    },
    {
      "cell_type": "code",
      "execution_count": 71,
      "metadata": {
        "id": "TKOeyjuseT-1"
      },
      "outputs": [],
      "source": [
        "plot = {'baseline': [],\n",
        " '1 MLP': [],\n",
        " '2 MLP': [],\n",
        " '5 MLP': [],\n",
        " '10 MLP': [],\n",
        " '20 MLP': [],\n",
        " '1 CNN05': [],\n",
        " '1 CNN075': [],\n",
        " '3 mixed models': [],\n",
        " '9 mixed models': [],\n",
        " '15 mixed models': []}"
      ]
    },
    {
      "cell_type": "code",
      "execution_count": 72,
      "metadata": {
        "cellView": "form",
        "id": "ugoL6MqG1uel",
        "colab": {
          "base_uri": "https://localhost:8080/"
        },
        "outputId": "5f9360fc-0907-4377-c633-5b8db52b8280"
      },
      "outputs": [
        {
          "output_type": "stream",
          "name": "stdout",
          "text": [
            "Test accuracy: 42.67%\n",
            "Test accuracy: 43.32%\n",
            "Test accuracy: 43.75%\n"
          ]
        }
      ],
      "source": [
        "#@title StudentModel baseline\n",
        "student_models_CIFAR_1 = []\n",
        "\n",
        "json_url = 'https://raw.github.com/FRAMAX444/Knowledge-Distillation/main/saved_results/baseline_CIFAR.json'\n",
        "\n",
        "for i in range(3):\n",
        "    model_url = f'https://raw.github.com/FRAMAX444/Knowledge-Distillation/main/neural_networks/CIFAR_baseline/smaller_model_{i}_CIFAR.pth'\n",
        "    if not saved_results:\n",
        "        if not trained_models:\n",
        "            torch.manual_seed(i)\n",
        "            smaller_model = StudentModel(input_size = 32*32*3).to(device)\n",
        "            smaller_model = train(smaller_model, 10, train_loaderCIFAR)\n",
        "            smaller_accuracy = test_model(smaller_model, test_loaderCIFAR)\n",
        "            torch.save(smaller_model.state_dict(), f'smaller_model_{i}_CIFAR.pth')\n",
        "\n",
        "            with zipfile.ZipFile(f'smaller_model_1_CIFAR.pth', 'a') as zipf:\n",
        "                zipf.write(f'smaller_model_1_CIFAR.pth')\n",
        "\n",
        "        else:\n",
        "            smaller_model = load_model_from_github(StudentModel, model_url, device, 32*32*3)\n",
        "            smaller_accuracy = test_model(smaller_model, test_loaderCIFAR)\n",
        "\n",
        "\n",
        "        plot['baseline'].append(smaller_accuracy)\n",
        "        if save_jsons:\n",
        "            try:\n",
        "                with open('baseline_CIFAR.json', 'r') as json_file:\n",
        "                    data = json.load(json_file)\n",
        "            except FileNotFoundError:\n",
        "                data = {}\n",
        "\n",
        "            if f'smaller_model_{i}_CIFAR.pth' not in data:\n",
        "                data[f'smaller_model_{i}_CIFAR.pth'] = smaller_accuracy\n",
        "\n",
        "                with open('baseline_CIFAR.json', 'w') as file:\n",
        "                    json.dump(data, file, indent=4)\n",
        "\n",
        "        if import_models:\n",
        "            student_models_CIFAR_1.append(smaller_model)\n",
        "    else:\n",
        "        try:\n",
        "            response = requests.get(json_url)\n",
        "            students_CIFAR = response.json()\n",
        "            print(f\"Test accuracy: {students_CIFAR[f'smaller_model_{i}_CIFAR.pth']}%\")\n",
        "        except requests.exceptions.RequestException as e:\n",
        "            print(f\"Error fetching JSON: {e}\")\n",
        "        if import_models:\n",
        "            smaller_model = load_model_from_github(StudentModel, model_url, device, 32*32*3)\n",
        "            student_models_CIFAR_1.append(smaller_model)\n",
        "        plot['baseline'].append(students_CIFAR[f'smaller_model_{i}_CIFAR.pth'])"
      ]
    },
    {
      "cell_type": "code",
      "execution_count": 73,
      "metadata": {
        "cellView": "form",
        "colab": {
          "base_uri": "https://localhost:8080/"
        },
        "id": "UUQ8jm-zzmAB",
        "outputId": "65520106-c62a-4de4-bf5c-8997089ce456"
      },
      "outputs": [
        {
          "output_type": "stream",
          "name": "stdout",
          "text": [
            "Test accuracy: 44.28%\n",
            "Test accuracy: 43.48%\n",
            "Test accuracy: 43.37%\n"
          ]
        }
      ],
      "source": [
        "#@title 1 MLP teacher\n",
        "\n",
        "teacherMLP_1 = []\n",
        "json_url = \"https://raw.github.com/FRAMAX444/Knowledge-Distillation/main/saved_results/students_CIFAR.json\"\n",
        "\n",
        "for i in range(3):\n",
        "    model_url = f\"https://raw.github.com/FRAMAX444/Knowledge-Distillation/main/neural_networks/CIFAR_1MLP_student/student_model_{i}_CIFAR.pth\"\n",
        "    if not saved_results:\n",
        "        if not trained_models:\n",
        "            torch.manual_seed(i)\n",
        "            student_model = StudentModel(32*32*3).to(device)\n",
        "            student_model = train_student_model(teacher_modelsCIFAR[0], student_model, train_loaderCIFAR, 10)\n",
        "            student_accuracy = test_model(student_model, test_loaderCIFAR)\n",
        "            torch.save(student_model.state_dict(), f'student_model_{i}_CIFAR.pth')\n",
        "\n",
        "            with zipfile.ZipFile('CIFAR_1MLP_student.zip', 'a') as zipf:\n",
        "                zipf.write(f'student_model_{i}_CIFAR.pth')\n",
        "        else:\n",
        "            student_model = load_model_from_github(StudentModel, model_url, device, 32*32*3)\n",
        "            student_accuracy = test_model(student_model, test_loaderCIFAR)\n",
        "        plot['1 MLP'].append(student_accuracy)\n",
        "        if save_jsons:\n",
        "            try:\n",
        "                with open('students_CIFAR.json', 'r') as json_file:\n",
        "                    data = json.load(json_file)\n",
        "            except FileNotFoundError:\n",
        "                data = {}\n",
        "\n",
        "            if f'student_model_{i}_CIFAR.pth' not in data:\n",
        "                data[f'student_model_{i}_CIFAR.pth'] = student_accuracy\n",
        "\n",
        "                with open('students_CIFAR.json', 'w') as file:\n",
        "                    json.dump(data, file, indent=4)\n",
        "\n",
        "        if import_models:\n",
        "            teacherMLP_1.append(student_model)\n",
        "    else:\n",
        "        try:\n",
        "            response = requests.get(json_url)\n",
        "            students_CIFAR = response.json()\n",
        "            print(f\"Test accuracy: {students_CIFAR[f'student_model_{i}_CIFAR.pth']}%\")\n",
        "        except requests.exceptions.RequestException as e:\n",
        "            print(f\"Error fetching JSON: {e}\")\n",
        "\n",
        "        if import_models:\n",
        "            student_model = load_model_from_github(StudentModel, model_url, device, 32*32*3)\n",
        "            teacherMLP_1.append(student_model)\n",
        "\n",
        "        plot['1 MLP'].append(students_CIFAR[f'student_model_{i}_CIFAR.pth'])"
      ]
    },
    {
      "cell_type": "code",
      "execution_count": 74,
      "metadata": {
        "cellView": "form",
        "id": "jECyMfWcGmwT",
        "colab": {
          "base_uri": "https://localhost:8080/"
        },
        "outputId": "53b30da6-6684-480b-c7bf-65b793f7d3a2"
      },
      "outputs": [
        {
          "output_type": "stream",
          "name": "stdout",
          "text": [
            "Test accuracy: 43.57%\n",
            "Test accuracy: 43.58%\n",
            "Test accuracy: 43.17%\n"
          ]
        }
      ],
      "source": [
        "#@title 1 CNN teacher with $\\alpha=0.5$\n",
        "\n",
        "cnn05_1 = []\n",
        "json_url = 'https://raw.github.com/FRAMAX444/Knowledge-Distillation/main/saved_results/students_CIFAR.json'\n",
        "\n",
        "for i in range(3):\n",
        "    model_url = f'https://raw.github.com/FRAMAX444/Knowledge-Distillation/main/neural_networks/CIFAR_1CNN05_student/student_modelCNN05_{i}_CIFAR.pth'\n",
        "    if not saved_results:\n",
        "        if not trained_models:\n",
        "            torch.manual_seed(i)\n",
        "            student_model = StudentModel(32*32*3).to(device)\n",
        "            student_model = train_student_model(teacher_modelsCIFAR_different[0], student_model, train_loaderCIFAR, 10, 0.5, 2.0)\n",
        "            student_accuracy = test_model(student_model, test_loaderCIFAR)\n",
        "            torch.save(student_model.state_dict(), f'student_modelCNN_{i}_CIFAR.pth')\n",
        "\n",
        "            with zipfile.ZipFile('CIFAR_1CNN05_student.zip', 'a') as zipf:\n",
        "                zipf.write(f'student_modelCNN_{i}_CIFAR.pth')\n",
        "        else:\n",
        "            student_model = load_model_from_github(StudentModel, model_url, device, 32*32*3)\n",
        "            student_accuracy = test_model(student_model, test_loaderCIFAR)\n",
        "        plot['1 CNN05'].append(student_accuracy)\n",
        "        if save_jsons:\n",
        "            try:\n",
        "                with open('students_CIFAR.json', 'r') as json_file:\n",
        "                    data = json.load(json_file)\n",
        "            except FileNotFoundError:\n",
        "                data = {}\n",
        "\n",
        "            if f'student_modelCNN05_{i}_CIFAR.pth' not in data:\n",
        "                data[f'student_modelCNN05_{i}_CIFAR.pth'] = student_accuracy\n",
        "\n",
        "                with open('students_CIFAR.json', 'w') as file:\n",
        "                    json.dump(data, file, indent=4)\n",
        "\n",
        "        if import_models:\n",
        "            cnn05_1.append(student_model)\n",
        "    else:\n",
        "        try:\n",
        "            response = requests.get(json_url)\n",
        "            students_CIFAR = response.json()\n",
        "            print(f\"Test accuracy: {students_CIFAR[f'student_modelCNN05_{i}_CIFAR.pth']}%\")\n",
        "        except requests.exceptions.RequestException as e:\n",
        "            print(f\"Error fetching JSON: {e}\")\n",
        "        plot['1 CNN05'].append(students_CIFAR[f'student_modelCNN05_{i}_CIFAR.pth'])\n",
        "        if import_models:\n",
        "            student_model = load_model_from_github(StudentModel, model_url, device, 32*32*3)\n",
        "            cnn05_1.append(student_model)"
      ]
    },
    {
      "cell_type": "markdown",
      "metadata": {
        "id": "r9GpizGAZQGH"
      },
      "source": [
        "Given the very high precision of CNN in previous training, I also try to raise the value of $\\alpha$ to make the student more dependent on CNN’s predictions"
      ]
    },
    {
      "cell_type": "code",
      "execution_count": 75,
      "metadata": {
        "cellView": "form",
        "id": "vOpSsT51BQk2",
        "colab": {
          "base_uri": "https://localhost:8080/"
        },
        "outputId": "f5e6e5e6-3702-4f7e-93ed-82e22caab2e0"
      },
      "outputs": [
        {
          "output_type": "stream",
          "name": "stdout",
          "text": [
            "Test accuracy: 44.26%\n",
            "Test accuracy: 42.17%\n",
            "Test accuracy: 41.83%\n"
          ]
        }
      ],
      "source": [
        "#@title 1 CNN teacher with $\\alpha=0.75$\n",
        "cnn075_1 = []\n",
        "json_url = 'https://raw.github.com/FRAMAX444/Knowledge-Distillation/main/saved_results/students_CIFAR.json'\n",
        "for i in range(3):\n",
        "    model_url = f'https://raw.github.com/FRAMAX444/Knowledge-Distillation/main/neural_networks/CIFAR_1_CNN075_student/student_modelCNN075_{i}_CIFAR.pth'\n",
        "    if not saved_results:\n",
        "        if not trained_models:\n",
        "            torch.manual_seed(i)\n",
        "            student_model = StudentModel(32*32*3).to(device)\n",
        "            student_model = train_student_model(teacher_modelsCIFAR_different[0], student_model, train_loaderCIFAR, 10, 0.75, 2.0)\n",
        "            student_accuracy = test_model(student_model, test_loaderCIFAR)\n",
        "            torch.save(student_model.state_dict(), f'student_modelCNN_{i}_CIFAR.pth')\n",
        "\n",
        "            with zipfile.ZipFile('students_CIFAR.zip', 'a') as zipf:\n",
        "                zipf.write(f'student_modelCNN_{i}_CIFAR.pth')\n",
        "        else:\n",
        "            student_model = load_model_from_github(StudentModel, model_url, device, 32*32*3)\n",
        "            student_accuracy = test_model(student_model, test_loaderCIFAR)\n",
        "        plot['1 CNN075'].append(student_accuracy)\n",
        "        if save_jsons:\n",
        "            try:\n",
        "                with open('students_CIFAR.json', 'r') as json_file:\n",
        "                    data = json.load(json_file)\n",
        "            except FileNotFoundError:\n",
        "                data = {}\n",
        "\n",
        "            if f'student_modelCNN075_{i}_CIFAR.pth' not in data:\n",
        "                data[f'student_modelCNN075_{i}_CIFAR.pth'] = student_accuracy\n",
        "\n",
        "                with open('students_CIFAR.json', 'w') as file:\n",
        "                    json.dump(data, file, indent=4)\n",
        "\n",
        "        if import_models:\n",
        "            cnn075_1.append(student_model)\n",
        "    else:\n",
        "        try:\n",
        "            response = requests.get(json_url)\n",
        "            students_CIFAR = response.json()\n",
        "            print(f\"Test accuracy: {students_CIFAR[f'student_modelCNN075_{i}_CIFAR.pth']}%\")\n",
        "        except requests.exceptions.RequestException as e:\n",
        "            print(f\"Error fetching JSON: {e}\")\n",
        "        plot['1 CNN075'].append(students_CIFAR[f'student_modelCNN075_{i}_CIFAR.pth'])\n",
        "        if import_models:\n",
        "            student_model = load_model_from_github(StudentModel, model_url, device, 32*32*3)\n",
        "            cnn075_1.append(student_model)"
      ]
    },
    {
      "cell_type": "markdown",
      "metadata": {
        "id": "3T1KRkhU0xuH"
      },
      "source": [
        "Start training now via Prediction Averaging for StudentModels"
      ]
    },
    {
      "cell_type": "code",
      "execution_count": 76,
      "metadata": {
        "cellView": "form",
        "id": "bQjIjUnDgUcg",
        "colab": {
          "base_uri": "https://localhost:8080/"
        },
        "outputId": "5086ffa4-7c0a-4ac4-9db5-7883f50f9998"
      },
      "outputs": [
        {
          "output_type": "stream",
          "name": "stdout",
          "text": [
            "Test accuracy: 44.56%\n",
            "Test accuracy: 43.68%\n",
            "Test accuracy: 44.4%\n",
            "Test accuracy: 45.24%\n",
            "Test accuracy: 44.27%\n",
            "Test accuracy: 44.05%\n",
            "Test accuracy: 44.19%\n",
            "Test accuracy: 43.4%\n",
            "Test accuracy: 44.2%\n",
            "Test accuracy: 44.49%\n",
            "Test accuracy: 43.97%\n",
            "Test accuracy: 43.0%\n"
          ]
        }
      ],
      "source": [
        "#@title Training StudentModels with 2, 5, 10, 20 TeacherModels\n",
        "\n",
        "stored_students_MTKD_1 = []\n",
        "num_teachers = [2, 5, 10, 20]\n",
        "\n",
        "\n",
        "for_graph = []\n",
        "json_url = 'https://raw.github.com/FRAMAX444/Knowledge-Distillation/main/saved_results/CIFAR_MTKD_AVG_MLP.json'\n",
        "for num in num_teachers:\n",
        "    for i in range(3):\n",
        "        prefix_url = f'https://raw.github.com/FRAMAX444/Knowledge-Distillation/main/neural_networks/CIFAR_MTKD_students/CIFAR_MTKD_student_{num}_{i}.pth'\n",
        "        if not saved_results:\n",
        "            if not trained_models:\n",
        "                torch.manual_seed(i)\n",
        "\n",
        "                student_model_distillated = StudentModel(input_size = 32*32*3).to(device)\n",
        "                student_model_distillated = train_student_model_multi_teacher(teacher_modelsCIFAR[:num], student_model_distillated, loader = train_loaderCIFAR, epochs=10, alpha=0.5, T=2.0, device='cpu')\n",
        "                student_distillated_accuracy = test_model(student_model_distillated, test_loaderCIFAR)\n",
        "\n",
        "                torch.save(student_model_distillated.state_dict(), f'CIFAR_MTKD_student_{num}_{i}.pth')\n",
        "                with zipfile.ZipFile(f'CIFAR_MTKD_students_.zip', 'a') as zipf:\n",
        "                    zipf.write(f'CIFAR_MTKD_student_{num}_{i}.pth')\n",
        "            else:\n",
        "                torch.manual_seed(i)\n",
        "                student_model_distillated = load_model_from_github(StudentModel, prefix_url, device, 32*32*3)\n",
        "                student_distillated_accuracy = test_model(student_model_distillated, test_loaderCIFAR)\n",
        "\n",
        "            plot[f'{num} MLP'].append(student_distillated_accuracy)\n",
        "\n",
        "            if save_jsons:\n",
        "                try:\n",
        "                    with open('CIFAR_MTKD_AVG_MLP.json', 'r') as json_file:\n",
        "                        data = json.load(json_file)\n",
        "                except FileNotFoundError:\n",
        "                    data = {}\n",
        "\n",
        "                key = f'{num}_{i}'\n",
        "                if key not in data:\n",
        "                    data[key] = [student_distillated_accuracy, num, 0.5, 2.0]\n",
        "\n",
        "                    with open('CIFAR_MTKD_AVG_MLP.json', 'w') as file:\n",
        "                        json.dump(data, file, indent=4)\n",
        "            if import_models:\n",
        "                stored_students_MTKD_1.append(student_model_distillated)\n",
        "\n",
        "        else:\n",
        "            try:\n",
        "                response = requests.get(json_url)\n",
        "                CIFAR_MTKD_AVG = response.json()\n",
        "                print(f\"Test accuracy: {CIFAR_MTKD_AVG[f'{num}_{i}'][0]}%\")\n",
        "            except requests.exceptions.RequestException as e:\n",
        "                print(f\"Error fetching JSON: {e}\")\n",
        "            for_graph.append(CIFAR_MTKD_AVG[f'{num}_{i}'])\n",
        "            plot[f'{num} MLP'].append(CIFAR_MTKD_AVG[f'{num}_{i}'][0])\n",
        "            if import_models:\n",
        "                student_model = load_model_from_github(StudentModel, prefix_url, device,32*32*3)\n",
        "                stored_students_MTKD_1.append(student_model)"
      ]
    },
    {
      "cell_type": "code",
      "execution_count": 77,
      "metadata": {
        "cellView": "form",
        "id": "0Xj1fBc-tQ7Q",
        "colab": {
          "base_uri": "https://localhost:8080/"
        },
        "outputId": "8a8d7d50-046b-47be-a51c-522c3d992a00"
      },
      "outputs": [
        {
          "output_type": "stream",
          "name": "stdout",
          "text": [
            "Test accuracy: 44.33%\n",
            "Test accuracy: 43.47%\n",
            "Test accuracy: 42.94%\n",
            "Test accuracy: 43.45%\n",
            "Test accuracy: 43.25%\n",
            "Test accuracy: 43.07%\n",
            "Test accuracy: 44.0%\n",
            "Test accuracy: 44.78%\n",
            "Test accuracy: 44.77%\n"
          ]
        }
      ],
      "source": [
        "#@title Training StudentModels with 3, 9, 15 mixed teachers\n",
        "\n",
        "\n",
        "stored_students_MTKD_1 = []\n",
        "num_teachers = [3,9,15]\n",
        "for_graph = []\n",
        "json_url = 'https://raw.github.com/FRAMAX444/Knowledge-Distillation/main/saved_results/CIFAR_MTKD_AVG_2.json'\n",
        "\n",
        "for num in num_teachers:\n",
        "    for i in range(3):\n",
        "        model_url = f'https://raw.github.com/FRAMAX444/Knowledge-Distillation/main/neural_networks/CIFAR_MTKD_students_2/CIFAR_MTKD_student_{num}_{i}_2.pth'\n",
        "        if not saved_results:\n",
        "            if not trained_models:\n",
        "                torch.manual_seed(i)\n",
        "\n",
        "                student_model_distillated = StudentModel(input_size = 32*32*3).to(device)\n",
        "                student_model_distillated = train_student_model_multi_teacher(teacher_modelsCIFAR_different[:num], student_model_distillated, loader = train_loaderCIFAR, epochs=10, alpha=0.5, T=2.0, device='cpu')\n",
        "                student_distillated_accuracy = test_model(student_model_distillated, test_loaderCIFAR)\n",
        "\n",
        "                torch.save(student_model_distillated.state_dict(), f'CIFAR_MTKD_student_{num}_{i}_2.pth')\n",
        "                with zipfile.ZipFile(f'CIFAR_MTKD_students_2.zip', 'a') as zipf:\n",
        "                    zipf.write(f'CIFAR_MTKD_student_{num}_{i}_2.pth')\n",
        "            else:\n",
        "                torch.manual_seed(i)\n",
        "                student_model_distillated = load_model_from_github(StudentModel, model_url, device, 32*32*3)\n",
        "                student_distillated_accuracy = test_model(student_model_distillated, test_loaderCIFAR)\n",
        "\n",
        "            plot[f'{num} mixed models'].append(student_distillated_accuracy)\n",
        "\n",
        "            if save_jsons:\n",
        "                try:\n",
        "                    with open('CIFAR_MTKD_AVG_2.json', 'r') as json_file:\n",
        "                        data = json.load(json_file)\n",
        "                except FileNotFoundError:\n",
        "                    data = {}\n",
        "\n",
        "                key = f'{num}_{i}'\n",
        "                if key not in data:\n",
        "                    data[key] = [student_distillated_accuracy, num, 0.5, 2.0]\n",
        "\n",
        "                    with open('CIFAR_MTKD_AVG_2.json', 'w') as file:\n",
        "                        json.dump(data, file, indent=4)\n",
        "            if import_models:\n",
        "                stored_students_MTKD_1.append(student_model_distillated)\n",
        "\n",
        "        else:\n",
        "            try:\n",
        "                response = requests.get(json_url)\n",
        "                CIFAR_MTKD_AVG_2 = response.json()\n",
        "                print(f\"Test accuracy: {CIFAR_MTKD_AVG_2[f'{num}_{i}'][0]}%\")\n",
        "            except requests.exceptions.RequestException as e:\n",
        "                print(f\"Error fetching JSON: {e}\")\n",
        "            plot[f'{num} mixed models'].append(CIFAR_MTKD_AVG_2[f'{num}_{i}'][0])\n",
        "            if import_models:\n",
        "                student_model = load_model_from_github(StudentModel, model_url, device, 32*32*3)\n",
        "                stored_students_MTKD_1.append(student_model)"
      ]
    },
    {
      "cell_type": "code",
      "execution_count": 78,
      "metadata": {
        "cellView": "form",
        "colab": {
          "base_uri": "https://localhost:8080/",
          "height": 515
        },
        "id": "GRQqHzLXZUjw",
        "outputId": "85669837-1dd5-4e77-ebed-5c17df74e991"
      },
      "outputs": [
        {
          "output_type": "display_data",
          "data": {
            "text/plain": [
              "<Figure size 1000x600 with 1 Axes>"
            ],
            "image/png": "[encoded data removed]"
          },
          "metadata": {}
        }
      ],
      "source": [
        "#@title Plotting results\n",
        "plot1 = {}\n",
        "for key in plot.keys():\n",
        "    plot1[key] = np.mean(plot[key])\n",
        "\n",
        "colors = []\n",
        "for key in plot1.keys():\n",
        "    if 'MLP' in key:\n",
        "        colors.append('blue')\n",
        "    elif 'CNN' in key:\n",
        "        colors.append('green')\n",
        "    elif 'mixed models' in key:\n",
        "        colors.append('orange')\n",
        "    else:\n",
        "        colors.append('red')\n",
        "\n",
        "\n",
        "baseline_value = plot1['baseline']\n",
        "plt.figure(figsize=(10, 6))\n",
        "bars = plt.bar(plot1.keys(), plot1.values(), color=colors)\n",
        "plt.ylim(42, 45)\n",
        "plt.axhline(y=baseline_value, color='black', linestyle='--')\n",
        "plt.xticks(rotation=45, ha='right')\n",
        "plt.xlabel('Model Type')\n",
        "plt.ylabel('Average Accuracy')\n",
        "plt.title('Average Accuracy of Different Models')\n",
        "plt.tight_layout()\n",
        "plt.show()\n"
      ]
    },
    {
      "cell_type": "markdown",
      "metadata": {
        "id": "FJLdp4G6aOSG"
      },
      "source": [
        "So, the major improvements do not seem to me to depend, at least in this case, on the variety of teachers or their very high precision. Instead it seems very last to use models equal to the student and more spacious.\n",
        "\n",
        "The observations made in the preceding paragraphs are confirmed, and a good number of teachers are identified in the $5$ range.\n",
        "\n",
        "I find them very interesting results that go against what I thought but tell an interesting story. In fact it is evidently easier for a small MLP to imitate a big MLP than a big CNN. Perhaps, as the ages increased, CNN would have guaranteed better results due to its great accuracy. The same is true for the mixed ensemble of teacher models, since, as I shall illustrate below, this is much more precise.\n",
        "\n",
        "But with the number of eras fixed at $10$ in all the notebook the best way to transfer information to a smaller network proved MTKD with $5$ teachers as I had assumed in the section dedicated to MTKD."
      ]
    },
    {
      "cell_type": "code",
      "execution_count": 79,
      "metadata": {
        "cellView": "form",
        "id": "jvHZ8AipB-SI",
        "colab": {
          "base_uri": "https://localhost:8080/"
        },
        "outputId": "cae31850-6dec-4a4d-8e4e-83cac7cb2dc9"
      },
      "outputs": [
        {
          "output_type": "stream",
          "name": "stdout",
          "text": [
            "Test accuracy: 52.96%\n"
          ]
        }
      ],
      "source": [
        "#@title Combined MLPs accuracy *\n",
        "\n",
        "json_url = 'https://raw.github.com/FRAMAX444/Knowledge-Distillation/main/saved_results/combined_teacher_predictions.json'\n",
        "if not saved_results:\n",
        "    try:\n",
        "        with open('combined_teacher_predictions.json', 'r') as json_file:\n",
        "            Last_Teachers = json.load(json_file)\n",
        "    except FileNotFoundError:\n",
        "        Last_Teachers = {}\n",
        "\n",
        "    combined_final_teachers = combine_teacher_predictions(teacher_modelsCIFAR, False, test_loaderCIFAR)\n",
        "    print(combined_final_teachers)\n",
        "    if 'combined_final_sameteachersCFIAR' not in Last_Teachers:\n",
        "        Last_Teachers['combined_final_sameteachersCFIAR'] = combined_final_teachers\n",
        "        with open('combined_teacher_predictions.json', 'w') as file:\n",
        "            json.dump(Last_Teachers, file, indent=4)\n",
        "else:\n",
        "    try:\n",
        "        response = requests.get(json_url)\n",
        "        CT = response.json()\n",
        "        print(f\"Test accuracy: {CT['combined_final_sameteachersCFIAR']}%\")\n",
        "    except requests.exceptions.RequestException as e:\n",
        "        print(f\"Error fetching JSON: {e}\")\n"
      ]
    },
    {
      "cell_type": "code",
      "execution_count": 80,
      "metadata": {
        "cellView": "form",
        "id": "dD_voUsU1sFj",
        "colab": {
          "base_uri": "https://localhost:8080/"
        },
        "outputId": "ce5cb76a-8cd4-4851-ff54-ebdfb8480446"
      },
      "outputs": [
        {
          "output_type": "stream",
          "name": "stdout",
          "text": [
            "Test accuracy: 79.44%\n"
          ]
        }
      ],
      "source": [
        "#@title  Combined different models accuracy *\n",
        "\n",
        "json_url = 'https://raw.github.com/FRAMAX444/Knowledge-Distillation/main/saved_results/combined_teacher_predictions.json'\n",
        "if not saved_results:\n",
        "    try:\n",
        "        with open('combined_teacher_predictions.json', 'r') as json_file:\n",
        "            Last_Teachers = json.load(json_file)\n",
        "    except FileNotFoundError:\n",
        "        Last_Teachers = {}\n",
        "\n",
        "    combined_final_teachers = combine_teacher_predictions(teacher_modelsCIFAR_different, False, test_loaderCIFAR)\n",
        "    print(combined_final_teachers)\n",
        "    if 'combined_final_teachersCFIAR' not in Last_Teachers:\n",
        "        Last_Teachers['combined_final_teachersCFIAR'] = combined_final_teachers\n",
        "        with open('combined_teacher_predictions.json', 'w') as file:\n",
        "            json.dump(Last_Teachers, file, indent=4)\n",
        "else:\n",
        "    try:\n",
        "        response = requests.get(json_url)\n",
        "        CT = response.json()\n",
        "        print(f\"Test accuracy: {CT['combined_final_teachersCFIAR']}%\")\n",
        "    except requests.exceptions.RequestException as e:\n",
        "        print(f\"Error fetching JSON: {e}\")"
      ]
    },
    {
      "cell_type": "markdown",
      "metadata": {
        "id": "_jogE-lbbo0v"
      },
      "source": [
        "### ***11. Citations***"
      ]
    },
    {
      "cell_type": "markdown",
      "metadata": {
        "id": "06PKsD_lbuMN"
      },
      "source": [
        "**ARTICLES**\n",
        "\n",
        "1.   Gou, J., Yu, B., Maybank, S. J., & Tao, D. (2021). *Knowledge distillation: a survey.* International Journal of Computer Vision, 129(6), 1789–1819. https://doi.org/10.1007/s11263-021-01453-z\n",
        "\n",
        "2. Zuchniak, K. (2023, February 14). *Multi-teacher knowledge distillation as an effective method for compressing ensembles of neural networks.* arXiv.org. https://arxiv.org/abs/2302.07215\n",
        "\n",
        "3.   Zhang, L., Song, J., Gao, A., Chen, J., Bao, C., & Ma, K. (2019, May 17). *Be your own teacher: Improve the performance of convolutional neural networks via self distillation.* arXiv.org. https://arxiv.org/abs/1905.08094\n",
        "\n",
        "**WEBSITES**\n",
        "\n",
        "4.   Alexandros Chariton(n.d.) *Knowledge Distillation Tutorial — PyTorch Tutorials 2.4.0+cu121 documentation. (n.d.).* https://pytorch.org/tutorials/beginner/knowledge_distillation_tutorial.html\n",
        "\n",
        "5. Maddali, S. (2023, February 23). *What are Convolutional Neural Networks (CNN)?* - Nerd For Tech - Medium. Medium. https://medium.com/nerd-for-tech/what-are-convoluted-neural-networks-cnn-b207821fd665\n",
        "\n",
        "6. Miranda, L. (2017, August 12). *Understanding softmax and the negative log-likelihood.* Lj Miranda. https://ljvmiranda921.github.io/notebook/2017/08/13/softmax-and-the-negative-log-likelihood/\n",
        "\n",
        "7. Misri, I. (2022, January 4). *How to set sampling temperature for GPT models - Isaac Misri - Medium. Medium.* https://medium.com/@imisri1/how-to-set-sampling-temperature-for-gpt-models-762887df1fac\n",
        "\n",
        "8. Kurbiel, T. (2022, August 11). *Derivative of the Softmax function and the categorical Cross-Entropy loss. Medium.* https://towardsdatascience.com/derivative-of-the-softmax-function-and-the-categorical-cross-entropy-loss-ffceefc081d1\n",
        "\n",
        "**COURSES**\n",
        "\n",
        "9.  Emanuele Rodolà (n.d.). *Machine Learning annual course for SMIA 2023/24* GitHub - erodola/ML-s2-2024. GitHub. https://github.com/erodola/ML-s2-2024\n",
        "\n",
        "10.   MIT HAN Lab. (2023, October 6). *EfficientML.ai Lecture 9 - Knowledge Distillation (MIT 6.5940, Fall 2023, Zoom)* [Video]. YouTube. https://www.youtube.com/watch?v=dSDW_c789zI\n",
        "\n",
        "\n"
      ]
    }
  ],
  "metadata": {
    "colab": {
      "collapsed_sections": [
        "zSCb7TYoQvYH",
        "hKd8JpGIwt6e",
        "pET_ke7TCgt3"
      ],
      "provenance": []
    },
    "kernelspec": {
      "display_name": "Python 3 (ipykernel)",
      "language": "python",
      "name": "python3"
    },
    "language_info": {
      "codemirror_mode": {
        "name": "ipython",
        "version": 3
      },
      "file_extension": ".py",
      "mimetype": "text/x-python",
      "name": "python",
      "nbconvert_exporter": "python",
      "pygments_lexer": "ipython3",
      "version": "3.9.13"
    }
  },
  "nbformat": 4,
  "nbformat_minor": 0
}